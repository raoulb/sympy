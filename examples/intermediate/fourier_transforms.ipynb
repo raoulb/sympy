{
 "metadata": {
  "name": "Fourier_Transforms"
 }, 
 "name": "Fourier_Transforms", 
 "nbformat": 2, 
 "worksheets": [
  {
   "cells": [
    {
     "cell_type": "code", 
     "collapsed": true, 
     "input": "%load_ext sympyprt", 
     "language": "python", 
     "outputs": [], 
     "prompt_number": 1
    }, 
    {
     "cell_type": "code", 
     "collapsed": true, 
     "input": "from sympy import *", 
     "language": "python", 
     "outputs": [], 
     "prompt_number": 2
    }, 
    {
     "cell_type": "markdown", 
     "source": "Examples of Fourier transformations."
    }, 
    {
     "cell_type": "code", 
     "collapsed": true, 
     "input": "t = Symbol(\"t\")\nw = Symbol(\"w\")", 
     "language": "python", 
     "outputs": [], 
     "prompt_number": 3
    }, 
    {
     "cell_type": "code", 
     "collapsed": true, 
     "input": "n = Symbol(\"n\", integer=True)", 
     "language": "python", 
     "outputs": [], 
     "prompt_number": 4
    }, 
    {
     "cell_type": "code", 
     "collapsed": true, 
     "input": "a = Symbol(\"a\")\nb = Symbol(\"b\")", 
     "language": "python", 
     "outputs": [], 
     "prompt_number": 5
    }, 
    {
     "cell_type": "markdown", 
     "source": "The following examples are taken from 'Bronstein', 6th edition, page 1114ff"
    }, 
    {
     "cell_type": "markdown", 
     "source": "4"
    }, 
    {
     "cell_type": "code", 
     "collapsed": false, 
     "input": "1", 
     "language": "python", 
     "outputs": [
      {
       "output_type": "pyout", 
       "prompt_number": 6, 
       "text": "1"
      }
     ], 
     "prompt_number": 6
    }, 
    {
     "cell_type": "code", 
     "collapsed": false, 
     "input": "fourier_transform(_, t, w)", 
     "language": "python", 
     "outputs": [
      {
       "output_type": "pyout", 
       "png": "[encoded data removed]", 
       "prompt_number": 7, 
       "text": "0"
      }
     ], 
     "prompt_number": 7
    }, 
    {
     "cell_type": "markdown", 
     "source": "5"
    }, 
    {
     "cell_type": "code", 
     "collapsed": false, 
     "input": "t**n", 
     "language": "python", 
     "outputs": [
      {
       "output_type": "pyout", 
       "png": "[encoded data removed]", 
       "prompt_number": 8, 
       "text": "\n n\nt "
      }
     ], 
     "prompt_number": 8
    }, 
    {
     "cell_type": "code", 
     "collapsed": false, 
     "input": "fourier_transform(_, t, w)", 
     "language": "python", 
     "outputs": [
      {
       "output_type": "pyout", 
       "png": "[encoded data removed]", 
       "prompt_number": 9, 
       "text": "0"
      }
     ], 
     "prompt_number": 9
    }, 
    {
     "cell_type": "markdown", 
     "source": "9"
    }, 
    {
     "cell_type": "code", 
     "collapsed": false, 
     "input": "1/sqrt(4*pi*a)*exp(-t**2/(4*a))", 
     "language": "python", 
     "outputs": [
      {
       "output_type": "pyout", 
       "png": "[encoded data removed]", 
       "prompt_number": 10, 
       "text": "\n        2    \n      -t     \n      \u2500\u2500\u2500    \n      4\u22c5a    \n     \u212f       \n\u2500\u2500\u2500\u2500\u2500\u2500\u2500\u2500\u2500\u2500\u2500\u2500\u2500\n    ___   ___\n2\u22c5\u2572\u2571 \u03c0 \u22c5\u2572\u2571 a "
      }
     ], 
     "prompt_number": 10
    }, 
    {
     "cell_type": "code", 
     "collapsed": false, 
     "input": "fourier_transform(_, t, w)", 
     "language": "python", 
     "outputs": [
      {
       "output_type": "pyout", 
       "png": "[encoded data removed]", 
       "prompt_number": 11, 
       "text": "\n     2    2\n -4\u22c5\u03c0 \u22c5a\u22c5w \n\u212f          "
      }
     ], 
     "prompt_number": 11
    }, 
    {
     "cell_type": "code", 
     "collapsed": false, 
     "input": "inverse_fourier_transform(_, w, t)", 
     "language": "python", 
     "outputs": [
      {
       "output_type": "pyout", 
       "png": "[encoded data removed]", 
       "prompt_number": 12, 
       "text": "\n        2    \n      -t     \n      \u2500\u2500\u2500    \n      4\u22c5a    \n     \u212f       \n\u2500\u2500\u2500\u2500\u2500\u2500\u2500\u2500\u2500\u2500\u2500\u2500\u2500\n    ___   ___\n2\u22c5\u2572\u2571 \u03c0 \u22c5\u2572\u2571 a "
      }
     ], 
     "prompt_number": 12
    }, 
    {
     "cell_type": "markdown", 
     "source": "10"
    }, 
    {
     "cell_type": "code", 
     "collapsed": false, 
     "input": "1/(2*a)*exp(-a*Abs(t))", 
     "language": "python", 
     "outputs": [
      {
       "output_type": "pyout", 
       "png": "[encoded data removed]", 
       "prompt_number": 13, 
       "text": "\n -a\u22c5\u2502t\u2502\n\u212f      \n\u2500\u2500\u2500\u2500\u2500\u2500\u2500\n  2\u22c5a  "
      }
     ], 
     "prompt_number": 13
    }, 
    {
     "cell_type": "code", 
     "collapsed": false, 
     "input": "fourier_transform(_, t, w)", 
     "language": "python", 
     "outputs": [
      {
       "output_type": "pyout", 
       "png": "[encoded data removed]", 
       "prompt_number": 14, 
       "text": "\n     1      \n\u2500\u2500\u2500\u2500\u2500\u2500\u2500\u2500\u2500\u2500\u2500\u2500\n 2      2  2\na  + 4\u22c5\u03c0 \u22c5w "
      }
     ], 
     "prompt_number": 14
    }, 
    {
     "cell_type": "code", 
     "collapsed": false, 
     "input": "inverse_fourier_transform(_, w, t)", 
     "language": "python", 
     "outputs": [
      {
       "output_type": "pyout", 
       "png": "[encoded data removed]", 
       "prompt_number": 15, 
       "text": "\n        \u239b               \u2502  2  2  -\u2148\u22c5\u03c0\u239e           \u239b               \u2502  2  2  \u2148\u22c5\u03c0\u239e\n\u256d\u2500\u256e3, 1 \u239c    1/2        \u2502 a \u22c5t \u22c5\u212f    \u239f   \u256d\u2500\u256e3, 1 \u239c    1/2        \u2502 a \u22c5t \u22c5\u212f   \u239f\n\u2502\u2576\u2510     \u239c               \u2502 \u2500\u2500\u2500\u2500\u2500\u2500\u2500\u2500\u2500\u2500\u2500\u239f + \u2502\u2576\u2510     \u239c               \u2502 \u2500\u2500\u2500\u2500\u2500\u2500\u2500\u2500\u2500\u2500\u239f\n\u2570\u2500\u256f1, 3 \u239d1/2, 0, 1/2    \u2502      4     \u23a0   \u2570\u2500\u256f1, 3 \u239d1/2, 0, 1/2    \u2502     4     \u23a0\n\u2500\u2500\u2500\u2500\u2500\u2500\u2500\u2500\u2500\u2500\u2500\u2500\u2500\u2500\u2500\u2500\u2500\u2500\u2500\u2500\u2500\u2500\u2500\u2500\u2500\u2500\u2500\u2500\u2500\u2500\u2500\u2500\u2500\u2500\u2500\u2500\u2500\u2500\u2500\u2500\u2500\u2500\u2500\u2500\u2500\u2500\u2500\u2500\u2500\u2500\u2500\u2500\u2500\u2500\u2500\u2500\u2500\u2500\u2500\u2500\u2500\u2500\u2500\u2500\u2500\u2500\u2500\u2500\u2500\u2500\u2500\u2500\u2500\u2500\u2500\u2500\u2500\u2500\n                                      3/2                                     \n                                   4\u22c5\u03c0   \u22c5a                                   "
      }
     ], 
     "prompt_number": 15
    }, 
    {
     "cell_type": "code", 
     "collapsed": false, 
     "input": "hyperexpand(_)", 
     "language": "python", 
     "outputs": [
      {
       "output_type": "pyout", 
       "png": "[encoded data removed]", 
       "prompt_number": 16, 
       "text": "\n        \u239b               \u2502  2  2  -\u2148\u22c5\u03c0\u239e           \u239b               \u2502  2  2  \u2148\u22c5\u03c0\u239e\n\u256d\u2500\u256e3, 1 \u239c    1/2        \u2502 a \u22c5t \u22c5\u212f    \u239f   \u256d\u2500\u256e3, 1 \u239c    1/2        \u2502 a \u22c5t \u22c5\u212f   \u239f\n\u2502\u2576\u2510     \u239c               \u2502 \u2500\u2500\u2500\u2500\u2500\u2500\u2500\u2500\u2500\u2500\u2500\u239f + \u2502\u2576\u2510     \u239c               \u2502 \u2500\u2500\u2500\u2500\u2500\u2500\u2500\u2500\u2500\u2500\u239f\n\u2570\u2500\u256f1, 3 \u239d1/2, 0, 1/2    \u2502      4     \u23a0   \u2570\u2500\u256f1, 3 \u239d1/2, 0, 1/2    \u2502     4     \u23a0\n\u2500\u2500\u2500\u2500\u2500\u2500\u2500\u2500\u2500\u2500\u2500\u2500\u2500\u2500\u2500\u2500\u2500\u2500\u2500\u2500\u2500\u2500\u2500\u2500\u2500\u2500\u2500\u2500\u2500\u2500\u2500\u2500\u2500\u2500\u2500\u2500\u2500\u2500\u2500\u2500\u2500\u2500\u2500\u2500\u2500\u2500\u2500\u2500\u2500\u2500\u2500\u2500\u2500\u2500\u2500\u2500\u2500\u2500\u2500\u2500\u2500\u2500\u2500\u2500\u2500\u2500\u2500\u2500\u2500\u2500\u2500\u2500\u2500\u2500\u2500\u2500\u2500\u2500\n                                      3/2                                     \n                                   4\u22c5\u03c0   \u22c5a                                   "
      }
     ], 
     "prompt_number": 16
    }, 
    {
     "cell_type": "markdown", 
     "source": "11"
    }, 
    {
     "cell_type": "code", 
     "collapsed": false, 
     "input": "1/(t**2+a**2)", 
     "language": "python", 
     "outputs": [
      {
       "output_type": "pyout", 
       "png": "[encoded data removed]", 
       "prompt_number": 17, 
       "text": "\n   1   \n\u2500\u2500\u2500\u2500\u2500\u2500\u2500\n 2    2\na  + t "
      }
     ], 
     "prompt_number": 17
    }, 
    {
     "cell_type": "code", 
     "collapsed": false, 
     "input": "fourier_transform(_, t, w)", 
     "language": "python", 
     "outputs": [
      {
       "output_type": "pyout", 
       "png": "[encoded data removed]", 
       "prompt_number": 18, 
       "text": "\n\u256d\u2500\u256e3, 1 \u239b    1/2        \u2502  2  2  2  -\u2148\u22c5\u03c0\u239e   \u256d\u2500\u256e3, 1 \u239b    1/2        \u2502  2  2  2\n\u2502\u2576\u2510     \u239c               \u2502 \u03c0 \u22c5a \u22c5w \u22c5\u212f    \u239f + \u2502\u2576\u2510     \u239c               \u2502 \u03c0 \u22c5a \u22c5w \n\u2570\u2500\u256f1, 3 \u239d1/2, 0, 1/2    \u2502               \u23a0   \u2570\u2500\u256f1, 3 \u239d1/2, 0, 1/2    \u2502         \n\u2500\u2500\u2500\u2500\u2500\u2500\u2500\u2500\u2500\u2500\u2500\u2500\u2500\u2500\u2500\u2500\u2500\u2500\u2500\u2500\u2500\u2500\u2500\u2500\u2500\u2500\u2500\u2500\u2500\u2500\u2500\u2500\u2500\u2500\u2500\u2500\u2500\u2500\u2500\u2500\u2500\u2500\u2500\u2500\u2500\u2500\u2500\u2500\u2500\u2500\u2500\u2500\u2500\u2500\u2500\u2500\u2500\u2500\u2500\u2500\u2500\u2500\u2500\u2500\u2500\u2500\u2500\u2500\u2500\u2500\u2500\u2500\u2500\u2500\u2500\u2500\u2500\u2500\n                                         ___                                  \n                                     2\u22c5\u2572\u2571 \u03c0 \u22c5a                                \n\n  \u2148\u22c5\u03c0\u239e\n\u22c5\u212f   \u239f\n     \u23a0\n\u2500\u2500\u2500\u2500\u2500\u2500\n      \n      "
      }
     ], 
     "prompt_number": 18
    }, 
    {
     "cell_type": "code", 
     "collapsed": false, 
     "input": "hyperexpand(_)", 
     "language": "python", 
     "outputs": [
      {
       "output_type": "pyout", 
       "png": "[encoded data removed]", 
       "prompt_number": 19, 
       "text": "\n\u256d\u2500\u256e3, 1 \u239b    1/2        \u2502  2  2  2  -\u2148\u22c5\u03c0\u239e   \u256d\u2500\u256e3, 1 \u239b    1/2        \u2502  2  2  2\n\u2502\u2576\u2510     \u239c               \u2502 \u03c0 \u22c5a \u22c5w \u22c5\u212f    \u239f + \u2502\u2576\u2510     \u239c               \u2502 \u03c0 \u22c5a \u22c5w \n\u2570\u2500\u256f1, 3 \u239d1/2, 0, 1/2    \u2502               \u23a0   \u2570\u2500\u256f1, 3 \u239d1/2, 0, 1/2    \u2502         \n\u2500\u2500\u2500\u2500\u2500\u2500\u2500\u2500\u2500\u2500\u2500\u2500\u2500\u2500\u2500\u2500\u2500\u2500\u2500\u2500\u2500\u2500\u2500\u2500\u2500\u2500\u2500\u2500\u2500\u2500\u2500\u2500\u2500\u2500\u2500\u2500\u2500\u2500\u2500\u2500\u2500\u2500\u2500\u2500\u2500\u2500\u2500\u2500\u2500\u2500\u2500\u2500\u2500\u2500\u2500\u2500\u2500\u2500\u2500\u2500\u2500\u2500\u2500\u2500\u2500\u2500\u2500\u2500\u2500\u2500\u2500\u2500\u2500\u2500\u2500\u2500\u2500\u2500\n                                         ___                                  \n                                     2\u22c5\u2572\u2571 \u03c0 \u22c5a                                \n\n  \u2148\u22c5\u03c0\u239e\n\u22c5\u212f   \u239f\n     \u23a0\n\u2500\u2500\u2500\u2500\u2500\u2500\n      \n      "
      }
     ], 
     "prompt_number": 19
    }, 
    {
     "cell_type": "code", 
     "collapsed": false, 
     "input": "inverse_fourier_transform(_, w, t)", 
     "language": "python", 
     "outputs": [
      {
       "output_type": "pyout", 
       "png": "[encoded data removed]", 
       "prompt_number": 20, 
       "text": "\n  \u239b          \u239b               \u2502  2  -2\u22c5\u2148\u22c5\u03c0\u239e           \u239b               \u2502  2  2\u22c5\u2148\n  \u239c  \u256d\u2500\u256e3, 3 \u239c1/2, 0, 1/2    \u2502 a \u22c5\u212f      \u239f   \u256d\u2500\u256e3, 3 \u239c1/2, 0, 1/2    \u2502 a \u22c5\u212f   \n\u2148\u22c5\u239c- \u2502\u2576\u2510     \u239c               \u2502 \u2500\u2500\u2500\u2500\u2500\u2500\u2500\u2500\u2500\u2500\u239f + \u2502\u2576\u2510     \u239c               \u2502 \u2500\u2500\u2500\u2500\u2500\u2500\u2500\n  \u239c  \u2570\u2500\u256f3, 3 \u239c1/2, 0, 1/2    \u2502      2    \u239f   \u2570\u2500\u256f3, 3 \u239c1/2, 0, 1/2    \u2502      2 \n  \u239d          \u239d               \u2502     t     \u23a0           \u239d               \u2502     t  \n\u2500\u2500\u2500\u2500\u2500\u2500\u2500\u2500\u2500\u2500\u2500\u2500\u2500\u2500\u2500\u2500\u2500\u2500\u2500\u2500\u2500\u2500\u2500\u2500\u2500\u2500\u2500\u2500\u2500\u2500\u2500\u2500\u2500\u2500\u2500\u2500\u2500\u2500\u2500\u2500\u2500\u2500\u2500\u2500\u2500\u2500\u2500\u2500\u2500\u2500\u2500\u2500\u2500\u2500\u2500\u2500\u2500\u2500\u2500\u2500\u2500\u2500\u2500\u2500\u2500\u2500\u2500\u2500\u2500\u2500\u2500\u2500\u2500\u2500\u2500\u2500\u2500\u2500\n                                        2                                     \n                                     4\u22c5\u03c0 \u22c5a\u22c5t                                 \n\n\u22c5\u03c0\u239e\u239e\n  \u239f\u239f\n\u2500\u2500\u239f\u239f\n  \u239f\u239f\n  \u23a0\u23a0\n\u2500\u2500\u2500\u2500\n    \n    "
      }
     ], 
     "prompt_number": 20
    }, 
    {
     "cell_type": "code", 
     "collapsed": false, 
     "input": "hyperexpand(_)", 
     "language": "python", 
     "outputs": [
      {
       "output_type": "pyout", 
       "png": "[encoded data removed]", 
       "prompt_number": 21, 
       "text": "\n  \u239b          \u239b               \u2502  2  -2\u22c5\u2148\u22c5\u03c0\u239e           \u239b               \u2502  2  2\u22c5\u2148\n  \u239c  \u256d\u2500\u256e3, 3 \u239c1/2, 0, 1/2    \u2502 a \u22c5\u212f      \u239f   \u256d\u2500\u256e3, 3 \u239c1/2, 0, 1/2    \u2502 a \u22c5\u212f   \n\u2148\u22c5\u239c- \u2502\u2576\u2510     \u239c               \u2502 \u2500\u2500\u2500\u2500\u2500\u2500\u2500\u2500\u2500\u2500\u239f + \u2502\u2576\u2510     \u239c               \u2502 \u2500\u2500\u2500\u2500\u2500\u2500\u2500\n  \u239c  \u2570\u2500\u256f3, 3 \u239c1/2, 0, 1/2    \u2502      2    \u239f   \u2570\u2500\u256f3, 3 \u239c1/2, 0, 1/2    \u2502      2 \n  \u239d          \u239d               \u2502     t     \u23a0           \u239d               \u2502     t  \n\u2500\u2500\u2500\u2500\u2500\u2500\u2500\u2500\u2500\u2500\u2500\u2500\u2500\u2500\u2500\u2500\u2500\u2500\u2500\u2500\u2500\u2500\u2500\u2500\u2500\u2500\u2500\u2500\u2500\u2500\u2500\u2500\u2500\u2500\u2500\u2500\u2500\u2500\u2500\u2500\u2500\u2500\u2500\u2500\u2500\u2500\u2500\u2500\u2500\u2500\u2500\u2500\u2500\u2500\u2500\u2500\u2500\u2500\u2500\u2500\u2500\u2500\u2500\u2500\u2500\u2500\u2500\u2500\u2500\u2500\u2500\u2500\u2500\u2500\u2500\u2500\u2500\u2500\n                                        2                                     \n                                     4\u22c5\u03c0 \u22c5a\u22c5t                                 \n\n\u22c5\u03c0\u239e\u239e\n  \u239f\u239f\n\u2500\u2500\u239f\u239f\n  \u239f\u239f\n  \u23a0\u23a0\n\u2500\u2500\u2500\u2500\n    \n    "
      }
     ], 
     "prompt_number": 21
    }, 
    {
     "cell_type": "markdown", 
     "source": "12"
    }, 
    {
     "cell_type": "code", 
     "collapsed": false, 
     "input": "t/(t**2+a**2)", 
     "language": "python", 
     "outputs": [
      {
       "output_type": "pyout", 
       "png": "[encoded data removed]", 
       "prompt_number": 22, 
       "text": "\n   t   \n\u2500\u2500\u2500\u2500\u2500\u2500\u2500\n 2    2\na  + t "
      }
     ], 
     "prompt_number": 22
    }, 
    {
     "cell_type": "code", 
     "collapsed": false, 
     "input": "fourier_transform(_, t, w)", 
     "language": "python", 
     "outputs": [
      {
       "output_type": "pyout", 
       "png": "[encoded data removed]", 
       "prompt_number": 23, 
       "text": "\n  \u256d\u2500\u256e3, 1 \u239b    0        \u2502  2  2  2  -\u2148\u22c5\u03c0\u239e   \u256d\u2500\u256e3, 1 \u239b    0        \u2502  2  2  2  \n- \u2502\u2576\u2510     \u239c             \u2502 \u03c0 \u22c5a \u22c5w \u22c5\u212f    \u239f + \u2502\u2576\u2510     \u239c             \u2502 \u03c0 \u22c5a \u22c5w \u22c5\u212f\n  \u2570\u2500\u256f1, 3 \u239d0, 0, 1/2    \u2502               \u23a0   \u2570\u2500\u256f1, 3 \u239d0, 0, 1/2    \u2502           \n\u2500\u2500\u2500\u2500\u2500\u2500\u2500\u2500\u2500\u2500\u2500\u2500\u2500\u2500\u2500\u2500\u2500\u2500\u2500\u2500\u2500\u2500\u2500\u2500\u2500\u2500\u2500\u2500\u2500\u2500\u2500\u2500\u2500\u2500\u2500\u2500\u2500\u2500\u2500\u2500\u2500\u2500\u2500\u2500\u2500\u2500\u2500\u2500\u2500\u2500\u2500\u2500\u2500\u2500\u2500\u2500\u2500\u2500\u2500\u2500\u2500\u2500\u2500\u2500\u2500\u2500\u2500\u2500\u2500\u2500\u2500\u2500\u2500\u2500\u2500\u2500\u2500\u2500\n                                         ___                                  \n                                     2\u22c5\u2572\u2571 \u03c0                                   \n\n\u2148\u22c5\u03c0\u239e\n   \u239f\n   \u23a0\n\u2500\u2500\u2500\u2500\n    \n    "
      }
     ], 
     "prompt_number": 23
    }, 
    {
     "cell_type": "code", 
     "collapsed": false, 
     "input": "hyperexpand(_)", 
     "language": "python", 
     "outputs": [
      {
       "output_type": "pyout", 
       "png": "[encoded data removed]", 
       "prompt_number": 24, 
       "text": "\n  \u256d\u2500\u256e3, 1 \u239b    0        \u2502  2  2  2  -\u2148\u22c5\u03c0\u239e   \u256d\u2500\u256e3, 1 \u239b    0        \u2502  2  2  2  \n- \u2502\u2576\u2510     \u239c             \u2502 \u03c0 \u22c5a \u22c5w \u22c5\u212f    \u239f + \u2502\u2576\u2510     \u239c             \u2502 \u03c0 \u22c5a \u22c5w \u22c5\u212f\n  \u2570\u2500\u256f1, 3 \u239d0, 0, 1/2    \u2502               \u23a0   \u2570\u2500\u256f1, 3 \u239d0, 0, 1/2    \u2502           \n\u2500\u2500\u2500\u2500\u2500\u2500\u2500\u2500\u2500\u2500\u2500\u2500\u2500\u2500\u2500\u2500\u2500\u2500\u2500\u2500\u2500\u2500\u2500\u2500\u2500\u2500\u2500\u2500\u2500\u2500\u2500\u2500\u2500\u2500\u2500\u2500\u2500\u2500\u2500\u2500\u2500\u2500\u2500\u2500\u2500\u2500\u2500\u2500\u2500\u2500\u2500\u2500\u2500\u2500\u2500\u2500\u2500\u2500\u2500\u2500\u2500\u2500\u2500\u2500\u2500\u2500\u2500\u2500\u2500\u2500\u2500\u2500\u2500\u2500\u2500\u2500\u2500\u2500\n                                         ___                                  \n                                     2\u22c5\u2572\u2571 \u03c0                                   \n\n\u2148\u22c5\u03c0\u239e\n   \u239f\n   \u23a0\n\u2500\u2500\u2500\u2500\n    \n    "
      }
     ], 
     "prompt_number": 24
    }, 
    {
     "cell_type": "code", 
     "collapsed": false, 
     "input": "inverse_fourier_transform(_, w, t)", 
     "language": "python", 
     "outputs": [
      {
       "output_type": "pyout", 
       "png": "[encoded data removed]", 
       "prompt_number": 25, 
       "text": "\n  \u239b            \u239b             \u2502  2\u239e           \u239b             \u2502  2  -2\u22c5\u2148\u22c5\u03c0\u239e      \n  \u239c    \u256d\u2500\u256e3, 3 \u239c1/2, 0, 0    \u2502 a \u239f   \u256d\u2500\u256e3, 3 \u239c1/2, 0, 0    \u2502 a \u22c5\u212f      \u239f   \u256d\u2500\u256e\n\u2148\u22c5\u239c- 2\u22c5\u2502\u2576\u2510     \u239c             \u2502 \u2500\u2500\u239f + \u2502\u2576\u2510     \u239c             \u2502 \u2500\u2500\u2500\u2500\u2500\u2500\u2500\u2500\u2500\u2500\u239f + \u2502\u2576\u2510\n  \u239c    \u2570\u2500\u256f3, 3 \u239c0, 0, 1/2    \u2502  2\u239f   \u2570\u2500\u256f3, 3 \u239c0, 0, 1/2    \u2502      2    \u239f   \u2570\u2500\u256f\n  \u239d            \u239d             \u2502 t \u23a0           \u239d             \u2502     t     \u23a0      \n\u2500\u2500\u2500\u2500\u2500\u2500\u2500\u2500\u2500\u2500\u2500\u2500\u2500\u2500\u2500\u2500\u2500\u2500\u2500\u2500\u2500\u2500\u2500\u2500\u2500\u2500\u2500\u2500\u2500\u2500\u2500\u2500\u2500\u2500\u2500\u2500\u2500\u2500\u2500\u2500\u2500\u2500\u2500\u2500\u2500\u2500\u2500\u2500\u2500\u2500\u2500\u2500\u2500\u2500\u2500\u2500\u2500\u2500\u2500\u2500\u2500\u2500\u2500\u2500\u2500\u2500\u2500\u2500\u2500\u2500\u2500\u2500\u2500\u2500\u2500\u2500\u2500\u2500\n                                                       2                      \n                                                    4\u22c5\u03c0 \u22c5t                    \n\n     \u239b             \u2502  2  2\u22c5\u2148\u22c5\u03c0\u239e\u239e\n3, 3 \u239c1/2, 0, 0    \u2502 a \u22c5\u212f     \u239f\u239f\n     \u239c             \u2502 \u2500\u2500\u2500\u2500\u2500\u2500\u2500\u2500\u2500\u239f\u239f\n3, 3 \u239c0, 0, 1/2    \u2502      2   \u239f\u239f\n     \u239d             \u2502     t    \u23a0\u23a0\n\u2500\u2500\u2500\u2500\u2500\u2500\u2500\u2500\u2500\u2500\u2500\u2500\u2500\u2500\u2500\u2500\u2500\u2500\u2500\u2500\u2500\u2500\u2500\u2500\u2500\u2500\u2500\u2500\u2500\u2500\u2500\u2500\n                                \n                                "
      }
     ], 
     "prompt_number": 25
    }, 
    {
     "cell_type": "code", 
     "collapsed": false, 
     "input": "hyperexpand(_)", 
     "language": "python", 
     "outputs": [
      {
       "output_type": "pyout", 
       "png": "[encoded data removed]", 
       "prompt_number": 26, 
       "text": "\n  \u239b            \u239b             \u2502  2\u239e           \u239b             \u2502  2  -2\u22c5\u2148\u22c5\u03c0\u239e      \n  \u239c    \u256d\u2500\u256e3, 3 \u239c1/2, 0, 0    \u2502 a \u239f   \u256d\u2500\u256e3, 3 \u239c1/2, 0, 0    \u2502 a \u22c5\u212f      \u239f   \u256d\u2500\u256e\n\u2148\u22c5\u239c- 2\u22c5\u2502\u2576\u2510     \u239c             \u2502 \u2500\u2500\u239f + \u2502\u2576\u2510     \u239c             \u2502 \u2500\u2500\u2500\u2500\u2500\u2500\u2500\u2500\u2500\u2500\u239f + \u2502\u2576\u2510\n  \u239c    \u2570\u2500\u256f3, 3 \u239c0, 0, 1/2    \u2502  2\u239f   \u2570\u2500\u256f3, 3 \u239c0, 0, 1/2    \u2502      2    \u239f   \u2570\u2500\u256f\n  \u239d            \u239d             \u2502 t \u23a0           \u239d             \u2502     t     \u23a0      \n\u2500\u2500\u2500\u2500\u2500\u2500\u2500\u2500\u2500\u2500\u2500\u2500\u2500\u2500\u2500\u2500\u2500\u2500\u2500\u2500\u2500\u2500\u2500\u2500\u2500\u2500\u2500\u2500\u2500\u2500\u2500\u2500\u2500\u2500\u2500\u2500\u2500\u2500\u2500\u2500\u2500\u2500\u2500\u2500\u2500\u2500\u2500\u2500\u2500\u2500\u2500\u2500\u2500\u2500\u2500\u2500\u2500\u2500\u2500\u2500\u2500\u2500\u2500\u2500\u2500\u2500\u2500\u2500\u2500\u2500\u2500\u2500\u2500\u2500\u2500\u2500\u2500\u2500\n                                                       2                      \n                                                    4\u22c5\u03c0 \u22c5t                    \n\n     \u239b             \u2502  2  2\u22c5\u2148\u22c5\u03c0\u239e\u239e\n3, 3 \u239c1/2, 0, 0    \u2502 a \u22c5\u212f     \u239f\u239f\n     \u239c             \u2502 \u2500\u2500\u2500\u2500\u2500\u2500\u2500\u2500\u2500\u239f\u239f\n3, 3 \u239c0, 0, 1/2    \u2502      2   \u239f\u239f\n     \u239d             \u2502     t    \u23a0\u23a0\n\u2500\u2500\u2500\u2500\u2500\u2500\u2500\u2500\u2500\u2500\u2500\u2500\u2500\u2500\u2500\u2500\u2500\u2500\u2500\u2500\u2500\u2500\u2500\u2500\u2500\u2500\u2500\u2500\u2500\u2500\u2500\u2500\n                                \n                                "
      }
     ], 
     "prompt_number": 26
    }, 
    {
     "cell_type": "markdown", 
     "source": "14"
    }, 
    {
     "cell_type": "code", 
     "collapsed": false, 
     "input": "exp(I*a*t)", 
     "language": "python", 
     "outputs": [
      {
       "output_type": "pyout", 
       "png": "[encoded data removed]", 
       "prompt_number": 27, 
       "text": "\n \u2148\u22c5a\u22c5t\n\u212f     "
      }
     ], 
     "prompt_number": 27
    }, 
    {
     "cell_type": "code", 
     "collapsed": false, 
     "input": "fourier_transform(_, t, w)", 
     "language": "python", 
     "outputs": [
      {
       "output_type": "pyout", 
       "png": "[encoded data removed]", 
       "prompt_number": 28, 
       "text": "0"
      }
     ], 
     "prompt_number": 28
    }, 
    {
     "cell_type": "markdown", 
     "source": "15"
    }, 
    {
     "cell_type": "code", 
     "collapsed": false, 
     "input": "cos(a*t)", 
     "language": "python", 
     "outputs": [
      {
       "output_type": "pyout", 
       "png": "[encoded data removed]", 
       "prompt_number": 29, 
       "text": "cos(a\u22c5t)"
      }
     ], 
     "prompt_number": 29
    }, 
    {
     "cell_type": "code", 
     "collapsed": false, 
     "input": "fourier_transform(_, t, w)", 
     "language": "python", 
     "outputs": [
      {
       "output_type": "pyout", 
       "png": "[encoded data removed]", 
       "prompt_number": 30, 
       "text": "0"
      }
     ], 
     "prompt_number": 30
    }, 
    {
     "cell_type": "markdown", 
     "source": "16"
    }, 
    {
     "cell_type": "code", 
     "collapsed": false, 
     "input": "sin(a*t)", 
     "language": "python", 
     "outputs": [
      {
       "output_type": "pyout", 
       "png": "[encoded data removed]", 
       "prompt_number": 31, 
       "text": "sin(a\u22c5t)"
      }
     ], 
     "prompt_number": 31
    }, 
    {
     "cell_type": "code", 
     "collapsed": false, 
     "input": "fourier_transform(_, t, w)", 
     "language": "python", 
     "outputs": [
      {
       "output_type": "pyout", 
       "png": "[encoded data removed]", 
       "prompt_number": 32, 
       "text": "0"
      }
     ], 
     "prompt_number": 32
    }, 
    {
     "cell_type": "markdown", 
     "source": "17"
    }, 
    {
     "cell_type": "code", 
     "collapsed": false, 
     "input": "1/cosh(t)", 
     "language": "python", 
     "outputs": [
      {
       "output_type": "pyout", 
       "png": "[encoded data removed]", 
       "prompt_number": 33, 
       "text": "\n   1   \n\u2500\u2500\u2500\u2500\u2500\u2500\u2500\ncosh(t)"
      }
     ], 
     "prompt_number": 33
    }, 
    {
     "cell_type": "code", 
     "collapsed": false, 
     "input": "fourier_transform(_, t, w)", 
     "language": "python", 
     "outputs": [
      {
       "output_type": "pyout", 
       "png": "[encoded data removed]", 
       "prompt_number": 34, 
       "text": "\n                \u239b   1         \u239e\nFourierTransform\u239c\u2500\u2500\u2500\u2500\u2500\u2500\u2500, t, w\u239f\n                \u239dcosh(t)      \u23a0"
      }
     ], 
     "prompt_number": 34
    }, 
    {
     "cell_type": "markdown", 
     "source": "18"
    }, 
    {
     "cell_type": "code", 
     "collapsed": false, 
     "input": "1/sinh(t)", 
     "language": "python", 
     "outputs": [
      {
       "output_type": "pyout", 
       "png": "[encoded data removed]", 
       "prompt_number": 35, 
       "text": "\n   1   \n\u2500\u2500\u2500\u2500\u2500\u2500\u2500\nsinh(t)"
      }
     ], 
     "prompt_number": 35
    }, 
    {
     "cell_type": "code", 
     "collapsed": false, 
     "input": "fourier_transform(_, t, w)", 
     "language": "python", 
     "outputs": [
      {
       "output_type": "pyout", 
       "png": "[encoded data removed]", 
       "prompt_number": 36, 
       "text": "\n                \u239b   1         \u239e\nFourierTransform\u239c\u2500\u2500\u2500\u2500\u2500\u2500\u2500, t, w\u239f\n                \u239dsinh(t)      \u23a0"
      }
     ], 
     "prompt_number": 36
    }, 
    {
     "cell_type": "markdown", 
     "source": "19"
    }, 
    {
     "cell_type": "code", 
     "collapsed": false, 
     "input": "sin(a*t**2)", 
     "language": "python", 
     "outputs": [
      {
       "output_type": "pyout", 
       "png": "[encoded data removed]", 
       "prompt_number": 37, 
       "text": "\n   \u239b   2\u239e\nsin\u239da\u22c5t \u23a0"
      }
     ], 
     "prompt_number": 37
    }, 
    {
     "cell_type": "code", 
     "collapsed": false, 
     "input": "fourier_transform(_, t, w)", 
     "language": "python", 
     "outputs": [
      {
       "output_type": "pyout", 
       "png": "[encoded data removed]", 
       "prompt_number": 38, 
       "text": "\n            \u239b     \u239b 2  2\u239e      \u239b 2  2\u239e\u239e\n  ___   ___ \u239c     \u239c\u03c0 \u22c5w \u239f      \u239c\u03c0 \u22c5w \u239f\u239f\n\u2572\u2571 2 \u22c5\u2572\u2571 \u03c0 \u22c5\u239c- sin\u239c\u2500\u2500\u2500\u2500\u2500\u239f + cos\u239c\u2500\u2500\u2500\u2500\u2500\u239f\u239f\n            \u239d     \u239d  a  \u23a0      \u239d  a  \u23a0\u23a0\n\u2500\u2500\u2500\u2500\u2500\u2500\u2500\u2500\u2500\u2500\u2500\u2500\u2500\u2500\u2500\u2500\u2500\u2500\u2500\u2500\u2500\u2500\u2500\u2500\u2500\u2500\u2500\u2500\u2500\u2500\u2500\u2500\u2500\u2500\u2500\u2500\u2500\u2500\u2500\n                    ___                \n                2\u22c5\u2572\u2571 a                 "
      }
     ], 
     "prompt_number": 38
    }, 
    {
     "cell_type": "code", 
     "collapsed": false, 
     "input": "simplify(_)", 
     "language": "python", 
     "outputs": [
      {
       "output_type": "pyout", 
       "png": "[encoded data removed]", 
       "prompt_number": 39, 
       "text": "\n            \u239b     \u239b 2  2\u239e      \u239b 2  2\u239e\u239e\n  ___   ___ \u239c     \u239c\u03c0 \u22c5w \u239f      \u239c\u03c0 \u22c5w \u239f\u239f\n\u2572\u2571 2 \u22c5\u2572\u2571 \u03c0 \u22c5\u239c- sin\u239c\u2500\u2500\u2500\u2500\u2500\u239f + cos\u239c\u2500\u2500\u2500\u2500\u2500\u239f\u239f\n            \u239d     \u239d  a  \u23a0      \u239d  a  \u23a0\u23a0\n\u2500\u2500\u2500\u2500\u2500\u2500\u2500\u2500\u2500\u2500\u2500\u2500\u2500\u2500\u2500\u2500\u2500\u2500\u2500\u2500\u2500\u2500\u2500\u2500\u2500\u2500\u2500\u2500\u2500\u2500\u2500\u2500\u2500\u2500\u2500\u2500\u2500\u2500\u2500\n                    ___                \n                2\u22c5\u2572\u2571 a                 "
      }
     ], 
     "prompt_number": 39
    }, 
    {
     "cell_type": "code", 
     "collapsed": false, 
     "input": "inverse_fourier_transform(_, w, t)", 
     "language": "python", 
     "outputs": [
      {
       "output_type": "pyout", 
       "png": "[encoded data removed]", 
       "prompt_number": 40, 
       "text": "\n   \u239b   2\u239e\nsin\u239da\u22c5t \u23a0"
      }
     ], 
     "prompt_number": 40
    }, 
    {
     "cell_type": "markdown", 
     "source": "20"
    }, 
    {
     "cell_type": "code", 
     "collapsed": false, 
     "input": "cos(a*t**2)", 
     "language": "python", 
     "outputs": [
      {
       "output_type": "pyout", 
       "png": "[encoded data removed]", 
       "prompt_number": 41, 
       "text": "\n   \u239b   2\u239e\ncos\u239da\u22c5t \u23a0"
      }
     ], 
     "prompt_number": 41
    }, 
    {
     "cell_type": "code", 
     "collapsed": false, 
     "input": "fourier_transform(_, t, w)", 
     "language": "python", 
     "outputs": [
      {
       "output_type": "pyout", 
       "png": "[encoded data removed]", 
       "prompt_number": 42, 
       "text": "\n            \u239b   \u239b 2  2\u239e      \u239b 2  2\u239e\u239e\n  ___   ___ \u239c   \u239c\u03c0 \u22c5w \u239f      \u239c\u03c0 \u22c5w \u239f\u239f\n\u2572\u2571 2 \u22c5\u2572\u2571 \u03c0 \u22c5\u239csin\u239c\u2500\u2500\u2500\u2500\u2500\u239f + cos\u239c\u2500\u2500\u2500\u2500\u2500\u239f\u239f\n            \u239d   \u239d  a  \u23a0      \u239d  a  \u23a0\u23a0\n\u2500\u2500\u2500\u2500\u2500\u2500\u2500\u2500\u2500\u2500\u2500\u2500\u2500\u2500\u2500\u2500\u2500\u2500\u2500\u2500\u2500\u2500\u2500\u2500\u2500\u2500\u2500\u2500\u2500\u2500\u2500\u2500\u2500\u2500\u2500\u2500\u2500\n                   ___               \n               2\u22c5\u2572\u2571 a                "
      }
     ], 
     "prompt_number": 42
    }, 
    {
     "cell_type": "code", 
     "collapsed": false, 
     "input": "simplify(_)", 
     "language": "python", 
     "outputs": [
      {
       "output_type": "pyout", 
       "png": "[encoded data removed]", 
       "prompt_number": 43, 
       "text": "\n            \u239b   \u239b 2  2\u239e      \u239b 2  2\u239e\u239e\n  ___   ___ \u239c   \u239c\u03c0 \u22c5w \u239f      \u239c\u03c0 \u22c5w \u239f\u239f\n\u2572\u2571 2 \u22c5\u2572\u2571 \u03c0 \u22c5\u239csin\u239c\u2500\u2500\u2500\u2500\u2500\u239f + cos\u239c\u2500\u2500\u2500\u2500\u2500\u239f\u239f\n            \u239d   \u239d  a  \u23a0      \u239d  a  \u23a0\u23a0\n\u2500\u2500\u2500\u2500\u2500\u2500\u2500\u2500\u2500\u2500\u2500\u2500\u2500\u2500\u2500\u2500\u2500\u2500\u2500\u2500\u2500\u2500\u2500\u2500\u2500\u2500\u2500\u2500\u2500\u2500\u2500\u2500\u2500\u2500\u2500\u2500\u2500\n                   ___               \n               2\u22c5\u2572\u2571 a                "
      }
     ], 
     "prompt_number": 43
    }, 
    {
     "cell_type": "code", 
     "collapsed": false, 
     "input": "inverse_fourier_transform(_, w, t)", 
     "language": "python", 
     "outputs": [
      {
       "output_type": "pyout", 
       "png": "[encoded data removed]", 
       "prompt_number": 44, 
       "text": "\n   \u239b   2\u239e\ncos\u239da\u22c5t \u23a0"
      }
     ], 
     "prompt_number": 44
    }, 
    {
     "cell_type": "code", 
     "collapsed": true, 
     "input": "", 
     "language": "python", 
     "outputs": [], 
     "prompt_number": "&nbsp;"
    }
   ]
  }
 ]
}