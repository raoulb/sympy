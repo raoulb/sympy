{
 "metadata": {
  "name": "Sine_Transform"
 }, 
 "name": "Sine_Transform", 
 "nbformat": 2, 
 "worksheets": [
  {
   "cells": [
    {
     "cell_type": "code", 
     "collapsed": true, 
     "input": "%load_ext sympyprt", 
     "language": "python", 
     "outputs": [], 
     "prompt_number": 1
    }, 
    {
     "cell_type": "code", 
     "collapsed": true, 
     "input": "from sympy import *", 
     "language": "python", 
     "outputs": [], 
     "prompt_number": 2
    }, 
    {
     "cell_type": "markdown", 
     "source": "Examples of sine transformations. We use the definition\n$$\n\\mathcal{SIN}_t \\left[f(t)\\right]\\left(w\\right) := \\frac{\\sqrt{2}}{\\sqrt{\\pi}} \\int_0^{\\infty} f(t) \\sin(t \\cdot w) \\mathrm{d}t\n$$"
    }, 
    {
     "cell_type": "code", 
     "collapsed": true, 
     "input": "t = Symbol(\"t\")\nw = Symbol(\"w\")", 
     "language": "python", 
     "outputs": [], 
     "prompt_number": 3
    }, 
    {
     "cell_type": "code", 
     "collapsed": true, 
     "input": "n = Symbol(\"n\", integer=True)", 
     "language": "python", 
     "outputs": [], 
     "prompt_number": 4
    }, 
    {
     "cell_type": "code", 
     "collapsed": true, 
     "input": "a = Symbol(\"a\")\nb = Symbol(\"b\")", 
     "language": "python", 
     "outputs": [], 
     "prompt_number": 5
    }, 
    {
     "cell_type": "markdown", 
     "source": "The following examples are taken from 'Bronstein', 6th edition, page 1109ff"
    }, 
    {
     "cell_type": "markdown", 
     "source": "1"
    }, 
    {
     "cell_type": "code", 
     "collapsed": false, 
     "input": "Piecewise((1, And(0<=t, t<=a)), (0, t>a))", 
     "language": "python", 
     "outputs": [
      {
       "output_type": "pyout", 
       "png": "[encoded data removed]", 
       "prompt_number": 6, 
       "text": "\n\u23a71  for 0 \u2264 t \u2227 t \u2264 a\n\u23a8                    \n\u23a90      for a &lt; t    "
      }
     ], 
     "prompt_number": 6
    }, 
    {
     "cell_type": "code", 
     "collapsed": true, 
     "input": "#sine_transform(_, t, w)\n# No piecewise :-/", 
     "language": "python", 
     "outputs": [], 
     "prompt_number": 7
    }, 
    {
     "cell_type": "markdown", 
     "source": "3"
    }, 
    {
     "cell_type": "code", 
     "collapsed": false, 
     "input": "1/t", 
     "language": "python", 
     "outputs": [
      {
       "output_type": "pyout", 
       "png": "[encoded data removed]", 
       "prompt_number": 8, 
       "text": "\n1\n\u2500\nt"
      }
     ], 
     "prompt_number": 8
    }, 
    {
     "cell_type": "code", 
     "collapsed": false, 
     "input": "sine_transform(_, t, w)", 
     "language": "python", 
     "outputs": [
      {
       "output_type": "pyout", 
       "png": "[encoded data removed]", 
       "prompt_number": 9, 
       "text": "\n  ___   ___\n\u2572\u2571 2 \u22c5\u2572\u2571 \u03c0 \n\u2500\u2500\u2500\u2500\u2500\u2500\u2500\u2500\u2500\u2500\u2500\n     2     "
      }
     ], 
     "prompt_number": 9
    }, 
    {
     "cell_type": "code", 
     "collapsed": false, 
     "input": "inverse_sine_transform(_, w, t)", 
     "language": "python", 
     "outputs": [
      {
       "output_type": "pyout", 
       "png": "[encoded data removed]", 
       "prompt_number": 10, 
       "text": "\n-cos(\u221e\u22c5t) + 1\n\u2500\u2500\u2500\u2500\u2500\u2500\u2500\u2500\u2500\u2500\u2500\u2500\u2500\n      t      "
      }
     ], 
     "prompt_number": 10
    }, 
    {
     "cell_type": "markdown", 
     "source": "6"
    }, 
    {
     "cell_type": "code", 
     "collapsed": false, 
     "input": "1/sqrt(t)", 
     "language": "python", 
     "outputs": [
      {
       "output_type": "pyout", 
       "png": "[encoded data removed]", 
       "prompt_number": 11, 
       "text": "\n  1  \n\u2500\u2500\u2500\u2500\u2500\n  ___\n\u2572\u2571 t "
      }
     ], 
     "prompt_number": 11
    }, 
    {
     "cell_type": "code", 
     "collapsed": false, 
     "input": "sine_transform(_, t, w)", 
     "language": "python", 
     "outputs": [
      {
       "output_type": "pyout", 
       "png": "[encoded data removed]", 
       "prompt_number": 12, 
       "text": "\n  1  \n\u2500\u2500\u2500\u2500\u2500\n  ___\n\u2572\u2571 w "
      }
     ], 
     "prompt_number": 12
    }, 
    {
     "cell_type": "code", 
     "collapsed": false, 
     "input": "inverse_sine_transform(_, w, t)", 
     "language": "python", 
     "outputs": [
      {
       "output_type": "pyout", 
       "png": "[encoded data removed]", 
       "prompt_number": 13, 
       "text": "\n  1  \n\u2500\u2500\u2500\u2500\u2500\n  ___\n\u2572\u2571 t "
      }
     ], 
     "prompt_number": 13
    }, 
    {
     "cell_type": "markdown", 
     "source": "9"
    }, 
    {
     "cell_type": "code", 
     "collapsed": false, 
     "input": "(1/sqrt(t))**3", 
     "language": "python", 
     "outputs": [
      {
       "output_type": "pyout", 
       "png": "[encoded data removed]", 
       "prompt_number": 14, 
       "text": "\n 1  \n\u2500\u2500\u2500\u2500\n 3/2\nt   "
      }
     ], 
     "prompt_number": 14
    }, 
    {
     "cell_type": "code", 
     "collapsed": false, 
     "input": "sine_transform(_, t, w)", 
     "language": "python", 
     "outputs": [
      {
       "output_type": "pyout", 
       "png": "[encoded data removed]", 
       "prompt_number": 15, 
       "text": "\n  ___       \n\u2572\u2571 w \u22c5\u0393(1/4)\n\u2500\u2500\u2500\u2500\u2500\u2500\u2500\u2500\u2500\u2500\u2500\u2500\n  2\u22c5\u0393(5/4)  "
      }
     ], 
     "prompt_number": 15
    }, 
    {
     "cell_type": "code", 
     "collapsed": false, 
     "input": "inverse_sine_transform(_, w, t)", 
     "language": "python", 
     "outputs": [
      {
       "output_type": "pyout", 
       "png": "[encoded data removed]", 
       "prompt_number": 16, 
       "text": "\n                    \u239b  ___      \u239e       \nInverseSineTransform\u239d\u2572\u2571 w , w, t\u23a0\u22c5\u0393(1/4)\n\u2500\u2500\u2500\u2500\u2500\u2500\u2500\u2500\u2500\u2500\u2500\u2500\u2500\u2500\u2500\u2500\u2500\u2500\u2500\u2500\u2500\u2500\u2500\u2500\u2500\u2500\u2500\u2500\u2500\u2500\u2500\u2500\u2500\u2500\u2500\u2500\u2500\u2500\u2500\u2500\n                2\u22c5\u0393(5/4)                "
      }
     ], 
     "prompt_number": 16
    }, 
    {
     "cell_type": "markdown", 
     "source": "10"
    }, 
    {
     "cell_type": "code", 
     "collapsed": false, 
     "input": "1/(a+t)", 
     "language": "python", 
     "outputs": [
      {
       "output_type": "pyout", 
       "png": "[encoded data removed]", 
       "prompt_number": 17, 
       "text": "\n  1  \n\u2500\u2500\u2500\u2500\u2500\na + t"
      }
     ], 
     "prompt_number": 17
    }, 
    {
     "cell_type": "code", 
     "collapsed": false, 
     "input": "sine_transform(_, t, w)", 
     "language": "python", 
     "outputs": [
      {
       "output_type": "pyout", 
       "png": "[encoded data removed]", 
       "prompt_number": 18, 
       "text": "\n              \u239b               \u2502  2  2\u239e\n  ___ \u256d\u2500\u256e3, 2 \u239c  1/2, 0       \u2502 a \u22c5w \u239f\n\u2572\u2571 2 \u22c5\u2502\u2576\u2510     \u239c               \u2502 \u2500\u2500\u2500\u2500\u2500\u239f\n      \u2570\u2500\u256f2, 4 \u239d1/2, 0, 1/2  0 \u2502   4  \u23a0\n\u2500\u2500\u2500\u2500\u2500\u2500\u2500\u2500\u2500\u2500\u2500\u2500\u2500\u2500\u2500\u2500\u2500\u2500\u2500\u2500\u2500\u2500\u2500\u2500\u2500\u2500\u2500\u2500\u2500\u2500\u2500\u2500\u2500\u2500\u2500\u2500\u2500\u2500\n                 2\u22c5\u03c0                  "
      }
     ], 
     "prompt_number": 18
    }, 
    {
     "cell_type": "code", 
     "collapsed": false, 
     "input": "hyperexpand(_)", 
     "language": "python", 
     "outputs": [
      {
       "output_type": "pyout", 
       "png": "[encoded data removed]", 
       "prompt_number": 19, 
       "text": "\n              \u239b               \u2502  2  2\u239e\n  ___ \u256d\u2500\u256e3, 2 \u239c  1/2, 0       \u2502 a \u22c5w \u239f\n\u2572\u2571 2 \u22c5\u2502\u2576\u2510     \u239c               \u2502 \u2500\u2500\u2500\u2500\u2500\u239f\n      \u2570\u2500\u256f2, 4 \u239d1/2, 0, 1/2  0 \u2502   4  \u23a0\n\u2500\u2500\u2500\u2500\u2500\u2500\u2500\u2500\u2500\u2500\u2500\u2500\u2500\u2500\u2500\u2500\u2500\u2500\u2500\u2500\u2500\u2500\u2500\u2500\u2500\u2500\u2500\u2500\u2500\u2500\u2500\u2500\u2500\u2500\u2500\u2500\u2500\u2500\n                 2\u22c5\u03c0                  "
      }
     ], 
     "prompt_number": 19
    }, 
    {
     "cell_type": "code", 
     "collapsed": false, 
     "input": "inverse_sine_transform(_, w, t)", 
     "language": "python", 
     "outputs": [
      {
       "output_type": "pyout", 
       "png": "[encoded data removed]", 
       "prompt_number": 20, 
       "text": "\n  1  \n\u2500\u2500\u2500\u2500\u2500\na + t"
      }
     ], 
     "prompt_number": 20
    }, 
    {
     "cell_type": "markdown", 
     "source": "11"
    }, 
    {
     "cell_type": "code", 
     "collapsed": false, 
     "input": "1/(a-t)", 
     "language": "python", 
     "outputs": [
      {
       "output_type": "pyout", 
       "png": "[encoded data removed]", 
       "prompt_number": 21, 
       "text": "\n  1  \n\u2500\u2500\u2500\u2500\u2500\na - t"
      }
     ], 
     "prompt_number": 21
    }, 
    {
     "cell_type": "code", 
     "collapsed": false, 
     "input": "sine_transform(_, t, w)", 
     "language": "python", 
     "outputs": [
      {
       "output_type": "pyout", 
       "png": "[encoded data removed]", 
       "prompt_number": 22, 
       "text": "\n               \u239b               \u2502  2  2  -2\u22c5\u2148\u22c5\u03c0\u239e\n   ___ \u256d\u2500\u256e3, 2 \u239c  1/2, 0       \u2502 a \u22c5w \u22c5\u212f      \u239f\n-\u2572\u2571 2 \u22c5\u2502\u2576\u2510     \u239c               \u2502 \u2500\u2500\u2500\u2500\u2500\u2500\u2500\u2500\u2500\u2500\u2500\u2500\u2500\u239f\n       \u2570\u2500\u256f2, 4 \u239d1/2, 0, 1/2  0 \u2502       4      \u23a0\n\u2500\u2500\u2500\u2500\u2500\u2500\u2500\u2500\u2500\u2500\u2500\u2500\u2500\u2500\u2500\u2500\u2500\u2500\u2500\u2500\u2500\u2500\u2500\u2500\u2500\u2500\u2500\u2500\u2500\u2500\u2500\u2500\u2500\u2500\u2500\u2500\u2500\u2500\u2500\u2500\u2500\u2500\u2500\u2500\u2500\u2500\u2500\n                      2\u22c5\u03c0                      "
      }
     ], 
     "prompt_number": 22
    }, 
    {
     "cell_type": "code", 
     "collapsed": false, 
     "input": "hyperexpand(_)", 
     "language": "python", 
     "outputs": [
      {
       "output_type": "pyout", 
       "png": "[encoded data removed]", 
       "prompt_number": 23, 
       "text": "\n               \u239b               \u2502  2  2  -2\u22c5\u2148\u22c5\u03c0\u239e\n   ___ \u256d\u2500\u256e3, 2 \u239c  1/2, 0       \u2502 a \u22c5w \u22c5\u212f      \u239f\n-\u2572\u2571 2 \u22c5\u2502\u2576\u2510     \u239c               \u2502 \u2500\u2500\u2500\u2500\u2500\u2500\u2500\u2500\u2500\u2500\u2500\u2500\u2500\u239f\n       \u2570\u2500\u256f2, 4 \u239d1/2, 0, 1/2  0 \u2502       4      \u23a0\n\u2500\u2500\u2500\u2500\u2500\u2500\u2500\u2500\u2500\u2500\u2500\u2500\u2500\u2500\u2500\u2500\u2500\u2500\u2500\u2500\u2500\u2500\u2500\u2500\u2500\u2500\u2500\u2500\u2500\u2500\u2500\u2500\u2500\u2500\u2500\u2500\u2500\u2500\u2500\u2500\u2500\u2500\u2500\u2500\u2500\u2500\u2500\n                      2\u22c5\u03c0                      "
      }
     ], 
     "prompt_number": 23
    }, 
    {
     "cell_type": "code", 
     "collapsed": false, 
     "input": "inverse_sine_transform(_, w, t)", 
     "language": "python", 
     "outputs": [
      {
       "output_type": "pyout", 
       "png": "[encoded data removed]", 
       "prompt_number": 24, 
       "text": "\n  1  \n\u2500\u2500\u2500\u2500\u2500\na - t"
      }
     ], 
     "prompt_number": 24
    }, 
    {
     "cell_type": "markdown", 
     "source": "12"
    }, 
    {
     "cell_type": "code", 
     "collapsed": false, 
     "input": "t/(a**2+t**2)", 
     "language": "python", 
     "outputs": [
      {
       "output_type": "pyout", 
       "png": "[encoded data removed]", 
       "prompt_number": 25, 
       "text": "\n   t   \n\u2500\u2500\u2500\u2500\u2500\u2500\u2500\n 2    2\na  + t "
      }
     ], 
     "prompt_number": 25
    }, 
    {
     "cell_type": "code", 
     "collapsed": false, 
     "input": "sine_transform(_, t, w)", 
     "language": "python", 
     "outputs": [
      {
       "output_type": "pyout", 
       "png": "[encoded data removed]", 
       "prompt_number": 26, 
       "text": "\n  ___   ___                         \n\u2572\u2571 2 \u22c5\u2572\u2571 \u03c0 \u22c5(-sinh(a\u22c5w) + cosh(a\u22c5w))\n\u2500\u2500\u2500\u2500\u2500\u2500\u2500\u2500\u2500\u2500\u2500\u2500\u2500\u2500\u2500\u2500\u2500\u2500\u2500\u2500\u2500\u2500\u2500\u2500\u2500\u2500\u2500\u2500\u2500\u2500\u2500\u2500\u2500\u2500\u2500\u2500\n                 2                  "
      }
     ], 
     "prompt_number": 26
    }, 
    {
     "cell_type": "code", 
     "collapsed": false, 
     "input": "simplify(_)", 
     "language": "python", 
     "outputs": [
      {
       "output_type": "pyout", 
       "png": "[encoded data removed]", 
       "prompt_number": 27, 
       "text": "\n  ___   ___                         \n\u2572\u2571 2 \u22c5\u2572\u2571 \u03c0 \u22c5(-sinh(a\u22c5w) + cosh(a\u22c5w))\n\u2500\u2500\u2500\u2500\u2500\u2500\u2500\u2500\u2500\u2500\u2500\u2500\u2500\u2500\u2500\u2500\u2500\u2500\u2500\u2500\u2500\u2500\u2500\u2500\u2500\u2500\u2500\u2500\u2500\u2500\u2500\u2500\u2500\u2500\u2500\u2500\n                 2                  "
      }
     ], 
     "prompt_number": 27
    }, 
    {
     "cell_type": "code", 
     "collapsed": false, 
     "input": "inverse_sine_transform(_, w, t)", 
     "language": "python", 
     "outputs": [
      {
       "output_type": "pyout", 
       "png": "[encoded data removed]", 
       "prompt_number": 28, 
       "text": "\na\u22c5sin(\u221e\u22c5t)\u22c5sinh(\u221e\u22c5a) - a\u22c5sin(\u221e\u22c5t)\u22c5cosh(\u221e\u22c5a) + t\u22c5cos(\u221e\u22c5t)\u22c5sinh(\u221e\u22c5a) - t\u22c5cos(\u221e\u22c5t\n\u2500\u2500\u2500\u2500\u2500\u2500\u2500\u2500\u2500\u2500\u2500\u2500\u2500\u2500\u2500\u2500\u2500\u2500\u2500\u2500\u2500\u2500\u2500\u2500\u2500\u2500\u2500\u2500\u2500\u2500\u2500\u2500\u2500\u2500\u2500\u2500\u2500\u2500\u2500\u2500\u2500\u2500\u2500\u2500\u2500\u2500\u2500\u2500\u2500\u2500\u2500\u2500\u2500\u2500\u2500\u2500\u2500\u2500\u2500\u2500\u2500\u2500\u2500\u2500\u2500\u2500\u2500\u2500\u2500\u2500\u2500\u2500\u2500\u2500\u2500\u2500\u2500\u2500\n                                            2    2                            \n                                           a  + t                             \n\n)\u22c5cosh(\u221e\u22c5a) + t\n\u2500\u2500\u2500\u2500\u2500\u2500\u2500\u2500\u2500\u2500\u2500\u2500\u2500\u2500\u2500\n               \n               "
      }
     ], 
     "prompt_number": 28
    }, 
    {
     "cell_type": "markdown", 
     "source": "13"
    }, 
    {
     "cell_type": "code", 
     "collapsed": false, 
     "input": "1/(a**2-t**2)", 
     "language": "python", 
     "outputs": [
      {
       "output_type": "pyout", 
       "png": "[encoded data removed]", 
       "prompt_number": 29, 
       "text": "\n   1   \n\u2500\u2500\u2500\u2500\u2500\u2500\u2500\n 2    2\na  - t "
      }
     ], 
     "prompt_number": 29
    }, 
    {
     "cell_type": "code", 
     "collapsed": false, 
     "input": "sine_transform(_, t, w)", 
     "language": "python", 
     "outputs": [
      {
       "output_type": "pyout", 
       "png": "[encoded data removed]", 
       "prompt_number": 30, 
       "text": "\n                 \u239b            \u2502  2  2  -\u2148\u22c5\u03c0\u239e\n   ___   \u256d\u2500\u256e2, 1 \u239c  1/2       \u2502 a \u22c5w \u22c5\u212f    \u239f\n-\u2572\u2571 2 \u22c5\u2148\u22c5\u2502\u2576\u2510     \u239c            \u2502 \u2500\u2500\u2500\u2500\u2500\u2500\u2500\u2500\u2500\u2500\u2500\u239f\n         \u2570\u2500\u256f1, 3 \u239d1/2, 1/2  0 \u2502      4     \u23a0\n\u2500\u2500\u2500\u2500\u2500\u2500\u2500\u2500\u2500\u2500\u2500\u2500\u2500\u2500\u2500\u2500\u2500\u2500\u2500\u2500\u2500\u2500\u2500\u2500\u2500\u2500\u2500\u2500\u2500\u2500\u2500\u2500\u2500\u2500\u2500\u2500\u2500\u2500\u2500\u2500\u2500\u2500\u2500\u2500\n                    2\u22c5a                     "
      }
     ], 
     "prompt_number": 30
    }, 
    {
     "cell_type": "code", 
     "collapsed": false, 
     "input": "inverse_sine_transform(_, w, t)", 
     "language": "python", 
     "outputs": [
      {
       "output_type": "pyout", 
       "png": "[encoded data removed]", 
       "prompt_number": 31, 
       "text": "\n   1   \n\u2500\u2500\u2500\u2500\u2500\u2500\u2500\n 2    2\na  - t "
      }
     ], 
     "prompt_number": 31
    }, 
    {
     "cell_type": "markdown", 
     "source": "14"
    }, 
    {
     "cell_type": "code", 
     "collapsed": false, 
     "input": "b/(b**2+(a-t)**2) - b/(b**2+(a+t)**2)", 
     "language": "python", 
     "outputs": [
      {
       "output_type": "pyout", 
       "png": "[encoded data removed]", 
       "prompt_number": 32, 
       "text": "\n        b               b      \n- \u2500\u2500\u2500\u2500\u2500\u2500\u2500\u2500\u2500\u2500\u2500\u2500\u2500 + \u2500\u2500\u2500\u2500\u2500\u2500\u2500\u2500\u2500\u2500\u2500\u2500\u2500\n   2          2    2          2\n  b  + (a + t)    b  + (a - t) "
      }
     ], 
     "prompt_number": 32
    }, 
    {
     "cell_type": "code", 
     "collapsed": true, 
     "input": "#sine_transform(_, t, w)", 
     "language": "python", 
     "outputs": [], 
     "prompt_number": 33
    }, 
    {
     "cell_type": "markdown", 
     "source": "15"
    }, 
    {
     "cell_type": "code", 
     "collapsed": false, 
     "input": "(a+t)/(b**2+(a+t)**2) - (a-t)/(b**2+(a-t)**2)", 
     "language": "python", 
     "outputs": [
      {
       "output_type": "pyout", 
       "png": "[encoded data removed]", 
       "prompt_number": 34, 
       "text": "\n      a - t           a + t    \n- \u2500\u2500\u2500\u2500\u2500\u2500\u2500\u2500\u2500\u2500\u2500\u2500\u2500 + \u2500\u2500\u2500\u2500\u2500\u2500\u2500\u2500\u2500\u2500\u2500\u2500\u2500\n   2          2    2          2\n  b  + (a - t)    b  + (a + t) "
      }
     ], 
     "prompt_number": 34
    }, 
    {
     "cell_type": "code", 
     "collapsed": true, 
     "input": "#sine_transform(_, t, w)", 
     "language": "python", 
     "outputs": [], 
     "prompt_number": 35
    }, 
    {
     "cell_type": "markdown", 
     "source": "16"
    }, 
    {
     "cell_type": "code", 
     "collapsed": false, 
     "input": "t/(a**2-t**2)", 
     "language": "python", 
     "outputs": [
      {
       "output_type": "pyout", 
       "png": "[encoded data removed]", 
       "prompt_number": 36, 
       "text": "\n   t   \n\u2500\u2500\u2500\u2500\u2500\u2500\u2500\n 2    2\na  - t "
      }
     ], 
     "prompt_number": 36
    }, 
    {
     "cell_type": "code", 
     "collapsed": false, 
     "input": "sine_transform(_, t, w)", 
     "language": "python", 
     "outputs": [
      {
       "output_type": "pyout", 
       "png": "[encoded data removed]", 
       "prompt_number": 37, 
       "text": "\n  ___   ___                         \n\u2572\u2571 2 \u22c5\u2572\u2571 \u03c0 \u22c5(-\u2148\u22c5sin(a\u22c5w) - cos(a\u22c5w))\n\u2500\u2500\u2500\u2500\u2500\u2500\u2500\u2500\u2500\u2500\u2500\u2500\u2500\u2500\u2500\u2500\u2500\u2500\u2500\u2500\u2500\u2500\u2500\u2500\u2500\u2500\u2500\u2500\u2500\u2500\u2500\u2500\u2500\u2500\u2500\u2500\n                 2                  "
      }
     ], 
     "prompt_number": 37
    }, 
    {
     "cell_type": "code", 
     "collapsed": false, 
     "input": "inverse_sine_transform(_, w, t)", 
     "language": "python", 
     "outputs": [
      {
       "output_type": "pyout", 
       "png": "[encoded data removed]", 
       "prompt_number": 38, 
       "text": "\na\u22c5sin(\u221e\u22c5a)\u22c5sin(\u221e\u22c5t) - \u2148\u22c5a\u22c5sin(\u221e\u22c5t)\u22c5cos(\u221e\u22c5a) + \u2148\u22c5t\u22c5sin(\u221e\u22c5a)\u22c5cos(\u221e\u22c5t) + t\u22c5cos(\u221e\u22c5\n\u2500\u2500\u2500\u2500\u2500\u2500\u2500\u2500\u2500\u2500\u2500\u2500\u2500\u2500\u2500\u2500\u2500\u2500\u2500\u2500\u2500\u2500\u2500\u2500\u2500\u2500\u2500\u2500\u2500\u2500\u2500\u2500\u2500\u2500\u2500\u2500\u2500\u2500\u2500\u2500\u2500\u2500\u2500\u2500\u2500\u2500\u2500\u2500\u2500\u2500\u2500\u2500\u2500\u2500\u2500\u2500\u2500\u2500\u2500\u2500\u2500\u2500\u2500\u2500\u2500\u2500\u2500\u2500\u2500\u2500\u2500\u2500\u2500\u2500\u2500\u2500\u2500\u2500\n                                             2    2                           \n                                          - a  + t                            \n\na)\u22c5cos(\u221e\u22c5t) - t\n\u2500\u2500\u2500\u2500\u2500\u2500\u2500\u2500\u2500\u2500\u2500\u2500\u2500\u2500\u2500\n               \n               "
      }
     ], 
     "prompt_number": 38
    }, 
    {
     "cell_type": "markdown", 
     "source": "17"
    }, 
    {
     "cell_type": "code", 
     "collapsed": false, 
     "input": "1/(t*(a**2-t**2))", 
     "language": "python", 
     "outputs": [
      {
       "output_type": "pyout", 
       "png": "[encoded data removed]", 
       "prompt_number": 39, 
       "text": "\n     1     \n\u2500\u2500\u2500\u2500\u2500\u2500\u2500\u2500\u2500\u2500\u2500\n  \u239b 2    2\u239e\nt\u22c5\u239da  - t \u23a0"
      }
     ], 
     "prompt_number": 39
    }, 
    {
     "cell_type": "code", 
     "collapsed": false, 
     "input": "sine_transform(_, t, w)", 
     "language": "python", 
     "outputs": [
      {
       "output_type": "pyout", 
       "png": "[encoded data removed]", 
       "prompt_number": 40, 
       "text": "\n  ___   ___                             \n\u2572\u2571 2 \u22c5\u2572\u2571 \u03c0 \u22c5(-\u2148\u22c5sin(a\u22c5w) - cos(a\u22c5w) + 1)\n\u2500\u2500\u2500\u2500\u2500\u2500\u2500\u2500\u2500\u2500\u2500\u2500\u2500\u2500\u2500\u2500\u2500\u2500\u2500\u2500\u2500\u2500\u2500\u2500\u2500\u2500\u2500\u2500\u2500\u2500\u2500\u2500\u2500\u2500\u2500\u2500\u2500\u2500\u2500\u2500\n                     2                  \n                  2\u22c5a                   "
      }
     ], 
     "prompt_number": 40
    }, 
    {
     "cell_type": "code", 
     "collapsed": false, 
     "input": "inverse_sine_transform(_, w, t)", 
     "language": "python", 
     "outputs": [
      {
       "output_type": "pyout", 
       "png": "[encoded data removed]", 
       "prompt_number": 41, 
       "text": "\n 2             2                                                        2     \na \u22c5cos(\u221e\u22c5t) - a  + a\u22c5t\u22c5sin(\u221e\u22c5a)\u22c5sin(\u221e\u22c5t) - \u2148\u22c5a\u22c5t\u22c5sin(\u221e\u22c5t)\u22c5cos(\u221e\u22c5a) + \u2148\u22c5t \u22c5sin(\n\u2500\u2500\u2500\u2500\u2500\u2500\u2500\u2500\u2500\u2500\u2500\u2500\u2500\u2500\u2500\u2500\u2500\u2500\u2500\u2500\u2500\u2500\u2500\u2500\u2500\u2500\u2500\u2500\u2500\u2500\u2500\u2500\u2500\u2500\u2500\u2500\u2500\u2500\u2500\u2500\u2500\u2500\u2500\u2500\u2500\u2500\u2500\u2500\u2500\u2500\u2500\u2500\u2500\u2500\u2500\u2500\u2500\u2500\u2500\u2500\u2500\u2500\u2500\u2500\u2500\u2500\u2500\u2500\u2500\u2500\u2500\u2500\u2500\u2500\u2500\u2500\u2500\u2500\n                                                         2   \u239b   2    2\u239e      \n                                                        a \u22c5t\u22c5\u239d- a  + t \u23a0      \n\n                 2                      2         \n\u221e\u22c5a)\u22c5cos(\u221e\u22c5t) + t \u22c5cos(\u221e\u22c5a)\u22c5cos(\u221e\u22c5t) - t \u22c5cos(\u221e\u22c5t)\n\u2500\u2500\u2500\u2500\u2500\u2500\u2500\u2500\u2500\u2500\u2500\u2500\u2500\u2500\u2500\u2500\u2500\u2500\u2500\u2500\u2500\u2500\u2500\u2500\u2500\u2500\u2500\u2500\u2500\u2500\u2500\u2500\u2500\u2500\u2500\u2500\u2500\u2500\u2500\u2500\u2500\u2500\u2500\u2500\u2500\u2500\u2500\u2500\u2500\u2500\n                                                  \n                                                  "
      }
     ], 
     "prompt_number": 41
    }, 
    {
     "cell_type": "markdown", 
     "source": "18"
    }, 
    {
     "cell_type": "code", 
     "collapsed": false, 
     "input": "1/(t*(a**2+t**2))", 
     "language": "python", 
     "outputs": [
      {
       "output_type": "pyout", 
       "png": "[encoded data removed]", 
       "prompt_number": 42, 
       "text": "\n     1     \n\u2500\u2500\u2500\u2500\u2500\u2500\u2500\u2500\u2500\u2500\u2500\n  \u239b 2    2\u239e\nt\u22c5\u239da  + t \u23a0"
      }
     ], 
     "prompt_number": 42
    }, 
    {
     "cell_type": "code", 
     "collapsed": false, 
     "input": "sine_transform(_, t, w)", 
     "language": "python", 
     "outputs": [
      {
       "output_type": "pyout", 
       "png": "[encoded data removed]", 
       "prompt_number": 43, 
       "text": "\n  ___   ___                            \n\u2572\u2571 2 \u22c5\u2572\u2571 \u03c0 \u22c5(sinh(a\u22c5w) - cosh(a\u22c5w) + 1)\n\u2500\u2500\u2500\u2500\u2500\u2500\u2500\u2500\u2500\u2500\u2500\u2500\u2500\u2500\u2500\u2500\u2500\u2500\u2500\u2500\u2500\u2500\u2500\u2500\u2500\u2500\u2500\u2500\u2500\u2500\u2500\u2500\u2500\u2500\u2500\u2500\u2500\u2500\u2500\n                     2                 \n                  2\u22c5a                  "
      }
     ], 
     "prompt_number": 43
    }, 
    {
     "cell_type": "code", 
     "collapsed": false, 
     "input": "inverse_sine_transform(_, w, t)", 
     "language": "python", 
     "outputs": [
      {
       "output_type": "pyout", 
       "png": "[encoded data removed]", 
       "prompt_number": 44, 
       "text": "\n   2             2                                                      2     \n- a \u22c5cos(\u221e\u22c5t) + a  - a\u22c5t\u22c5sin(\u221e\u22c5t)\u22c5sinh(\u221e\u22c5a) + a\u22c5t\u22c5sin(\u221e\u22c5t)\u22c5cosh(\u221e\u22c5a) - t \u22c5cos(\n\u2500\u2500\u2500\u2500\u2500\u2500\u2500\u2500\u2500\u2500\u2500\u2500\u2500\u2500\u2500\u2500\u2500\u2500\u2500\u2500\u2500\u2500\u2500\u2500\u2500\u2500\u2500\u2500\u2500\u2500\u2500\u2500\u2500\u2500\u2500\u2500\u2500\u2500\u2500\u2500\u2500\u2500\u2500\u2500\u2500\u2500\u2500\u2500\u2500\u2500\u2500\u2500\u2500\u2500\u2500\u2500\u2500\u2500\u2500\u2500\u2500\u2500\u2500\u2500\u2500\u2500\u2500\u2500\u2500\u2500\u2500\u2500\u2500\u2500\u2500\u2500\u2500\u2500\n                                                           2   \u239b 2    2\u239e      \n                                                          a \u22c5t\u22c5\u239da  + t \u23a0      \n\n                  2                       2         \n\u221e\u22c5t)\u22c5sinh(\u221e\u22c5a) + t \u22c5cos(\u221e\u22c5t)\u22c5cosh(\u221e\u22c5a) - t \u22c5cos(\u221e\u22c5t)\n\u2500\u2500\u2500\u2500\u2500\u2500\u2500\u2500\u2500\u2500\u2500\u2500\u2500\u2500\u2500\u2500\u2500\u2500\u2500\u2500\u2500\u2500\u2500\u2500\u2500\u2500\u2500\u2500\u2500\u2500\u2500\u2500\u2500\u2500\u2500\u2500\u2500\u2500\u2500\u2500\u2500\u2500\u2500\u2500\u2500\u2500\u2500\u2500\u2500\u2500\u2500\u2500\n                                                    \n                                                    "
      }
     ], 
     "prompt_number": 44
    }, 
    {
     "cell_type": "markdown", 
     "source": "19"
    }, 
    {
     "cell_type": "code", 
     "collapsed": false, 
     "input": "t**(-a)", 
     "language": "python", 
     "outputs": [
      {
       "output_type": "pyout", 
       "png": "[encoded data removed]", 
       "prompt_number": 45, 
       "text": "\n -a\nt  "
      }
     ], 
     "prompt_number": 45
    }, 
    {
     "cell_type": "code", 
     "collapsed": false, 
     "input": "sine_transform(_, t, w)", 
     "language": "python", 
     "outputs": [
      {
       "output_type": "pyout", 
       "png": "[encoded data removed]", 
       "prompt_number": 46, 
       "text": "\n -a + 1/2  a - 1  \u239b  a    \u239e\n2        \u22c5w     \u22c5\u0393\u239c- \u2500 + 1\u239f\n                  \u239d  2    \u23a0\n\u2500\u2500\u2500\u2500\u2500\u2500\u2500\u2500\u2500\u2500\u2500\u2500\u2500\u2500\u2500\u2500\u2500\u2500\u2500\u2500\u2500\u2500\u2500\u2500\u2500\u2500\u2500\n           \u239ba   1\u239e         \n          \u0393\u239c\u2500 + \u2500\u239f         \n           \u239d2   2\u23a0         "
      }
     ], 
     "prompt_number": 46
    }, 
    {
     "cell_type": "code", 
     "collapsed": false, 
     "input": "inverse_sine_transform(_, w, t)", 
     "language": "python", 
     "outputs": [
      {
       "output_type": "pyout", 
       "png": "[encoded data removed]", 
       "prompt_number": 47, 
       "text": "\n -a\nt  "
      }
     ], 
     "prompt_number": 47
    }, 
    {
     "cell_type": "markdown", 
     "source": "20"
    }, 
    {
     "cell_type": "code", 
     "collapsed": false, 
     "input": "exp(-a*t)", 
     "language": "python", 
     "outputs": [
      {
       "output_type": "pyout", 
       "png": "[encoded data removed]", 
       "prompt_number": 48, 
       "text": "\n -a\u22c5t\n\u212f    "
      }
     ], 
     "prompt_number": 48
    }, 
    {
     "cell_type": "code", 
     "collapsed": false, 
     "input": "sine_transform(_, t, w)", 
     "language": "python", 
     "outputs": [
      {
       "output_type": "pyout", 
       "png": "[encoded data removed]", 
       "prompt_number": 49, 
       "text": "\n      ___      \n    \u2572\u2571 2 \u22c5w    \n\u2500\u2500\u2500\u2500\u2500\u2500\u2500\u2500\u2500\u2500\u2500\u2500\u2500\u2500\u2500\n  ___ \u239b 2    2\u239e\n\u2572\u2571 \u03c0 \u22c5\u239da  + w \u23a0"
      }
     ], 
     "prompt_number": 49
    }, 
    {
     "cell_type": "code", 
     "collapsed": false, 
     "input": "inverse_sine_transform(_, w, t)", 
     "language": "python", 
     "outputs": [
      {
       "output_type": "pyout", 
       "png": "[encoded data removed]", 
       "prompt_number": 50, 
       "text": "-sinh(a\u22c5t) + cosh(a\u22c5t)"
      }
     ], 
     "prompt_number": 50
    }, 
    {
     "cell_type": "markdown", 
     "source": "21"
    }, 
    {
     "cell_type": "code", 
     "collapsed": false, 
     "input": "exp(-a*t)/t", 
     "language": "python", 
     "outputs": [
      {
       "output_type": "pyout", 
       "png": "[encoded data removed]", 
       "prompt_number": 51, 
       "text": "\n -a\u22c5t\n\u212f    \n\u2500\u2500\u2500\u2500\u2500\n  t  "
      }
     ], 
     "prompt_number": 51
    }, 
    {
     "cell_type": "code", 
     "collapsed": false, 
     "input": "sine_transform(_, t, w)", 
     "language": "python", 
     "outputs": [
      {
       "output_type": "pyout", 
       "png": "[encoded data removed]", 
       "prompt_number": 52, 
       "text": "\n  ___     \u239bw\u239e\n\u2572\u2571 2 \u22c5atan\u239c\u2500\u239f\n          \u239da\u23a0\n\u2500\u2500\u2500\u2500\u2500\u2500\u2500\u2500\u2500\u2500\u2500\u2500\u2500\n      ___    \n    \u2572\u2571 \u03c0     "
      }
     ], 
     "prompt_number": 52
    }, 
    {
     "cell_type": "code", 
     "collapsed": true, 
     "input": "#inverse_sine_transform(_, w, t)", 
     "language": "python", 
     "outputs": [], 
     "prompt_number": 53
    }, 
    {
     "cell_type": "markdown", 
     "source": "22"
    }, 
    {
     "cell_type": "code", 
     "collapsed": false, 
     "input": "(exp(-a*t)-exp(-b*t))/t**2", 
     "language": "python", 
     "outputs": [
      {
       "output_type": "pyout", 
       "png": "[encoded data removed]", 
       "prompt_number": 54, 
       "text": "\n   -b\u22c5t    -a\u22c5t\n- \u212f     + \u212f    \n\u2500\u2500\u2500\u2500\u2500\u2500\u2500\u2500\u2500\u2500\u2500\u2500\u2500\u2500\u2500\n        2      \n       t       "
      }
     ], 
     "prompt_number": 54
    }, 
    {
     "cell_type": "code", 
     "collapsed": false, 
     "input": "sine_transform(_, t, w)", 
     "language": "python", 
     "outputs": [
      {
       "output_type": "pyout", 
       "png": "[encoded data removed]", 
       "prompt_number": 55, 
       "text": "\n             \u239b -a\u22c5t      \u239e                \u239b -b\u22c5t      \u239e\n             \u239c\u212f          \u239f                \u239c\u212f          \u239f\nSineTransform\u239c\u2500\u2500\u2500\u2500\u2500, t, w\u239f - SineTransform\u239c\u2500\u2500\u2500\u2500\u2500, t, w\u239f\n             \u239c   2       \u239f                \u239c   2       \u239f\n             \u239d  t        \u23a0                \u239d  t        \u23a0"
      }
     ], 
     "prompt_number": 55
    }, 
    {
     "cell_type": "markdown", 
     "source": "23"
    }, 
    {
     "cell_type": "code", 
     "collapsed": false, 
     "input": "sqrt(t)*exp(-a*t)", 
     "language": "python", 
     "outputs": [
      {
       "output_type": "pyout", 
       "png": "[encoded data removed]", 
       "prompt_number": 56, 
       "text": "\n  ___  -a\u22c5t\n\u2572\u2571 t \u22c5\u212f    "
      }
     ], 
     "prompt_number": 56
    }, 
    {
     "cell_type": "code", 
     "collapsed": false, 
     "input": "sine_transform(_, t, w)", 
     "language": "python", 
     "outputs": [
      {
       "output_type": "pyout", 
       "png": "[encoded data removed]", 
       "prompt_number": 57, 
       "text": "\n      \u239b      \u239b      \u239bw\u239e\u239e               ________    \u239b      \u239bw\u239e\u239e         \u239b      \n      \u239c      \u239c7\u22c5atan\u239c\u2500\u239f\u239f              \u2571      2     \u239c5\u22c5atan\u239c\u2500\u239f\u239f         \u239c7\u22c5atan\n  ___ \u239c 2    \u239c      \u239da\u23a0\u239f             \u2571      w      \u239c      \u239da\u23a0\u239f    2    \u239c      \n\u2572\u2571 2 \u22c5\u239ca \u22c5sin\u239c\u2500\u2500\u2500\u2500\u2500\u2500\u2500\u2500\u2500\u239f - 2\u22c5a\u22c5w\u22c5   \u2571   1 + \u2500\u2500 \u22c5cos\u239c\u2500\u2500\u2500\u2500\u2500\u2500\u2500\u2500\u2500\u239f + w \u22c5sin\u239c\u2500\u2500\u2500\u2500\u2500\u2500\n      \u239c      \u239d    2    \u23a0           \u2571         2     \u239d    2    \u23a0         \u239d    2 \n      \u239d                          \u2572\u2571         a                                 \n\u2500\u2500\u2500\u2500\u2500\u2500\u2500\u2500\u2500\u2500\u2500\u2500\u2500\u2500\u2500\u2500\u2500\u2500\u2500\u2500\u2500\u2500\u2500\u2500\u2500\u2500\u2500\u2500\u2500\u2500\u2500\u2500\u2500\u2500\u2500\u2500\u2500\u2500\u2500\u2500\u2500\u2500\u2500\u2500\u2500\u2500\u2500\u2500\u2500\u2500\u2500\u2500\u2500\u2500\u2500\u2500\u2500\u2500\u2500\u2500\u2500\u2500\u2500\u2500\u2500\u2500\u2500\u2500\u2500\u2500\u2500\u2500\u2500\u2500\u2500\u2500\u2500\u2500\n                                                7/4                           \n                                        \u239b     2\u239e                              \n                                    7/2 \u239c    w \u239f                              \n                                 2\u22c5a   \u22c5\u239c1 + \u2500\u2500\u239f                              \n                                        \u239c     2\u239f                              \n                                        \u239d    a \u23a0                              \n\n\u239bw\u239e\u239e\u239e\n\u239c\u2500\u239f\u239f\u239f\n\u239da\u23a0\u239f\u239f\n\u2500\u2500\u2500\u239f\u239f\n   \u23a0\u239f\n    \u23a0\n\u2500\u2500\u2500\u2500\u2500\n     \n     \n     \n     \n     \n     "
      }
     ], 
     "prompt_number": 57
    }, 
    {
     "cell_type": "code", 
     "collapsed": false, 
     "input": "simplify(_)", 
     "language": "python", 
     "outputs": [
      {
       "output_type": "pyout", 
       "png": "[encoded data removed]", 
       "prompt_number": 58, 
       "text": "\n      \u239b      \u239b      \u239bw\u239e\u239e               ________    \u239b      \u239bw\u239e\u239e         \u239b      \n      \u239c      \u239c7\u22c5atan\u239c\u2500\u239f\u239f              \u2571      2     \u239c5\u22c5atan\u239c\u2500\u239f\u239f         \u239c7\u22c5atan\n  ___ \u239c 2    \u239c      \u239da\u23a0\u239f             \u2571      w      \u239c      \u239da\u23a0\u239f    2    \u239c      \n\u2572\u2571 2 \u22c5\u239ca \u22c5sin\u239c\u2500\u2500\u2500\u2500\u2500\u2500\u2500\u2500\u2500\u239f - 2\u22c5a\u22c5w\u22c5   \u2571   1 + \u2500\u2500 \u22c5cos\u239c\u2500\u2500\u2500\u2500\u2500\u2500\u2500\u2500\u2500\u239f + w \u22c5sin\u239c\u2500\u2500\u2500\u2500\u2500\u2500\n      \u239c      \u239d    2    \u23a0           \u2571         2     \u239d    2    \u23a0         \u239d    2 \n      \u239d                          \u2572\u2571         a                                 \n\u2500\u2500\u2500\u2500\u2500\u2500\u2500\u2500\u2500\u2500\u2500\u2500\u2500\u2500\u2500\u2500\u2500\u2500\u2500\u2500\u2500\u2500\u2500\u2500\u2500\u2500\u2500\u2500\u2500\u2500\u2500\u2500\u2500\u2500\u2500\u2500\u2500\u2500\u2500\u2500\u2500\u2500\u2500\u2500\u2500\u2500\u2500\u2500\u2500\u2500\u2500\u2500\u2500\u2500\u2500\u2500\u2500\u2500\u2500\u2500\u2500\u2500\u2500\u2500\u2500\u2500\u2500\u2500\u2500\u2500\u2500\u2500\u2500\u2500\u2500\u2500\u2500\u2500\n                                                7/4                           \n                                        \u239b     2\u239e                              \n                                    7/2 \u239c    w \u239f                              \n                                 2\u22c5a   \u22c5\u239c1 + \u2500\u2500\u239f                              \n                                        \u239c     2\u239f                              \n                                        \u239d    a \u23a0                              \n\n\u239bw\u239e\u239e\u239e\n\u239c\u2500\u239f\u239f\u239f\n\u239da\u23a0\u239f\u239f\n\u2500\u2500\u2500\u239f\u239f\n   \u23a0\u239f\n    \u23a0\n\u2500\u2500\u2500\u2500\u2500\n     \n     \n     \n     \n     \n     "
      }
     ], 
     "prompt_number": 58
    }, 
    {
     "cell_type": "code", 
     "collapsed": true, 
     "input": "#inverse_sine_transform(_, w, t)", 
     "language": "python", 
     "outputs": [], 
     "prompt_number": 59
    }, 
    {
     "cell_type": "markdown", 
     "source": "24"
    }, 
    {
     "cell_type": "code", 
     "collapsed": false, 
     "input": "exp(-a*t)/sqrt(t)", 
     "language": "python", 
     "outputs": [
      {
       "output_type": "pyout", 
       "png": "[encoded data removed]", 
       "prompt_number": 60, 
       "text": "\n -a\u22c5t\n\u212f    \n\u2500\u2500\u2500\u2500\u2500\n  ___\n\u2572\u2571 t "
      }
     ], 
     "prompt_number": 60
    }, 
    {
     "cell_type": "code", 
     "collapsed": false, 
     "input": "sine_transform(_, t, w)", 
     "language": "python", 
     "outputs": [
      {
       "output_type": "pyout", 
       "png": "[encoded data removed]", 
       "prompt_number": 61, 
       "text": "\n     \u239b         ________          \u239e    \n     \u239c        \u2571      2           \u239f    \n     \u239c 2     \u2571      w      2    2\u239f    \n   w\u22c5\u239ca \u22c5   \u2571   1 + \u2500\u2500  + a  + w \u239f    \n     \u239c     \u2571         2           \u239f    \n     \u239d   \u2572\u2571         a            \u23a0    \n\u2500\u2500\u2500\u2500\u2500\u2500\u2500\u2500\u2500\u2500\u2500\u2500\u2500\u2500\u2500\u2500\u2500\u2500\u2500\u2500\u2500\u2500\u2500\u2500\u2500\u2500\u2500\u2500\u2500\u2500\u2500\u2500\u2500\u2500\u2500\u2500\u2500\u2500\n                                   3/2\n               \u239b      ________    \u239e   \n               \u239c     \u2571      2     \u239f   \n 3/2 \u239b 2    2\u239e \u239c    \u2571      w      \u239f   \na   \u22c5\u239da  + w \u23a0\u22c5\u239c   \u2571   1 + \u2500\u2500  + 1\u239f   \n               \u239c  \u2571         2     \u239f   \n               \u239d\u2572\u2571         a      \u23a0   "
      }
     ], 
     "prompt_number": 61
    }, 
    {
     "cell_type": "code", 
     "collapsed": false, 
     "input": "simplify(_)", 
     "language": "python", 
     "outputs": [
      {
       "output_type": "pyout", 
       "png": "[encoded data removed]", 
       "prompt_number": 62, 
       "text": "\n     \u239b         ________          \u239e    \n     \u239c        \u2571      2           \u239f    \n     \u239c 2     \u2571      w      2    2\u239f    \n   w\u22c5\u239ca \u22c5   \u2571   1 + \u2500\u2500  + a  + w \u239f    \n     \u239c     \u2571         2           \u239f    \n     \u239d   \u2572\u2571         a            \u23a0    \n\u2500\u2500\u2500\u2500\u2500\u2500\u2500\u2500\u2500\u2500\u2500\u2500\u2500\u2500\u2500\u2500\u2500\u2500\u2500\u2500\u2500\u2500\u2500\u2500\u2500\u2500\u2500\u2500\u2500\u2500\u2500\u2500\u2500\u2500\u2500\u2500\u2500\u2500\n                                   3/2\n               \u239b      ________    \u239e   \n               \u239c     \u2571      2     \u239f   \n 3/2 \u239b 2    2\u239e \u239c    \u2571      w      \u239f   \na   \u22c5\u239da  + w \u23a0\u22c5\u239c   \u2571   1 + \u2500\u2500  + 1\u239f   \n               \u239c  \u2571         2     \u239f   \n               \u239d\u2572\u2571         a      \u23a0   "
      }
     ], 
     "prompt_number": 62
    }, 
    {
     "cell_type": "code", 
     "collapsed": true, 
     "input": "#inverse_sine_transform(_, w, t)", 
     "language": "python", 
     "outputs": [], 
     "prompt_number": 63
    }, 
    {
     "cell_type": "markdown", 
     "source": "25"
    }, 
    {
     "cell_type": "code", 
     "collapsed": false, 
     "input": "t**n*exp(-a*t)", 
     "language": "python", 
     "outputs": [
      {
       "output_type": "pyout", 
       "png": "[encoded data removed]", 
       "prompt_number": 64, 
       "text": "\n n  -a\u22c5t\nt \u22c5\u212f    "
      }
     ], 
     "prompt_number": 64
    }, 
    {
     "cell_type": "code", 
     "collapsed": false, 
     "input": "sine_transform(_, t, w)", 
     "language": "python", 
     "outputs": [
      {
       "output_type": "pyout", 
       "png": "[encoded data removed]", 
       "prompt_number": 65, 
       "text": "\n                        n   1                                                 \n                      - \u2500 - \u2500                                                 \n                        2   2 \u239b                                            ___\n              \u239b     2\u239e        \u239c                                           \u2571   \n  ___  -n - 1 \u239c    w \u239f        \u239c 2    \u239b      \u239bw\u239e         \u239bw\u239e\u239e             \u2571    \n\u2572\u2571 2 \u22c5a      \u22c5\u239c1 + \u2500\u2500\u239f       \u22c5\u239ca \u22c5sin\u239cn\u22c5atan\u239c\u2500\u239f + 3\u22c5atan\u239c\u2500\u239f\u239f - 2\u22c5a\u22c5w\u22c5   \u2571   1 \n              \u239c     2\u239f        \u239c      \u239d      \u239da\u23a0         \u239da\u23a0\u23a0           \u2571      \n              \u239d    a \u23a0        \u239d                                      \u2572\u2571       \n\u2500\u2500\u2500\u2500\u2500\u2500\u2500\u2500\u2500\u2500\u2500\u2500\u2500\u2500\u2500\u2500\u2500\u2500\u2500\u2500\u2500\u2500\u2500\u2500\u2500\u2500\u2500\u2500\u2500\u2500\u2500\u2500\u2500\u2500\u2500\u2500\u2500\u2500\u2500\u2500\u2500\u2500\u2500\u2500\u2500\u2500\u2500\u2500\u2500\u2500\u2500\u2500\u2500\u2500\u2500\u2500\u2500\u2500\u2500\u2500\u2500\u2500\u2500\u2500\u2500\u2500\u2500\u2500\u2500\u2500\u2500\u2500\u2500\u2500\u2500\u2500\u2500\u2500\n                                                                      ___ \u239b 2 \n                                                                    \u2572\u2571 \u03c0 \u22c5\u239da  \n\n                                                                          \n                                                                          \n_____                                                           \u239e         \n   2                                                            \u239f         \n  w      \u239b      \u239bw\u239e         \u239bw\u239e\u239e    2    \u239b      \u239bw\u239e         \u239bw\u239e\u239e\u239f         \n+ \u2500\u2500 \u22c5cos\u239cn\u22c5atan\u239c\u2500\u239f + 2\u22c5atan\u239c\u2500\u239f\u239f + w \u22c5sin\u239cn\u22c5atan\u239c\u2500\u239f + 3\u22c5atan\u239c\u2500\u239f\u239f\u239f\u22c5\u0393(n + 1)\n   2     \u239d      \u239da\u23a0         \u239da\u23a0\u23a0         \u239d      \u239da\u23a0         \u239da\u23a0\u23a0\u239f         \n  a                                                             \u23a0         \n\u2500\u2500\u2500\u2500\u2500\u2500\u2500\u2500\u2500\u2500\u2500\u2500\u2500\u2500\u2500\u2500\u2500\u2500\u2500\u2500\u2500\u2500\u2500\u2500\u2500\u2500\u2500\u2500\u2500\u2500\u2500\u2500\u2500\u2500\u2500\u2500\u2500\u2500\u2500\u2500\u2500\u2500\u2500\u2500\u2500\u2500\u2500\u2500\u2500\u2500\u2500\u2500\u2500\u2500\u2500\u2500\u2500\u2500\u2500\u2500\u2500\u2500\u2500\u2500\u2500\u2500\u2500\u2500\u2500\u2500\u2500\u2500\u2500\u2500\n   2\u239e                                                                     \n+ w \u23a0                                                                     "
      }
     ], 
     "prompt_number": 65
    }, 
    {
     "cell_type": "code", 
     "collapsed": false, 
     "input": "simplify(_)", 
     "language": "python", 
     "outputs": [
      {
       "output_type": "pyout", 
       "png": "[encoded data removed]", 
       "prompt_number": 66, 
       "text": "\n                        n   1                                                 \n                      - \u2500 - \u2500                                                 \n                        2   2 \u239b                                            ___\n              \u239b     2\u239e        \u239c                                           \u2571   \n  ___  -n - 1 \u239c    w \u239f        \u239c 2    \u239b      \u239bw\u239e         \u239bw\u239e\u239e             \u2571    \n\u2572\u2571 2 \u22c5a      \u22c5\u239c1 + \u2500\u2500\u239f       \u22c5\u239ca \u22c5sin\u239cn\u22c5atan\u239c\u2500\u239f + 3\u22c5atan\u239c\u2500\u239f\u239f - 2\u22c5a\u22c5w\u22c5   \u2571   1 \n              \u239c     2\u239f        \u239c      \u239d      \u239da\u23a0         \u239da\u23a0\u23a0           \u2571      \n              \u239d    a \u23a0        \u239d                                      \u2572\u2571       \n\u2500\u2500\u2500\u2500\u2500\u2500\u2500\u2500\u2500\u2500\u2500\u2500\u2500\u2500\u2500\u2500\u2500\u2500\u2500\u2500\u2500\u2500\u2500\u2500\u2500\u2500\u2500\u2500\u2500\u2500\u2500\u2500\u2500\u2500\u2500\u2500\u2500\u2500\u2500\u2500\u2500\u2500\u2500\u2500\u2500\u2500\u2500\u2500\u2500\u2500\u2500\u2500\u2500\u2500\u2500\u2500\u2500\u2500\u2500\u2500\u2500\u2500\u2500\u2500\u2500\u2500\u2500\u2500\u2500\u2500\u2500\u2500\u2500\u2500\u2500\u2500\u2500\u2500\n                                                                      ___ \u239b 2 \n                                                                    \u2572\u2571 \u03c0 \u22c5\u239da  \n\n                                                                          \n                                                                          \n_____                                                           \u239e         \n   2                                                            \u239f         \n  w      \u239b      \u239bw\u239e         \u239bw\u239e\u239e    2    \u239b      \u239bw\u239e         \u239bw\u239e\u239e\u239f         \n+ \u2500\u2500 \u22c5cos\u239cn\u22c5atan\u239c\u2500\u239f + 2\u22c5atan\u239c\u2500\u239f\u239f + w \u22c5sin\u239cn\u22c5atan\u239c\u2500\u239f + 3\u22c5atan\u239c\u2500\u239f\u239f\u239f\u22c5\u0393(n + 1)\n   2     \u239d      \u239da\u23a0         \u239da\u23a0\u23a0         \u239d      \u239da\u23a0         \u239da\u23a0\u23a0\u239f         \n  a                                                             \u23a0         \n\u2500\u2500\u2500\u2500\u2500\u2500\u2500\u2500\u2500\u2500\u2500\u2500\u2500\u2500\u2500\u2500\u2500\u2500\u2500\u2500\u2500\u2500\u2500\u2500\u2500\u2500\u2500\u2500\u2500\u2500\u2500\u2500\u2500\u2500\u2500\u2500\u2500\u2500\u2500\u2500\u2500\u2500\u2500\u2500\u2500\u2500\u2500\u2500\u2500\u2500\u2500\u2500\u2500\u2500\u2500\u2500\u2500\u2500\u2500\u2500\u2500\u2500\u2500\u2500\u2500\u2500\u2500\u2500\u2500\u2500\u2500\u2500\u2500\u2500\n   2\u239e                                                                     \n+ w \u23a0                                                                     "
      }
     ], 
     "prompt_number": 66
    }, 
    {
     "cell_type": "markdown", 
     "source": "26"
    }, 
    {
     "cell_type": "code", 
     "collapsed": false, 
     "input": "t**(n-1)*exp(-a*t)", 
     "language": "python", 
     "outputs": [
      {
       "output_type": "pyout", 
       "png": "[encoded data removed]", 
       "prompt_number": 67, 
       "text": "\n n - 1  -a\u22c5t\nt     \u22c5\u212f    "
      }
     ], 
     "prompt_number": 67
    }, 
    {
     "cell_type": "code", 
     "collapsed": false, 
     "input": "sine_transform(_, t, w)", 
     "language": "python", 
     "outputs": [
      {
       "output_type": "pyout", 
       "png": "[encoded data removed]", 
       "prompt_number": 68, 
       "text": "\n              \u239b                                                n   1          \n              \u239c                                              - \u2500 - \u2500          \n              \u239c 2    \u239b      \u239bw\u239e         \u239bw\u239e\u239e                   2   2          \n              \u239ca \u22c5sin\u239cn\u22c5atan\u239c\u2500\u239f + 2\u22c5atan\u239c\u2500\u239f\u239f         \u239b     2\u239e                 \n  ___  -n - 2 \u239c      \u239d      \u239da\u23a0         \u239da\u23a0\u23a0         \u239c    w \u239f           \u239b     \n\u2572\u2571 2 \u22c5a      \u22c5\u239c\u2500\u2500\u2500\u2500\u2500\u2500\u2500\u2500\u2500\u2500\u2500\u2500\u2500\u2500\u2500\u2500\u2500\u2500\u2500\u2500\u2500\u2500\u2500\u2500\u2500\u2500\u2500\u2500\u2500 - 2\u22c5a\u22c5w\u22c5\u239c1 + \u2500\u2500\u239f       \u22c5cos\u239cn\u22c5ata\n              \u239c                          n           \u239c     2\u239f           \u239d     \n              \u239c                          \u2500           \u239d    a \u23a0                 \n              \u239c                          2                                    \n              \u239c           n      \u239b     2\u239e                                     \n              \u239c           \u2500    2 \u239c    w \u239f                                     \n              \u239c           2   w \u22c5\u239c1 + \u2500\u2500\u239f                                     \n              \u239c   \u239b     2\u239e       \u239c     2\u239f                                     \n              \u239c   \u239c    w \u239f       \u239d    a \u23a0                                     \n              \u239c   \u239c1 + \u2500\u2500\u239f  + \u2500\u2500\u2500\u2500\u2500\u2500\u2500\u2500\u2500\u2500\u2500\u2500                                    \n              \u239c   \u239c     2\u239f          2                                         \n              \u239d   \u239d    a \u23a0         a                                          \n\u2500\u2500\u2500\u2500\u2500\u2500\u2500\u2500\u2500\u2500\u2500\u2500\u2500\u2500\u2500\u2500\u2500\u2500\u2500\u2500\u2500\u2500\u2500\u2500\u2500\u2500\u2500\u2500\u2500\u2500\u2500\u2500\u2500\u2500\u2500\u2500\u2500\u2500\u2500\u2500\u2500\u2500\u2500\u2500\u2500\u2500\u2500\u2500\u2500\u2500\u2500\u2500\u2500\u2500\u2500\u2500\u2500\u2500\u2500\u2500\u2500\u2500\u2500\u2500\u2500\u2500\u2500\u2500\u2500\u2500\u2500\u2500\u2500\u2500\u2500\u2500\u2500\u2500\n                                                                  ___         \n                                                                \u2572\u2571 \u03c0 \u22c5n       \n\n                                               \u239e         \n                                               \u239f         \n                   2    \u239b      \u239bw\u239e         \u239bw\u239e\u239e\u239f         \n                  w \u22c5sin\u239cn\u22c5atan\u239c\u2500\u239f + 2\u22c5atan\u239c\u2500\u239f\u239f\u239f         \n \u239bw\u239e       \u239bw\u239e\u239e         \u239d      \u239da\u23a0         \u239da\u23a0\u23a0\u239f         \nn\u239c\u2500\u239f + atan\u239c\u2500\u239f\u239f + \u2500\u2500\u2500\u2500\u2500\u2500\u2500\u2500\u2500\u2500\u2500\u2500\u2500\u2500\u2500\u2500\u2500\u2500\u2500\u2500\u2500\u2500\u2500\u2500\u2500\u2500\u2500\u2500\u2500\u239f\u22c5\u0393(n + 1)\n \u239da\u23a0       \u239da\u23a0\u23a0                             n  \u239f         \n                                            \u2500  \u239f         \n                                            2  \u239f         \n                             n      \u239b     2\u239e   \u239f         \n                             \u2500    2 \u239c    w \u239f   \u239f         \n                             2   w \u22c5\u239c1 + \u2500\u2500\u239f   \u239f         \n                     \u239b     2\u239e       \u239c     2\u239f   \u239f         \n                     \u239c    w \u239f       \u239d    a \u23a0   \u239f         \n                     \u239c1 + \u2500\u2500\u239f  + \u2500\u2500\u2500\u2500\u2500\u2500\u2500\u2500\u2500\u2500\u2500\u2500  \u239f         \n                     \u239c     2\u239f          2       \u239f         \n                     \u239d    a \u23a0         a        \u23a0         \n\u2500\u2500\u2500\u2500\u2500\u2500\u2500\u2500\u2500\u2500\u2500\u2500\u2500\u2500\u2500\u2500\u2500\u2500\u2500\u2500\u2500\u2500\u2500\u2500\u2500\u2500\u2500\u2500\u2500\u2500\u2500\u2500\u2500\u2500\u2500\u2500\u2500\u2500\u2500\u2500\u2500\u2500\u2500\u2500\u2500\u2500\u2500\u2500\u2500\u2500\u2500\u2500\u2500\u2500\u2500\u2500\u2500\n                                                         \n                                                         "
      }
     ], 
     "prompt_number": 68
    }, 
    {
     "cell_type": "code", 
     "collapsed": false, 
     "input": "simplify(_)", 
     "language": "python", 
     "outputs": [
      {
       "output_type": "pyout", 
       "png": "[encoded data removed]", 
       "prompt_number": 69, 
       "text": "\n                         n   1                                                \n                       - \u2500 - \u2500                                                \n                         2   2 \u239b          ________                            \n               \u239b     2\u239e        \u239c         \u2571      2                             \n   ___  -n - 1 \u239c    w \u239f        \u239c        \u2571      w      \u239b      \u239bw\u239e         \u239bw\u239e\u239e \n-\u2572\u2571 2 \u22c5a      \u22c5\u239c1 + \u2500\u2500\u239f       \u22c5\u239c- a\u22c5   \u2571   1 + \u2500\u2500 \u22c5sin\u239cn\u22c5atan\u239c\u2500\u239f + 2\u22c5atan\u239c\u2500\u239f\u239f \n               \u239c     2\u239f        \u239c      \u2571         2     \u239d      \u239da\u23a0         \u239da\u23a0\u23a0 \n               \u239d    a \u23a0        \u239d    \u2572\u2571         a                              \n\u2500\u2500\u2500\u2500\u2500\u2500\u2500\u2500\u2500\u2500\u2500\u2500\u2500\u2500\u2500\u2500\u2500\u2500\u2500\u2500\u2500\u2500\u2500\u2500\u2500\u2500\u2500\u2500\u2500\u2500\u2500\u2500\u2500\u2500\u2500\u2500\u2500\u2500\u2500\u2500\u2500\u2500\u2500\u2500\u2500\u2500\u2500\u2500\u2500\u2500\u2500\u2500\u2500\u2500\u2500\u2500\u2500\u2500\u2500\u2500\u2500\u2500\u2500\u2500\u2500\u2500\u2500\u2500\u2500\u2500\u2500\u2500\u2500\u2500\u2500\u2500\u2500\u2500\n                                                        ___                   \n                                                      \u2572\u2571 \u03c0                    \n\n                                    \n                                    \n                              \u239e     \n                              \u239f     \n         \u239b      \u239bw\u239e       \u239bw\u239e\u239e\u239f     \n+ 2\u22c5w\u22c5cos\u239cn\u22c5atan\u239c\u2500\u239f + atan\u239c\u2500\u239f\u239f\u239f\u22c5\u0393(n)\n         \u239d      \u239da\u23a0       \u239da\u23a0\u23a0\u239f     \n                              \u23a0     \n\u2500\u2500\u2500\u2500\u2500\u2500\u2500\u2500\u2500\u2500\u2500\u2500\u2500\u2500\u2500\u2500\u2500\u2500\u2500\u2500\u2500\u2500\u2500\u2500\u2500\u2500\u2500\u2500\u2500\u2500\u2500\u2500\u2500\u2500\u2500\u2500\n                                    \n                                    "
      }
     ], 
     "prompt_number": 69
    }, 
    {
     "cell_type": "code", 
     "collapsed": true, 
     "input": "#inverse_sine_transform(_, w, t)", 
     "language": "python", 
     "outputs": [], 
     "prompt_number": 70
    }, 
    {
     "cell_type": "markdown", 
     "source": "27"
    }, 
    {
     "cell_type": "code", 
     "collapsed": false, 
     "input": "exp(-t/2)*1/(1-exp(-t))", 
     "language": "python", 
     "outputs": [
      {
       "output_type": "pyout", 
       "png": "[encoded data removed]", 
       "prompt_number": 71, 
       "text": "\n   -t  \n   \u2500\u2500  \n   2   \n  \u212f    \n\u2500\u2500\u2500\u2500\u2500\u2500\u2500\n     -t\n1 - \u212f  "
      }
     ], 
     "prompt_number": 71
    }, 
    {
     "cell_type": "code", 
     "collapsed": false, 
     "input": "sine_transform(_, t, w)", 
     "language": "python", 
     "outputs": [
      {
       "output_type": "pyout", 
       "png": "[encoded data removed]", 
       "prompt_number": 72, 
       "text": "\n             \u239b   1          \u239e\nSineTransform\u239c\u2500\u2500\u2500\u2500\u2500\u2500\u2500\u2500, t, w\u239f\n             \u239c t    -t      \u239f\n             \u239c \u2500    \u2500\u2500      \u239f\n             \u239c 2    2       \u239f\n             \u239d\u212f  - \u212f        \u23a0"
      }
     ], 
     "prompt_number": 72
    }, 
    {
     "cell_type": "markdown", 
     "source": "28"
    }, 
    {
     "cell_type": "code", 
     "collapsed": false, 
     "input": "t*exp(-a*t**2)", 
     "language": "python", 
     "outputs": [
      {
       "output_type": "pyout", 
       "png": "[encoded data removed]", 
       "prompt_number": 73, 
       "text": "\n       2\n   -a\u22c5t \nt\u22c5\u212f     "
      }
     ], 
     "prompt_number": 73
    }, 
    {
     "cell_type": "code", 
     "collapsed": false, 
     "input": "sine_transform(_, t, w)", 
     "language": "python", 
     "outputs": [
      {
       "output_type": "pyout", 
       "png": "[encoded data removed]", 
       "prompt_number": 74, 
       "text": "\n           2\n         -w \n         \u2500\u2500\u2500\n  ___    4\u22c5a\n\u2572\u2571 2 \u22c5w\u22c5\u212f   \n\u2500\u2500\u2500\u2500\u2500\u2500\u2500\u2500\u2500\u2500\u2500\u2500\n      3/2   \n   4\u22c5a      "
      }
     ], 
     "prompt_number": 74
    }, 
    {
     "cell_type": "code", 
     "collapsed": false, 
     "input": "inverse_sine_transform(_, w, t)", 
     "language": "python", 
     "outputs": [
      {
       "output_type": "pyout", 
       "png": "[encoded data removed]", 
       "prompt_number": 75, 
       "text": "\n       2\n   -a\u22c5t \nt\u22c5\u212f     "
      }
     ], 
     "prompt_number": 75
    }, 
    {
     "cell_type": "markdown", 
     "source": "29"
    }, 
    {
     "cell_type": "code", 
     "collapsed": false, 
     "input": "t**(-S(1)/2)*exp(-a/t)", 
     "language": "python", 
     "outputs": [
      {
       "output_type": "pyout", 
       "png": "[encoded data removed]", 
       "prompt_number": 76, 
       "text": "\n  -a \n  \u2500\u2500 \n  t  \n \u212f   \n\u2500\u2500\u2500\u2500\u2500\n  ___\n\u2572\u2571 t "
      }
     ], 
     "prompt_number": 76
    }, 
    {
     "cell_type": "code", 
     "collapsed": false, 
     "input": "sine_transform(_, t, w)", 
     "language": "python", 
     "outputs": [
      {
       "output_type": "pyout", 
       "png": "[encoded data removed]", 
       "prompt_number": 77, 
       "text": "\n        \u239b                                      \u239b                        \u2148\u22c5\u03c0\u239e  \n        \u239c                                      \u239c                        \u2500\u2500\u2500\u239f  \n 8 ____ \u239c    7/8   ___    3/2  3/4  3/4        \u239c       ___   ___   ___   2 \u239f  \n-\u2572\u2571 -1 \u22c5\u239d(-1)   \u22c5\u2572\u2571 2 \u22c5\u2148\u22c5\u03c0   \u22c5a   \u22c5w   \u22c5besseli\u239d1/2, \u2572\u2571 2 \u22c5\u2572\u2571 a \u22c5\u2572\u2571 w \u22c5\u212f   \u23a0\u22c5b\n\u2500\u2500\u2500\u2500\u2500\u2500\u2500\u2500\u2500\u2500\u2500\u2500\u2500\u2500\u2500\u2500\u2500\u2500\u2500\u2500\u2500\u2500\u2500\u2500\u2500\u2500\u2500\u2500\u2500\u2500\u2500\u2500\u2500\u2500\u2500\u2500\u2500\u2500\u2500\u2500\u2500\u2500\u2500\u2500\u2500\u2500\u2500\u2500\u2500\u2500\u2500\u2500\u2500\u2500\u2500\u2500\u2500\u2500\u2500\u2500\u2500\u2500\u2500\u2500\u2500\u2500\u2500\u2500\u2500\u2500\u2500\u2500\u2500\u2500\u2500\u2500\u2500\u2500\n                                                                              \n                                                                              \n\n      \u239b                        \u2148\u22c5\u03c0\u239e                                 \u239b         \n      \u239c                        \u2500\u2500\u2500\u239f                                 \u239c         \n      \u239c       ___   ___   ___   2 \u239f                ___   ___        \u239c         \nesselj\u239d1/2, \u2572\u2571 2 \u22c5\u2572\u2571 a \u22c5\u2572\u2571 w \u22c5\u212f   \u23a0\u22c5\u0393(1/4) - 4\u22c5\u03c0\u22c5\u2572\u2571 a \u22c5\u2572\u2571 w \u22c5besseli\u239d-1/2, 2\u22c5\u2572\n\u2500\u2500\u2500\u2500\u2500\u2500\u2500\u2500\u2500\u2500\u2500\u2500\u2500\u2500\u2500\u2500\u2500\u2500\u2500\u2500\u2500\u2500\u2500\u2500\u2500\u2500\u2500\u2500\u2500\u2500\u2500\u2500\u2500\u2500\u2500\u2500\u2500\u2500\u2500\u2500\u2500\u2500\u2500\u2500\u2500\u2500\u2500\u2500\u2500\u2500\u2500\u2500\u2500\u2500\u2500\u2500\u2500\u2500\u2500\u2500\u2500\u2500\u2500\u2500\u2500\u2500\u2500\u2500\u2500\u2500\u2500\u2500\u2500\u2500\u2500\u2500\u2500\u2500\n                                                                              \n                                                                              \n\n            \u2148\u22c5\u03c0\u239e                                              \u239b               \n            \u2500\u2500\u2500\u239f                                              \u239c               \n ___   ___   4 \u239f            4 ____   ___     ___   ___        \u239c         ___   \n\u2571 a \u22c5\u2572\u2571 w \u22c5\u212f   \u23a0\u22c5\u0393(5/4) + 4\u22c5\u2572\u2571 -1 \u22c5\u2572\u2571 2 \u22c5\u03c0\u22c5\u2572\u2571 a \u22c5\u2572\u2571 w \u22c5besseli\u239d5/2, 2\u22c5\u2572\u2571 a \u22c5\u2572\u2571\n\u2500\u2500\u2500\u2500\u2500\u2500\u2500\u2500\u2500\u2500\u2500\u2500\u2500\u2500\u2500\u2500\u2500\u2500\u2500\u2500\u2500\u2500\u2500\u2500\u2500\u2500\u2500\u2500\u2500\u2500\u2500\u2500\u2500\u2500\u2500\u2500\u2500\u2500\u2500\u2500\u2500\u2500\u2500\u2500\u2500\u2500\u2500\u2500\u2500\u2500\u2500\u2500\u2500\u2500\u2500\u2500\u2500\u2500\u2500\u2500\u2500\u2500\u2500\u2500\u2500\u2500\u2500\u2500\u2500\u2500\u2500\u2500\u2500\u2500\u2500\u2500\u2500\u2500\n                                                                              \n                                                                          8\u22c5\u2572\u2571\n\n     \u2148\u22c5\u03c0\u239e                                 \u239b                     \u2148\u22c5\u03c0\u239e          \n     \u2500\u2500\u2500\u239f                                 \u239c                     \u2500\u2500\u2500\u239f          \n___   4 \u239f                ___   ___        \u239c          ___   ___   4 \u239f          \n w \u22c5\u212f   \u23a0\u22c5\u0393(5/4) - 4\u22c5\u03c0\u22c5\u2572\u2571 a \u22c5\u2572\u2571 w \u22c5besselj\u239d-1/2, 2\u22c5\u2572\u2571 a \u22c5\u2572\u2571 w \u22c5\u212f   \u23a0\u22c5\u0393(5/4) + \n\u2500\u2500\u2500\u2500\u2500\u2500\u2500\u2500\u2500\u2500\u2500\u2500\u2500\u2500\u2500\u2500\u2500\u2500\u2500\u2500\u2500\u2500\u2500\u2500\u2500\u2500\u2500\u2500\u2500\u2500\u2500\u2500\u2500\u2500\u2500\u2500\u2500\u2500\u2500\u2500\u2500\u2500\u2500\u2500\u2500\u2500\u2500\u2500\u2500\u2500\u2500\u2500\u2500\u2500\u2500\u2500\u2500\u2500\u2500\u2500\u2500\u2500\u2500\u2500\u2500\u2500\u2500\u2500\u2500\u2500\u2500\u2500\u2500\u2500\u2500\u2500\u2500\u2500\n___ 4 ___  3/4                                                                \n \u03c0 \u22c5\u2572\u2571 a \u22c5w   \u22c5\u0393(5/4)                                                         \n\n                                    \u239b                    \u2148\u22c5\u03c0\u239e                 \n                                    \u239c                    \u2500\u2500\u2500\u239f                 \n  4 ____   ___     ___   ___        \u239c         ___   ___   4 \u239f              ___\n4\u22c5\u2572\u2571 -1 \u22c5\u2572\u2571 2 \u22c5\u03c0\u22c5\u2572\u2571 a \u22c5\u2572\u2571 w \u22c5besselj\u239d5/2, 2\u22c5\u2572\u2571 a \u22c5\u2572\u2571 w \u22c5\u212f   \u23a0\u22c5\u0393(5/4) + 6\u22c5\u2572\u2571 2 \n\u2500\u2500\u2500\u2500\u2500\u2500\u2500\u2500\u2500\u2500\u2500\u2500\u2500\u2500\u2500\u2500\u2500\u2500\u2500\u2500\u2500\u2500\u2500\u2500\u2500\u2500\u2500\u2500\u2500\u2500\u2500\u2500\u2500\u2500\u2500\u2500\u2500\u2500\u2500\u2500\u2500\u2500\u2500\u2500\u2500\u2500\u2500\u2500\u2500\u2500\u2500\u2500\u2500\u2500\u2500\u2500\u2500\u2500\u2500\u2500\u2500\u2500\u2500\u2500\u2500\u2500\u2500\u2500\u2500\u2500\u2500\u2500\u2500\u2500\u2500\u2500\u2500\u2500\n                                                                              \n                                                                              \n\n          \u239b                    \u2148\u22c5\u03c0\u239e                           \u239b               \n          \u239c                    \u2500\u2500\u2500\u239f                           \u239c               \n          \u239c         ___   ___   4 \u239f              ___          \u239c         ___   \n\u22c5\u03c0\u22c5besseli\u239d3/2, 2\u22c5\u2572\u2571 a \u22c5\u2572\u2571 w \u22c5\u212f   \u23a0\u22c5\u0393(5/4) - 6\u22c5\u2572\u2571 2 \u22c5\u03c0\u22c5besselj\u239d3/2, 2\u22c5\u2572\u2571 a \u22c5\u2572\u2571\n\u2500\u2500\u2500\u2500\u2500\u2500\u2500\u2500\u2500\u2500\u2500\u2500\u2500\u2500\u2500\u2500\u2500\u2500\u2500\u2500\u2500\u2500\u2500\u2500\u2500\u2500\u2500\u2500\u2500\u2500\u2500\u2500\u2500\u2500\u2500\u2500\u2500\u2500\u2500\u2500\u2500\u2500\u2500\u2500\u2500\u2500\u2500\u2500\u2500\u2500\u2500\u2500\u2500\u2500\u2500\u2500\u2500\u2500\u2500\u2500\u2500\u2500\u2500\u2500\u2500\u2500\u2500\u2500\u2500\u2500\u2500\u2500\u2500\u2500\u2500\u2500\u2500\u2500\n                                                                              \n                                                                              \n\n     \u2148\u22c5\u03c0\u239e       \u239e\n     \u2500\u2500\u2500\u239f       \u239f\n___   4 \u239f       \u239f\n w \u22c5\u212f   \u23a0\u22c5\u0393(5/4)\u23a0\n\u2500\u2500\u2500\u2500\u2500\u2500\u2500\u2500\u2500\u2500\u2500\u2500\u2500\u2500\u2500\u2500\u2500\n                 \n                 "
      }
     ], 
     "prompt_number": 77
    }, 
    {
     "cell_type": "code", 
     "collapsed": false, 
     "input": "simplify(_)", 
     "language": "python", 
     "outputs": [
      {
       "output_type": "pyout", 
       "png": "[encoded data removed]", 
       "prompt_number": 78, 
       "text": "\n        \u239b                                      \u239b                        \u2148\u22c5\u03c0\u239e  \n        \u239c                                      \u239c                        \u2500\u2500\u2500\u239f  \n 8 ____ \u239c      3/8   ___  3/2  3/4  3/4        \u239c       ___   ___   ___   2 \u239f  \n-\u2572\u2571 -1 \u22c5\u239d- (-1)   \u22c5\u2572\u2571 2 \u22c5\u03c0   \u22c5a   \u22c5w   \u22c5besseli\u239d1/2, \u2572\u2571 2 \u22c5\u2572\u2571 a \u22c5\u2572\u2571 w \u22c5\u212f   \u23a0\u22c5b\n\u2500\u2500\u2500\u2500\u2500\u2500\u2500\u2500\u2500\u2500\u2500\u2500\u2500\u2500\u2500\u2500\u2500\u2500\u2500\u2500\u2500\u2500\u2500\u2500\u2500\u2500\u2500\u2500\u2500\u2500\u2500\u2500\u2500\u2500\u2500\u2500\u2500\u2500\u2500\u2500\u2500\u2500\u2500\u2500\u2500\u2500\u2500\u2500\u2500\u2500\u2500\u2500\u2500\u2500\u2500\u2500\u2500\u2500\u2500\u2500\u2500\u2500\u2500\u2500\u2500\u2500\u2500\u2500\u2500\u2500\u2500\u2500\u2500\u2500\u2500\u2500\u2500\u2500\n                                                                              \n                                                                              \n\n      \u239b                        \u2148\u22c5\u03c0\u239e                                 \u239b         \n      \u239c                        \u2500\u2500\u2500\u239f                                 \u239c         \n      \u239c       ___   ___   ___   2 \u239f                ___   ___        \u239c         \nesselj\u239d1/2, \u2572\u2571 2 \u22c5\u2572\u2571 a \u22c5\u2572\u2571 w \u22c5\u212f   \u23a0\u22c5\u0393(1/4) - 4\u22c5\u03c0\u22c5\u2572\u2571 a \u22c5\u2572\u2571 w \u22c5besseli\u239d-1/2, 2\u22c5\u2572\n\u2500\u2500\u2500\u2500\u2500\u2500\u2500\u2500\u2500\u2500\u2500\u2500\u2500\u2500\u2500\u2500\u2500\u2500\u2500\u2500\u2500\u2500\u2500\u2500\u2500\u2500\u2500\u2500\u2500\u2500\u2500\u2500\u2500\u2500\u2500\u2500\u2500\u2500\u2500\u2500\u2500\u2500\u2500\u2500\u2500\u2500\u2500\u2500\u2500\u2500\u2500\u2500\u2500\u2500\u2500\u2500\u2500\u2500\u2500\u2500\u2500\u2500\u2500\u2500\u2500\u2500\u2500\u2500\u2500\u2500\u2500\u2500\u2500\u2500\u2500\u2500\u2500\u2500\n                                                                              \n                                                                              \n\n            \u2148\u22c5\u03c0\u239e                                              \u239b               \n            \u2500\u2500\u2500\u239f                                              \u239c               \n ___   ___   4 \u239f            4 ____   ___     ___   ___        \u239c         ___   \n\u2571 a \u22c5\u2572\u2571 w \u22c5\u212f   \u23a0\u22c5\u0393(5/4) + 4\u22c5\u2572\u2571 -1 \u22c5\u2572\u2571 2 \u22c5\u03c0\u22c5\u2572\u2571 a \u22c5\u2572\u2571 w \u22c5besseli\u239d5/2, 2\u22c5\u2572\u2571 a \u22c5\u2572\u2571\n\u2500\u2500\u2500\u2500\u2500\u2500\u2500\u2500\u2500\u2500\u2500\u2500\u2500\u2500\u2500\u2500\u2500\u2500\u2500\u2500\u2500\u2500\u2500\u2500\u2500\u2500\u2500\u2500\u2500\u2500\u2500\u2500\u2500\u2500\u2500\u2500\u2500\u2500\u2500\u2500\u2500\u2500\u2500\u2500\u2500\u2500\u2500\u2500\u2500\u2500\u2500\u2500\u2500\u2500\u2500\u2500\u2500\u2500\u2500\u2500\u2500\u2500\u2500\u2500\u2500\u2500\u2500\u2500\u2500\u2500\u2500\u2500\u2500\u2500\u2500\u2500\u2500\u2500\n                                                                              \n                                                                          8\u22c5\u2572\u2571\n\n     \u2148\u22c5\u03c0\u239e                                 \u239b                     \u2148\u22c5\u03c0\u239e          \n     \u2500\u2500\u2500\u239f                                 \u239c                     \u2500\u2500\u2500\u239f          \n___   4 \u239f                ___   ___        \u239c          ___   ___   4 \u239f          \n w \u22c5\u212f   \u23a0\u22c5\u0393(5/4) - 4\u22c5\u03c0\u22c5\u2572\u2571 a \u22c5\u2572\u2571 w \u22c5besselj\u239d-1/2, 2\u22c5\u2572\u2571 a \u22c5\u2572\u2571 w \u22c5\u212f   \u23a0\u22c5\u0393(5/4) + \n\u2500\u2500\u2500\u2500\u2500\u2500\u2500\u2500\u2500\u2500\u2500\u2500\u2500\u2500\u2500\u2500\u2500\u2500\u2500\u2500\u2500\u2500\u2500\u2500\u2500\u2500\u2500\u2500\u2500\u2500\u2500\u2500\u2500\u2500\u2500\u2500\u2500\u2500\u2500\u2500\u2500\u2500\u2500\u2500\u2500\u2500\u2500\u2500\u2500\u2500\u2500\u2500\u2500\u2500\u2500\u2500\u2500\u2500\u2500\u2500\u2500\u2500\u2500\u2500\u2500\u2500\u2500\u2500\u2500\u2500\u2500\u2500\u2500\u2500\u2500\u2500\u2500\u2500\n___ 4 ___  3/4                                                                \n \u03c0 \u22c5\u2572\u2571 a \u22c5w   \u22c5\u0393(5/4)                                                         \n\n                                    \u239b                    \u2148\u22c5\u03c0\u239e                 \n                                    \u239c                    \u2500\u2500\u2500\u239f                 \n  4 ____   ___     ___   ___        \u239c         ___   ___   4 \u239f              ___\n4\u22c5\u2572\u2571 -1 \u22c5\u2572\u2571 2 \u22c5\u03c0\u22c5\u2572\u2571 a \u22c5\u2572\u2571 w \u22c5besselj\u239d5/2, 2\u22c5\u2572\u2571 a \u22c5\u2572\u2571 w \u22c5\u212f   \u23a0\u22c5\u0393(5/4) + 6\u22c5\u2572\u2571 2 \n\u2500\u2500\u2500\u2500\u2500\u2500\u2500\u2500\u2500\u2500\u2500\u2500\u2500\u2500\u2500\u2500\u2500\u2500\u2500\u2500\u2500\u2500\u2500\u2500\u2500\u2500\u2500\u2500\u2500\u2500\u2500\u2500\u2500\u2500\u2500\u2500\u2500\u2500\u2500\u2500\u2500\u2500\u2500\u2500\u2500\u2500\u2500\u2500\u2500\u2500\u2500\u2500\u2500\u2500\u2500\u2500\u2500\u2500\u2500\u2500\u2500\u2500\u2500\u2500\u2500\u2500\u2500\u2500\u2500\u2500\u2500\u2500\u2500\u2500\u2500\u2500\u2500\u2500\n                                                                              \n                                                                              \n\n          \u239b                    \u2148\u22c5\u03c0\u239e                           \u239b               \n          \u239c                    \u2500\u2500\u2500\u239f                           \u239c               \n          \u239c         ___   ___   4 \u239f              ___          \u239c         ___   \n\u22c5\u03c0\u22c5besseli\u239d3/2, 2\u22c5\u2572\u2571 a \u22c5\u2572\u2571 w \u22c5\u212f   \u23a0\u22c5\u0393(5/4) - 6\u22c5\u2572\u2571 2 \u22c5\u03c0\u22c5besselj\u239d3/2, 2\u22c5\u2572\u2571 a \u22c5\u2572\u2571\n\u2500\u2500\u2500\u2500\u2500\u2500\u2500\u2500\u2500\u2500\u2500\u2500\u2500\u2500\u2500\u2500\u2500\u2500\u2500\u2500\u2500\u2500\u2500\u2500\u2500\u2500\u2500\u2500\u2500\u2500\u2500\u2500\u2500\u2500\u2500\u2500\u2500\u2500\u2500\u2500\u2500\u2500\u2500\u2500\u2500\u2500\u2500\u2500\u2500\u2500\u2500\u2500\u2500\u2500\u2500\u2500\u2500\u2500\u2500\u2500\u2500\u2500\u2500\u2500\u2500\u2500\u2500\u2500\u2500\u2500\u2500\u2500\u2500\u2500\u2500\u2500\u2500\u2500\n                                                                              \n                                                                              \n\n     \u2148\u22c5\u03c0\u239e       \u239e\n     \u2500\u2500\u2500\u239f       \u239f\n___   4 \u239f       \u239f\n w \u22c5\u212f   \u23a0\u22c5\u0393(5/4)\u23a0\n\u2500\u2500\u2500\u2500\u2500\u2500\u2500\u2500\u2500\u2500\u2500\u2500\u2500\u2500\u2500\u2500\u2500\n                 \n                 "
      }
     ], 
     "prompt_number": 78
    }, 
    {
     "cell_type": "markdown", 
     "source": "30"
    }, 
    {
     "cell_type": "code", 
     "collapsed": false, 
     "input": "t**(-S(3)/2)*exp(-a/t)", 
     "language": "python", 
     "outputs": [
      {
       "output_type": "pyout", 
       "png": "[encoded data removed]", 
       "prompt_number": 79, 
       "text": "\n -a \n \u2500\u2500 \n t  \n\u212f   \n\u2500\u2500\u2500\u2500\n 3/2\nt   "
      }
     ], 
     "prompt_number": 79
    }, 
    {
     "cell_type": "code", 
     "collapsed": false, 
     "input": "sine_transform(_, t, w)", 
     "language": "python", 
     "outputs": [
      {
       "output_type": "pyout", 
       "png": "[encoded data removed]", 
       "prompt_number": 80, 
       "text": "\n        \u239b                                   \u239b                        \u2148\u22c5\u03c0\u239e     \n        \u239c                                   \u239c                        \u2500\u2500\u2500\u239f     \n 8 ____ \u239c       7/8    3/2  3/4  3/4        \u239c       ___   ___   ___   2 \u239f     \n-\u2572\u2571 -1 \u22c5\u239d64\u22c5(-1)   \u22c5\u2148\u22c5\u03c0   \u22c5a   \u22c5w   \u22c5besseli\u239d1/2, \u2572\u2571 2 \u22c5\u2572\u2571 a \u22c5\u2572\u2571 w \u22c5\u212f   \u23a0\u22c5bess\n\u2500\u2500\u2500\u2500\u2500\u2500\u2500\u2500\u2500\u2500\u2500\u2500\u2500\u2500\u2500\u2500\u2500\u2500\u2500\u2500\u2500\u2500\u2500\u2500\u2500\u2500\u2500\u2500\u2500\u2500\u2500\u2500\u2500\u2500\u2500\u2500\u2500\u2500\u2500\u2500\u2500\u2500\u2500\u2500\u2500\u2500\u2500\u2500\u2500\u2500\u2500\u2500\u2500\u2500\u2500\u2500\u2500\u2500\u2500\u2500\u2500\u2500\u2500\u2500\u2500\u2500\u2500\u2500\u2500\u2500\u2500\u2500\u2500\u2500\u2500\u2500\u2500\u2500\n                                                                              \n                                                                              \n\n   \u239b                        \u2148\u22c5\u03c0\u239e                                              \n   \u239c                        \u2500\u2500\u2500\u239f                                              \n   \u239c       ___   ___   ___   2 \u239f                       3/4     ___   ___      \nelj\u239d1/2, \u2572\u2571 2 \u22c5\u2572\u2571 a \u22c5\u2572\u2571 w \u22c5\u212f   \u23a0\u22c5\u0393(5/4)\u22c5\u0393(7/4) + 8\u22c5(-1)   \u22c5\u03c0\u22c5\u2572\u2571 a \u22c5\u2572\u2571 w \u22c5besse\n\u2500\u2500\u2500\u2500\u2500\u2500\u2500\u2500\u2500\u2500\u2500\u2500\u2500\u2500\u2500\u2500\u2500\u2500\u2500\u2500\u2500\u2500\u2500\u2500\u2500\u2500\u2500\u2500\u2500\u2500\u2500\u2500\u2500\u2500\u2500\u2500\u2500\u2500\u2500\u2500\u2500\u2500\u2500\u2500\u2500\u2500\u2500\u2500\u2500\u2500\u2500\u2500\u2500\u2500\u2500\u2500\u2500\u2500\u2500\u2500\u2500\u2500\u2500\u2500\u2500\u2500\u2500\u2500\u2500\u2500\u2500\u2500\u2500\u2500\u2500\u2500\u2500\u2500\n                                                                              \n                                                                              \n\n  \u239b                    \u2148\u22c5\u03c0\u239e                                               \u239b   \n  \u239c                    \u2500\u2500\u2500\u239f                                               \u239c   \n  \u239c         ___   ___   4 \u239f                   4 ____     ___   ___        \u239c   \nli\u239d1/2, 2\u22c5\u2572\u2571 a \u22c5\u2572\u2571 w \u22c5\u212f   \u23a0\u22c5\u0393(1/4)\u22c5\u0393(7/4) - 6\u22c5\u2572\u2571 -1 \u22c5\u03c0\u22c5\u2572\u2571 a \u22c5\u2572\u2571 w \u22c5besseli\u239d5/2\n\u2500\u2500\u2500\u2500\u2500\u2500\u2500\u2500\u2500\u2500\u2500\u2500\u2500\u2500\u2500\u2500\u2500\u2500\u2500\u2500\u2500\u2500\u2500\u2500\u2500\u2500\u2500\u2500\u2500\u2500\u2500\u2500\u2500\u2500\u2500\u2500\u2500\u2500\u2500\u2500\u2500\u2500\u2500\u2500\u2500\u2500\u2500\u2500\u2500\u2500\u2500\u2500\u2500\u2500\u2500\u2500\u2500\u2500\u2500\u2500\u2500\u2500\u2500\u2500\u2500\u2500\u2500\u2500\u2500\u2500\u2500\u2500\u2500\u2500\u2500\u2500\u2500\u2500\n                                                                              \n                                                                              \n\n                 \u2148\u22c5\u03c0\u239e                                                 \u239b       \n                 \u2500\u2500\u2500\u239f                                                 \u239c       \n      ___   ___   4 \u239f                        3/4     ___   ___        \u239c       \n, 2\u22c5\u2572\u2571 a \u22c5\u2572\u2571 w \u22c5\u212f   \u23a0\u22c5\u0393(-1/4)\u22c5\u0393(5/4) + 8\u22c5(-1)   \u22c5\u03c0\u22c5\u2572\u2571 a \u22c5\u2572\u2571 w \u22c5besselj\u239d1/2, 2\u22c5\n\u2500\u2500\u2500\u2500\u2500\u2500\u2500\u2500\u2500\u2500\u2500\u2500\u2500\u2500\u2500\u2500\u2500\u2500\u2500\u2500\u2500\u2500\u2500\u2500\u2500\u2500\u2500\u2500\u2500\u2500\u2500\u2500\u2500\u2500\u2500\u2500\u2500\u2500\u2500\u2500\u2500\u2500\u2500\u2500\u2500\u2500\u2500\u2500\u2500\u2500\u2500\u2500\u2500\u2500\u2500\u2500\u2500\u2500\u2500\u2500\u2500\u2500\u2500\u2500\u2500\u2500\u2500\u2500\u2500\u2500\u2500\u2500\u2500\u2500\u2500\u2500\u2500\u2500\n                 ___  3/4 4 ___                                               \n            64\u22c5\u2572\u2571 \u03c0 \u22c5a   \u22c5\u2572\u2571 w \u22c5\u0393(5/4)\u22c5\u0393(7/4)                                 \n\n             \u2148\u22c5\u03c0\u239e                                               \u239b             \n             \u2500\u2500\u2500\u239f                                               \u239c             \n  ___   ___   4 \u239f                   4 ____     ___   ___        \u239c         ___ \n\u2572\u2571 a \u22c5\u2572\u2571 w \u22c5\u212f   \u23a0\u22c5\u0393(1/4)\u22c5\u0393(7/4) - 6\u22c5\u2572\u2571 -1 \u22c5\u03c0\u22c5\u2572\u2571 a \u22c5\u2572\u2571 w \u22c5besselj\u239d5/2, 2\u22c5\u2572\u2571 a \u22c5\n\u2500\u2500\u2500\u2500\u2500\u2500\u2500\u2500\u2500\u2500\u2500\u2500\u2500\u2500\u2500\u2500\u2500\u2500\u2500\u2500\u2500\u2500\u2500\u2500\u2500\u2500\u2500\u2500\u2500\u2500\u2500\u2500\u2500\u2500\u2500\u2500\u2500\u2500\u2500\u2500\u2500\u2500\u2500\u2500\u2500\u2500\u2500\u2500\u2500\u2500\u2500\u2500\u2500\u2500\u2500\u2500\u2500\u2500\u2500\u2500\u2500\u2500\u2500\u2500\u2500\u2500\u2500\u2500\u2500\u2500\u2500\u2500\u2500\u2500\u2500\u2500\u2500\u2500\n                                                                              \n                                                                              \n\n       \u2148\u22c5\u03c0\u239e                             \u239b                    \u2148\u22c5\u03c0\u239e             \n       \u2500\u2500\u2500\u239f                             \u239c                    \u2500\u2500\u2500\u239f             \n  ___   4 \u239f                             \u239c         ___   ___   4 \u239f             \n\u2572\u2571 w \u22c5\u212f   \u23a0\u22c5\u0393(-1/4)\u22c5\u0393(5/4) - 9\u22c5\u03c0\u22c5besseli\u239d3/2, 2\u22c5\u2572\u2571 a \u22c5\u2572\u2571 w \u22c5\u212f   \u23a0\u22c5\u0393(-1/4)\u22c5\u0393(5/\n\u2500\u2500\u2500\u2500\u2500\u2500\u2500\u2500\u2500\u2500\u2500\u2500\u2500\u2500\u2500\u2500\u2500\u2500\u2500\u2500\u2500\u2500\u2500\u2500\u2500\u2500\u2500\u2500\u2500\u2500\u2500\u2500\u2500\u2500\u2500\u2500\u2500\u2500\u2500\u2500\u2500\u2500\u2500\u2500\u2500\u2500\u2500\u2500\u2500\u2500\u2500\u2500\u2500\u2500\u2500\u2500\u2500\u2500\u2500\u2500\u2500\u2500\u2500\u2500\u2500\u2500\u2500\u2500\u2500\u2500\u2500\u2500\u2500\u2500\u2500\u2500\u2500\u2500\n                                                                              \n                                                                              \n\n                \u239b                    \u2148\u22c5\u03c0\u239e               \u239e\n                \u239c                    \u2500\u2500\u2500\u239f               \u239f\n                \u239c         ___   ___   4 \u239f               \u239f\n4) + 9\u22c5\u03c0\u22c5besselj\u239d3/2, 2\u22c5\u2572\u2571 a \u22c5\u2572\u2571 w \u22c5\u212f   \u23a0\u22c5\u0393(-1/4)\u22c5\u0393(5/4)\u23a0\n\u2500\u2500\u2500\u2500\u2500\u2500\u2500\u2500\u2500\u2500\u2500\u2500\u2500\u2500\u2500\u2500\u2500\u2500\u2500\u2500\u2500\u2500\u2500\u2500\u2500\u2500\u2500\u2500\u2500\u2500\u2500\u2500\u2500\u2500\u2500\u2500\u2500\u2500\u2500\u2500\u2500\u2500\u2500\u2500\u2500\u2500\u2500\u2500\u2500\u2500\u2500\u2500\u2500\u2500\u2500\u2500\u2500\n                                                         \n                                                         "
      }
     ], 
     "prompt_number": 80
    }, 
    {
     "cell_type": "code", 
     "collapsed": false, 
     "input": "simplify(_)", 
     "language": "python", 
     "outputs": [
      {
       "output_type": "pyout", 
       "png": "[encoded data removed]", 
       "prompt_number": 81, 
       "text": "\n \u239b                            \u239b                        \u2148\u22c5\u03c0\u239e        \u239b          \n \u239c                            \u239c                        \u2500\u2500\u2500\u239f        \u239c          \n \u239c       5/2  3/4  3/4        \u239c       ___   ___   ___   2 \u239f        \u239c       ___\n-\u239d- 4\u22c5\u2148\u22c5\u03c0   \u22c5a   \u22c5w   \u22c5besseli\u239d1/2, \u2572\u2571 2 \u22c5\u2572\u2571 a \u22c5\u2572\u2571 w \u22c5\u212f   \u23a0\u22c5besselj\u239d1/2, \u2572\u2571 2 \n\u2500\u2500\u2500\u2500\u2500\u2500\u2500\u2500\u2500\u2500\u2500\u2500\u2500\u2500\u2500\u2500\u2500\u2500\u2500\u2500\u2500\u2500\u2500\u2500\u2500\u2500\u2500\u2500\u2500\u2500\u2500\u2500\u2500\u2500\u2500\u2500\u2500\u2500\u2500\u2500\u2500\u2500\u2500\u2500\u2500\u2500\u2500\u2500\u2500\u2500\u2500\u2500\u2500\u2500\u2500\u2500\u2500\u2500\u2500\u2500\u2500\u2500\u2500\u2500\u2500\u2500\u2500\u2500\u2500\u2500\u2500\u2500\u2500\u2500\u2500\u2500\u2500\u2500\n                                                                              \n                                                                              \n\n              \u2148\u22c5\u03c0\u239e                                   \u239b                    \u2148\u22c5\u03c0\u239e\n              \u2500\u2500\u2500\u239f                                   \u239c                    \u2500\u2500\u2500\u239f\n   ___   ___   2 \u239f         7/8  2   ___   ___        \u239c         ___   ___   4 \u239f\n\u22c5\u2572\u2571 a \u22c5\u2572\u2571 w \u22c5\u212f   \u23a0 + 2\u22c5(-1)   \u22c5\u03c0 \u22c5\u2572\u2571 a \u22c5\u2572\u2571 w \u22c5besseli\u239d1/2, 2\u22c5\u2572\u2571 a \u22c5\u2572\u2571 w \u22c5\u212f   \u23a0\n\u2500\u2500\u2500\u2500\u2500\u2500\u2500\u2500\u2500\u2500\u2500\u2500\u2500\u2500\u2500\u2500\u2500\u2500\u2500\u2500\u2500\u2500\u2500\u2500\u2500\u2500\u2500\u2500\u2500\u2500\u2500\u2500\u2500\u2500\u2500\u2500\u2500\u2500\u2500\u2500\u2500\u2500\u2500\u2500\u2500\u2500\u2500\u2500\u2500\u2500\u2500\u2500\u2500\u2500\u2500\u2500\u2500\u2500\u2500\u2500\u2500\u2500\u2500\u2500\u2500\u2500\u2500\u2500\u2500\u2500\u2500\u2500\u2500\u2500\u2500\u2500\u2500\u2500\n                                                                              \n                                                                              \n\n                                   \u239b                    \u2148\u22c5\u03c0\u239e                  \n                                   \u239c                    \u2500\u2500\u2500\u239f                  \n         3/8  2   ___   ___        \u239c         ___   ___   4 \u239f         7/8  2   \n + 2\u22c5(-1)   \u22c5\u03c0 \u22c5\u2572\u2571 a \u22c5\u2572\u2571 w \u22c5besseli\u239d5/2, 2\u22c5\u2572\u2571 a \u22c5\u2572\u2571 w \u22c5\u212f   \u23a0 + 2\u22c5(-1)   \u22c5\u03c0 \u22c5\u2572\u2571\n\u2500\u2500\u2500\u2500\u2500\u2500\u2500\u2500\u2500\u2500\u2500\u2500\u2500\u2500\u2500\u2500\u2500\u2500\u2500\u2500\u2500\u2500\u2500\u2500\u2500\u2500\u2500\u2500\u2500\u2500\u2500\u2500\u2500\u2500\u2500\u2500\u2500\u2500\u2500\u2500\u2500\u2500\u2500\u2500\u2500\u2500\u2500\u2500\u2500\u2500\u2500\u2500\u2500\u2500\u2500\u2500\u2500\u2500\u2500\u2500\u2500\u2500\u2500\u2500\u2500\u2500\u2500\u2500\u2500\u2500\u2500\u2500\u2500\u2500\u2500\u2500\u2500\u2500\n                                                      3/2  3/4 4 ___          \n                                                   4\u22c5\u03c0   \u22c5a   \u22c5\u2572\u2571 w           \n\n                 \u239b                    \u2148\u22c5\u03c0\u239e                                   \u239b\n                 \u239c                    \u2500\u2500\u2500\u239f                                   \u239c\n___   ___        \u239c         ___   ___   4 \u239f         3/8  2   ___   ___        \u239c\n a \u22c5\u2572\u2571 w \u22c5besselj\u239d1/2, 2\u22c5\u2572\u2571 a \u22c5\u2572\u2571 w \u22c5\u212f   \u23a0 + 2\u22c5(-1)   \u22c5\u03c0 \u22c5\u2572\u2571 a \u22c5\u2572\u2571 w \u22c5besselj\u239d\n\u2500\u2500\u2500\u2500\u2500\u2500\u2500\u2500\u2500\u2500\u2500\u2500\u2500\u2500\u2500\u2500\u2500\u2500\u2500\u2500\u2500\u2500\u2500\u2500\u2500\u2500\u2500\u2500\u2500\u2500\u2500\u2500\u2500\u2500\u2500\u2500\u2500\u2500\u2500\u2500\u2500\u2500\u2500\u2500\u2500\u2500\u2500\u2500\u2500\u2500\u2500\u2500\u2500\u2500\u2500\u2500\u2500\u2500\u2500\u2500\u2500\u2500\u2500\u2500\u2500\u2500\u2500\u2500\u2500\u2500\u2500\u2500\u2500\u2500\u2500\u2500\u2500\u2500\n                                                                              \n                                                                              \n\n                    \u2148\u22c5\u03c0\u239e                      \u239b                    \u2148\u22c5\u03c0\u239e       \n                    \u2500\u2500\u2500\u239f                      \u239c                    \u2500\u2500\u2500\u239f       \n         ___   ___   4 \u239f     8 ____  2        \u239c         ___   ___   4 \u239f     8 \n5/2, 2\u22c5\u2572\u2571 a \u22c5\u2572\u2571 w \u22c5\u212f   \u23a0 + 3\u22c5\u2572\u2571 -1 \u22c5\u03c0 \u22c5besseli\u239d3/2, 2\u22c5\u2572\u2571 a \u22c5\u2572\u2571 w \u22c5\u212f   \u23a0 - 3\u22c5\u2572\u2571\n\u2500\u2500\u2500\u2500\u2500\u2500\u2500\u2500\u2500\u2500\u2500\u2500\u2500\u2500\u2500\u2500\u2500\u2500\u2500\u2500\u2500\u2500\u2500\u2500\u2500\u2500\u2500\u2500\u2500\u2500\u2500\u2500\u2500\u2500\u2500\u2500\u2500\u2500\u2500\u2500\u2500\u2500\u2500\u2500\u2500\u2500\u2500\u2500\u2500\u2500\u2500\u2500\u2500\u2500\u2500\u2500\u2500\u2500\u2500\u2500\u2500\u2500\u2500\u2500\u2500\u2500\u2500\u2500\u2500\u2500\u2500\u2500\u2500\u2500\u2500\u2500\u2500\u2500\n                                                                              \n                                                                              \n\n               \u239b                    \u2148\u22c5\u03c0\u239e\u239e\n               \u239c                    \u2500\u2500\u2500\u239f\u239f\n____  2        \u239c         ___   ___   4 \u239f\u239f\n -1 \u22c5\u03c0 \u22c5besselj\u239d3/2, 2\u22c5\u2572\u2571 a \u22c5\u2572\u2571 w \u22c5\u212f   \u23a0\u23a0\n\u2500\u2500\u2500\u2500\u2500\u2500\u2500\u2500\u2500\u2500\u2500\u2500\u2500\u2500\u2500\u2500\u2500\u2500\u2500\u2500\u2500\u2500\u2500\u2500\u2500\u2500\u2500\u2500\u2500\u2500\u2500\u2500\u2500\u2500\u2500\u2500\u2500\u2500\u2500\u2500\u2500\n                                         \n                                         "
      }
     ], 
     "prompt_number": 81
    }, 
    {
     "cell_type": "markdown", 
     "source": "32"
    }, 
    {
     "cell_type": "code", 
     "collapsed": false, 
     "input": "log(t)/t", 
     "language": "python", 
     "outputs": [
      {
       "output_type": "pyout", 
       "png": "[encoded data removed]", 
       "prompt_number": 82, 
       "text": "\nlog(t)\n\u2500\u2500\u2500\u2500\u2500\u2500\n  t   "
      }
     ], 
     "prompt_number": 82
    }, 
    {
     "cell_type": "code", 
     "collapsed": false, 
     "input": "sine_transform(_, t, w)", 
     "language": "python", 
     "outputs": [
      {
       "output_type": "pyout", 
       "png": "[encoded data removed]", 
       "prompt_number": 83, 
       "text": "\n  ___   ___ \u239b     \u239b 2\u239e               \u239e\n\u2572\u2571 2 \u22c5\u2572\u2571 \u03c0 \u22c5\u239d- log\u239dw \u23a0 - 2\u22c5EulerGamma\u23a0\n\u2500\u2500\u2500\u2500\u2500\u2500\u2500\u2500\u2500\u2500\u2500\u2500\u2500\u2500\u2500\u2500\u2500\u2500\u2500\u2500\u2500\u2500\u2500\u2500\u2500\u2500\u2500\u2500\u2500\u2500\u2500\u2500\u2500\u2500\u2500\u2500\u2500\u2500\n                  4                   "
      }
     ], 
     "prompt_number": 83
    }, 
    {
     "cell_type": "code", 
     "collapsed": false, 
     "input": "simplify(_)", 
     "language": "python", 
     "outputs": [
      {
       "output_type": "pyout", 
       "png": "[encoded data removed]", 
       "prompt_number": 84, 
       "text": "\n  ___   ___ \u239b     \u239b 2\u239e               \u239e\n\u2572\u2571 2 \u22c5\u2572\u2571 \u03c0 \u22c5\u239d- log\u239dw \u23a0 - 2\u22c5EulerGamma\u23a0\n\u2500\u2500\u2500\u2500\u2500\u2500\u2500\u2500\u2500\u2500\u2500\u2500\u2500\u2500\u2500\u2500\u2500\u2500\u2500\u2500\u2500\u2500\u2500\u2500\u2500\u2500\u2500\u2500\u2500\u2500\u2500\u2500\u2500\u2500\u2500\u2500\u2500\u2500\n                  4                   "
      }
     ], 
     "prompt_number": 84
    }, 
    {
     "cell_type": "code", 
     "collapsed": true, 
     "input": "#inverse_sine_transform(_, w, t)", 
     "language": "python", 
     "outputs": [], 
     "prompt_number": 85
    }, 
    {
     "cell_type": "markdown", 
     "source": "33"
    }, 
    {
     "cell_type": "code", 
     "collapsed": false, 
     "input": "log(t)/sqrt(t)", 
     "language": "python", 
     "outputs": [
      {
       "output_type": "pyout", 
       "png": "[encoded data removed]", 
       "prompt_number": 86, 
       "text": "\nlog(t)\n\u2500\u2500\u2500\u2500\u2500\u2500\n  ___ \n\u2572\u2571 t  "
      }
     ], 
     "prompt_number": 86
    }, 
    {
     "cell_type": "code", 
     "collapsed": false, 
     "input": "sine_transform(_, t, w)", 
     "language": "python", 
     "outputs": [
      {
       "output_type": "pyout", 
       "png": "[encoded data removed]", 
       "prompt_number": 87, 
       "text": "\n                                         \u239b              \u2502   2\u239e                \n  ___  3/2        2               2  \u250c\u2500  \u239c   3/4, 3/4   \u2502 -w \u239f     ___  3/2   \n\u2572\u2571 2 \u22c5w   \u22c5\u0393(-3/4) \u22c5\u0393(-1/4)\u22c5\u0393(7/4) \u22c5 \u251c\u2500  \u239c              \u2502 \u2500\u2500\u2500\u239f - \u2572\u2571 2 \u22c5w   \u22c5\u0393(\n                                    2\u2575 3 \u239d3/2, 7/4, 7/4 \u2502  4 \u23a0                \n\u2500\u2500\u2500\u2500\u2500\u2500\u2500\u2500\u2500\u2500\u2500\u2500\u2500\u2500\u2500\u2500\u2500\u2500\u2500\u2500\u2500\u2500\u2500\u2500\u2500\u2500\u2500\u2500\u2500\u2500\u2500\u2500\u2500\u2500\u2500\u2500\u2500\u2500\u2500\u2500\u2500\u2500\u2500\u2500\u2500\u2500\u2500\u2500\u2500\u2500\u2500\u2500\u2500\u2500\u2500\u2500\u2500\u2500\u2500\u2500\u2500\u2500\u2500\u2500\u2500\u2500\u2500\u2500\u2500\u2500\u2500\u2500\u2500\u2500\u2500\u2500\u2500\u2500\n                                                                              \n                                                                              \n\n                           \u239b              \u2502   2\u239e                              \n            2       2  \u250c\u2500  \u239c   3/4, 3/4   \u2502 -w \u239f       ___    \u239b 2\u239e       2    \n-1/4)\u22c5\u0393(1/4) \u22c5\u0393(3/4) \u22c5 \u251c\u2500  \u239c              \u2502 \u2500\u2500\u2500\u239f + 8\u22c5\u2572\u2571 \u03c0 \u22c5log\u239dw \u23a0\u22c5\u0393(1/4) \u22c5\u0393(3\n                      2\u2575 3 \u239d3/2, 7/4, 7/4 \u2502  4 \u23a0                              \n\u2500\u2500\u2500\u2500\u2500\u2500\u2500\u2500\u2500\u2500\u2500\u2500\u2500\u2500\u2500\u2500\u2500\u2500\u2500\u2500\u2500\u2500\u2500\u2500\u2500\u2500\u2500\u2500\u2500\u2500\u2500\u2500\u2500\u2500\u2500\u2500\u2500\u2500\u2500\u2500\u2500\u2500\u2500\u2500\u2500\u2500\u2500\u2500\u2500\u2500\u2500\u2500\u2500\u2500\u2500\u2500\u2500\u2500\u2500\u2500\u2500\u2500\u2500\u2500\u2500\u2500\u2500\u2500\u2500\u2500\u2500\u2500\u2500\u2500\u2500\u2500\u2500\u2500\n                                                  ___   ___               2   \n                                              4\u22c5\u2572\u2571 \u03c0 \u22c5\u2572\u2571 w \u22c5\u0393(-1/4)\u22c5\u0393(1/4) \u22c5\u0393(\n\n                                                                              \n          2      3/2       2              2                   ___       2     \n/4)\u22c5\u0393(7/4)  - 8\u22c5\u03c0   \u22c5\u0393(1/4) \u22c5\u0393(3/4)\u22c5\u0393(7/4)  + 16\u22c5EulerGamma\u22c5\u2572\u2571 \u03c0 \u22c5\u0393(1/4) \u22c5\u0393(3/\n                                                                              \n\u2500\u2500\u2500\u2500\u2500\u2500\u2500\u2500\u2500\u2500\u2500\u2500\u2500\u2500\u2500\u2500\u2500\u2500\u2500\u2500\u2500\u2500\u2500\u2500\u2500\u2500\u2500\u2500\u2500\u2500\u2500\u2500\u2500\u2500\u2500\u2500\u2500\u2500\u2500\u2500\u2500\u2500\u2500\u2500\u2500\u2500\u2500\u2500\u2500\u2500\u2500\u2500\u2500\u2500\u2500\u2500\u2500\u2500\u2500\u2500\u2500\u2500\u2500\u2500\u2500\u2500\u2500\u2500\u2500\u2500\u2500\u2500\u2500\u2500\u2500\u2500\u2500\u2500\n    2                                                                         \n7/4)                                                                          \n\n                                                   \n         2        ___              2              2\n4)\u22c5\u0393(7/4)  + 32\u22c5\u2572\u2571 \u03c0 \u22c5log(2)\u22c5\u0393(1/4) \u22c5\u0393(3/4)\u22c5\u0393(7/4) \n                                                   \n\u2500\u2500\u2500\u2500\u2500\u2500\u2500\u2500\u2500\u2500\u2500\u2500\u2500\u2500\u2500\u2500\u2500\u2500\u2500\u2500\u2500\u2500\u2500\u2500\u2500\u2500\u2500\u2500\u2500\u2500\u2500\u2500\u2500\u2500\u2500\u2500\u2500\u2500\u2500\u2500\u2500\u2500\u2500\u2500\u2500\u2500\u2500\u2500\u2500\u2500\u2500\n                                                   \n                                                   "
      }
     ], 
     "prompt_number": 87
    }, 
    {
     "cell_type": "code", 
     "collapsed": false, 
     "input": "hyperexpand(_)", 
     "language": "python", 
     "outputs": [
      {
       "output_type": "pyout", 
       "png": "[encoded data removed]", 
       "prompt_number": 88, 
       "text": "\n                                         \u239b              \u2502   2\u239e                \n  ___  3/2        2               2  \u250c\u2500  \u239c   3/4, 3/4   \u2502 -w \u239f     ___  3/2   \n\u2572\u2571 2 \u22c5w   \u22c5\u0393(-3/4) \u22c5\u0393(-1/4)\u22c5\u0393(7/4) \u22c5 \u251c\u2500  \u239c              \u2502 \u2500\u2500\u2500\u239f - \u2572\u2571 2 \u22c5w   \u22c5\u0393(\n                                    2\u2575 3 \u239d3/2, 7/4, 7/4 \u2502  4 \u23a0                \n\u2500\u2500\u2500\u2500\u2500\u2500\u2500\u2500\u2500\u2500\u2500\u2500\u2500\u2500\u2500\u2500\u2500\u2500\u2500\u2500\u2500\u2500\u2500\u2500\u2500\u2500\u2500\u2500\u2500\u2500\u2500\u2500\u2500\u2500\u2500\u2500\u2500\u2500\u2500\u2500\u2500\u2500\u2500\u2500\u2500\u2500\u2500\u2500\u2500\u2500\u2500\u2500\u2500\u2500\u2500\u2500\u2500\u2500\u2500\u2500\u2500\u2500\u2500\u2500\u2500\u2500\u2500\u2500\u2500\u2500\u2500\u2500\u2500\u2500\u2500\u2500\u2500\u2500\n                                                                              \n                                                                              \n\n                           \u239b              \u2502   2\u239e                              \n            2       2  \u250c\u2500  \u239c   3/4, 3/4   \u2502 -w \u239f       ___    \u239b 2\u239e       2    \n-1/4)\u22c5\u0393(1/4) \u22c5\u0393(3/4) \u22c5 \u251c\u2500  \u239c              \u2502 \u2500\u2500\u2500\u239f + 8\u22c5\u2572\u2571 \u03c0 \u22c5log\u239dw \u23a0\u22c5\u0393(1/4) \u22c5\u0393(3\n                      2\u2575 3 \u239d3/2, 7/4, 7/4 \u2502  4 \u23a0                              \n\u2500\u2500\u2500\u2500\u2500\u2500\u2500\u2500\u2500\u2500\u2500\u2500\u2500\u2500\u2500\u2500\u2500\u2500\u2500\u2500\u2500\u2500\u2500\u2500\u2500\u2500\u2500\u2500\u2500\u2500\u2500\u2500\u2500\u2500\u2500\u2500\u2500\u2500\u2500\u2500\u2500\u2500\u2500\u2500\u2500\u2500\u2500\u2500\u2500\u2500\u2500\u2500\u2500\u2500\u2500\u2500\u2500\u2500\u2500\u2500\u2500\u2500\u2500\u2500\u2500\u2500\u2500\u2500\u2500\u2500\u2500\u2500\u2500\u2500\u2500\u2500\u2500\u2500\n                                                  ___   ___               2   \n                                              4\u22c5\u2572\u2571 \u03c0 \u22c5\u2572\u2571 w \u22c5\u0393(-1/4)\u22c5\u0393(1/4) \u22c5\u0393(\n\n                                                                              \n          2      3/2       2              2                   ___       2     \n/4)\u22c5\u0393(7/4)  - 8\u22c5\u03c0   \u22c5\u0393(1/4) \u22c5\u0393(3/4)\u22c5\u0393(7/4)  + 16\u22c5EulerGamma\u22c5\u2572\u2571 \u03c0 \u22c5\u0393(1/4) \u22c5\u0393(3/\n                                                                              \n\u2500\u2500\u2500\u2500\u2500\u2500\u2500\u2500\u2500\u2500\u2500\u2500\u2500\u2500\u2500\u2500\u2500\u2500\u2500\u2500\u2500\u2500\u2500\u2500\u2500\u2500\u2500\u2500\u2500\u2500\u2500\u2500\u2500\u2500\u2500\u2500\u2500\u2500\u2500\u2500\u2500\u2500\u2500\u2500\u2500\u2500\u2500\u2500\u2500\u2500\u2500\u2500\u2500\u2500\u2500\u2500\u2500\u2500\u2500\u2500\u2500\u2500\u2500\u2500\u2500\u2500\u2500\u2500\u2500\u2500\u2500\u2500\u2500\u2500\u2500\u2500\u2500\u2500\n    2                                                                         \n7/4)                                                                          \n\n                                                   \n         2        ___              2              2\n4)\u22c5\u0393(7/4)  + 32\u22c5\u2572\u2571 \u03c0 \u22c5log(2)\u22c5\u0393(1/4) \u22c5\u0393(3/4)\u22c5\u0393(7/4) \n                                                   \n\u2500\u2500\u2500\u2500\u2500\u2500\u2500\u2500\u2500\u2500\u2500\u2500\u2500\u2500\u2500\u2500\u2500\u2500\u2500\u2500\u2500\u2500\u2500\u2500\u2500\u2500\u2500\u2500\u2500\u2500\u2500\u2500\u2500\u2500\u2500\u2500\u2500\u2500\u2500\u2500\u2500\u2500\u2500\u2500\u2500\u2500\u2500\u2500\u2500\u2500\u2500\n                                                   \n                                                   "
      }
     ], 
     "prompt_number": 88
    }, 
    {
     "cell_type": "markdown", 
     "source": "34"
    }, 
    {
     "cell_type": "code", 
     "collapsed": false, 
     "input": "t/(t**2-a**2)*log(b*t)", 
     "language": "python", 
     "outputs": [
      {
       "output_type": "pyout", 
       "png": "[encoded data removed]", 
       "prompt_number": 89, 
       "text": "\nt\u22c5log(b\u22c5t)\n\u2500\u2500\u2500\u2500\u2500\u2500\u2500\u2500\u2500\u2500\n   2    2 \n- a  + t  "
      }
     ], 
     "prompt_number": 89
    }, 
    {
     "cell_type": "code", 
     "collapsed": true, 
     "input": "#sine_transform(_, t, w)", 
     "language": "python", 
     "outputs": [], 
     "prompt_number": 90
    }, 
    {
     "cell_type": "markdown", 
     "source": "35"
    }, 
    {
     "cell_type": "code", 
     "collapsed": false, 
     "input": "t/(t**2-a**2)*log(t/a)", 
     "language": "python", 
     "outputs": [
      {
       "output_type": "pyout", 
       "png": "[encoded data removed]", 
       "prompt_number": 91, 
       "text": "\n      \u239bt\u239e\n t\u22c5log\u239c\u2500\u239f\n      \u239da\u23a0\n\u2500\u2500\u2500\u2500\u2500\u2500\u2500\u2500\u2500\n   2    2\n- a  + t "
      }
     ], 
     "prompt_number": 91
    }, 
    {
     "cell_type": "code", 
     "collapsed": true, 
     "input": "#sine_transform(_, t, w)\n# Pole inside critical strip?", 
     "language": "python", 
     "outputs": [], 
     "prompt_number": 92
    }, 
    {
     "cell_type": "markdown", 
     "source": "36"
    }, 
    {
     "cell_type": "code", 
     "collapsed": false, 
     "input": "exp(-a*t)*log(t)", 
     "language": "python", 
     "outputs": [
      {
       "output_type": "pyout", 
       "png": "[encoded data removed]", 
       "prompt_number": 93, 
       "text": "\n -a\u22c5t       \n\u212f    \u22c5log(t)"
      }
     ], 
     "prompt_number": 93
    }, 
    {
     "cell_type": "code", 
     "collapsed": true, 
     "input": "#sine_transform(_, t, w)\n# Python exception", 
     "language": "python", 
     "outputs": [], 
     "prompt_number": 94
    }, 
    {
     "cell_type": "markdown", 
     "source": "37"
    }, 
    {
     "cell_type": "code", 
     "collapsed": false, 
     "input": "log(Abs((a+t)/(b-t)))", 
     "language": "python", 
     "outputs": [
      {
       "output_type": "pyout", 
       "png": "[encoded data removed]", 
       "prompt_number": 95, 
       "text": "\n   \u239b\u2502a + t\u2502\u239e\nlog\u239c\u2502\u2500\u2500\u2500\u2500\u2500\u2502\u239f\n   \u239d\u2502b - t\u2502\u23a0"
      }
     ], 
     "prompt_number": 95
    }, 
    {
     "cell_type": "code", 
     "collapsed": true, 
     "input": "#sine_transform(_, t, w)", 
     "language": "python", 
     "outputs": [], 
     "prompt_number": 96
    }, 
    {
     "cell_type": "markdown", 
     "source": "38"
    }, 
    {
     "cell_type": "code", 
     "collapsed": false, 
     "input": "log(Abs((a+t)/(a-t)))", 
     "language": "python", 
     "outputs": [
      {
       "output_type": "pyout", 
       "png": "[encoded data removed]", 
       "prompt_number": 97, 
       "text": "\n   \u239b\u2502a + t\u2502\u239e\nlog\u239c\u2502\u2500\u2500\u2500\u2500\u2500\u2502\u239f\n   \u239d\u2502a - t\u2502\u23a0"
      }
     ], 
     "prompt_number": 97
    }, 
    {
     "cell_type": "code", 
     "collapsed": true, 
     "input": "#sine_transform(_, t, w)", 
     "language": "python", 
     "outputs": [], 
     "prompt_number": 98
    }, 
    {
     "cell_type": "markdown", 
     "source": "39"
    }, 
    {
     "cell_type": "code", 
     "collapsed": false, 
     "input": "1/t**2*log((a+t)/(a-t))**2", 
     "language": "python", 
     "outputs": [
      {
       "output_type": "pyout", 
       "png": "[encoded data removed]", 
       "prompt_number": 99, 
       "text": "\n   2       \n    \u239ba + t\u239e\nlog \u239c\u2500\u2500\u2500\u2500\u2500\u239f\n    \u239da - t\u23a0\n\u2500\u2500\u2500\u2500\u2500\u2500\u2500\u2500\u2500\u2500\u2500\n      2    \n     t     "
      }
     ], 
     "prompt_number": 99
    }, 
    {
     "cell_type": "code", 
     "collapsed": true, 
     "input": "#sine_transform(_, t, w)", 
     "language": "python", 
     "outputs": [], 
     "prompt_number": 100
    }, 
    {
     "cell_type": "markdown", 
     "source": "40"
    }, 
    {
     "cell_type": "code", 
     "collapsed": false, 
     "input": "log((a**2+t**2+t)/(a**2+t**2-t))", 
     "language": "python", 
     "outputs": [
      {
       "output_type": "pyout", 
       "png": "[encoded data removed]", 
       "prompt_number": 101, 
       "text": "\n   \u239b 2    2    \u239e\n   \u239ca  + t  + t\u239f\nlog\u239c\u2500\u2500\u2500\u2500\u2500\u2500\u2500\u2500\u2500\u2500\u2500\u239f\n   \u239c 2    2    \u239f\n   \u239da  + t  - t\u23a0"
      }
     ], 
     "prompt_number": 101
    }, 
    {
     "cell_type": "code", 
     "collapsed": true, 
     "input": "#sine_transform(_, t, w)", 
     "language": "python", 
     "outputs": [], 
     "prompt_number": 102
    }, 
    {
     "cell_type": "markdown", 
     "source": "41"
    }, 
    {
     "cell_type": "code", 
     "collapsed": false, 
     "input": "log(Abs(1-a**2/t**2))", 
     "language": "python", 
     "outputs": [
      {
       "output_type": "pyout", 
       "png": "[encoded data removed]", 
       "prompt_number": 103, 
       "text": "\n   \u239b\u2502   2    \u2502\u239e\n   \u239c\u2502  a     \u2502\u239f\nlog\u239c\u2502- \u2500\u2500 + 1\u2502\u239f\n   \u239c\u2502   2    \u2502\u239f\n   \u239d\u2502  t     \u2502\u23a0"
      }
     ], 
     "prompt_number": 103
    }, 
    {
     "cell_type": "code", 
     "collapsed": true, 
     "input": "#sine_transform(_, t, w)", 
     "language": "python", 
     "outputs": [], 
     "prompt_number": 104
    }, 
    {
     "cell_type": "markdown", 
     "source": "42"
    }, 
    {
     "cell_type": "code", 
     "collapsed": false, 
     "input": "log((a**2+(b+t)**2)/(a**2+(b-t)**2))", 
     "language": "python", 
     "outputs": [
      {
       "output_type": "pyout", 
       "png": "[encoded data removed]", 
       "prompt_number": 105, 
       "text": "\n   \u239b 2          2\u239e\n   \u239ca  + (b + t) \u239f\nlog\u239c\u2500\u2500\u2500\u2500\u2500\u2500\u2500\u2500\u2500\u2500\u2500\u2500\u2500\u239f\n   \u239c 2          2\u239f\n   \u239da  + (b - t) \u23a0"
      }
     ], 
     "prompt_number": 105
    }, 
    {
     "cell_type": "code", 
     "collapsed": true, 
     "input": "#sine_transform(_, t, w)", 
     "language": "python", 
     "outputs": [], 
     "prompt_number": 106
    }, 
    {
     "cell_type": "markdown", 
     "source": "43"
    }, 
    {
     "cell_type": "code", 
     "collapsed": false, 
     "input": "1/t*log(Abs(1-a**2*t**2))", 
     "language": "python", 
     "outputs": [
      {
       "output_type": "pyout", 
       "png": "[encoded data removed]", 
       "prompt_number": 107, 
       "text": "\n   \u239b\u2502   2  2    \u2502\u239e\nlog\u239d\u2502- a \u22c5t  + 1\u2502\u23a0\n\u2500\u2500\u2500\u2500\u2500\u2500\u2500\u2500\u2500\u2500\u2500\u2500\u2500\u2500\u2500\u2500\u2500\u2500\n        t         "
      }
     ], 
     "prompt_number": 107
    }, 
    {
     "cell_type": "code", 
     "collapsed": false, 
     "input": "sine_transform(_, t, w)", 
     "language": "python", 
     "outputs": [
      {
       "output_type": "pyout", 
       "png": "[encoded data removed]", 
       "prompt_number": 108, 
       "text": "\n            \u239b     \u239b 2\u239e                     \u239e\n  ___   ___ \u239c     \u239cw \u239f        \u239bw\u239e       \u239bw\u239e\u239f\n\u2572\u2571 2 \u22c5\u2572\u2571 \u03c0 \u22c5\u239c- log\u239c\u2500\u2500\u239f + 2\u22c5log\u239c\u2500\u239f - 2\u22c5Ci\u239c\u2500\u239f\u239f\n            \u239c     \u239c 2\u239f        \u239da\u23a0       \u239da\u23a0\u239f\n            \u239d     \u239da \u23a0                     \u23a0\n\u2500\u2500\u2500\u2500\u2500\u2500\u2500\u2500\u2500\u2500\u2500\u2500\u2500\u2500\u2500\u2500\u2500\u2500\u2500\u2500\u2500\u2500\u2500\u2500\u2500\u2500\u2500\u2500\u2500\u2500\u2500\u2500\u2500\u2500\u2500\u2500\u2500\u2500\u2500\u2500\u2500\u2500\u2500\u2500\n                     2                      "
      }
     ], 
     "prompt_number": 108
    }, 
    {
     "cell_type": "code", 
     "collapsed": false, 
     "input": "simplify(_)", 
     "language": "python", 
     "outputs": [
      {
       "output_type": "pyout", 
       "png": "[encoded data removed]", 
       "prompt_number": 109, 
       "text": "\n            \u239b     \u239b 2\u239e                     \u239e\n  ___   ___ \u239c     \u239cw \u239f        \u239bw\u239e       \u239bw\u239e\u239f\n\u2572\u2571 2 \u22c5\u2572\u2571 \u03c0 \u22c5\u239c- log\u239c\u2500\u2500\u239f + 2\u22c5log\u239c\u2500\u239f - 2\u22c5Ci\u239c\u2500\u239f\u239f\n            \u239c     \u239c 2\u239f        \u239da\u23a0       \u239da\u23a0\u239f\n            \u239d     \u239da \u23a0                     \u23a0\n\u2500\u2500\u2500\u2500\u2500\u2500\u2500\u2500\u2500\u2500\u2500\u2500\u2500\u2500\u2500\u2500\u2500\u2500\u2500\u2500\u2500\u2500\u2500\u2500\u2500\u2500\u2500\u2500\u2500\u2500\u2500\u2500\u2500\u2500\u2500\u2500\u2500\u2500\u2500\u2500\u2500\u2500\u2500\u2500\n                     2                      "
      }
     ], 
     "prompt_number": 109
    }, 
    {
     "cell_type": "code", 
     "collapsed": true, 
     "input": "#inverse_sine_transform(_, w, t)", 
     "language": "python", 
     "outputs": [], 
     "prompt_number": 110
    }, 
    {
     "cell_type": "markdown", 
     "source": "44"
    }, 
    {
     "cell_type": "code", 
     "collapsed": false, 
     "input": "1/t*log(Abs(1-a**2/t**2))", 
     "language": "python", 
     "outputs": [
      {
       "output_type": "pyout", 
       "png": "[encoded data removed]", 
       "prompt_number": 111, 
       "text": "\n   \u239b\u2502   2    \u2502\u239e\n   \u239c\u2502  a     \u2502\u239f\nlog\u239c\u2502- \u2500\u2500 + 1\u2502\u239f\n   \u239c\u2502   2    \u2502\u239f\n   \u239d\u2502  t     \u2502\u23a0\n\u2500\u2500\u2500\u2500\u2500\u2500\u2500\u2500\u2500\u2500\u2500\u2500\u2500\u2500\u2500\n       t       "
      }
     ], 
     "prompt_number": 111
    }, 
    {
     "cell_type": "code", 
     "collapsed": false, 
     "input": "sine_transform(_, t, w)", 
     "language": "python", 
     "outputs": [
      {
       "output_type": "pyout", 
       "png": "[encoded data removed]", 
       "prompt_number": 112, 
       "text": "\n  ___   ___                                  \n\u2572\u2571 2 \u22c5\u2572\u2571 \u03c0 \u22c5(log(a\u22c5w) - Ci(a\u22c5w) + EulerGamma)"
      }
     ], 
     "prompt_number": 112
    }, 
    {
     "cell_type": "code", 
     "collapsed": true, 
     "input": "#inverse_sine_transform(_, w, t)", 
     "language": "python", 
     "outputs": [], 
     "prompt_number": 113
    }, 
    {
     "cell_type": "markdown", 
     "source": "45"
    }, 
    {
     "cell_type": "code", 
     "collapsed": false, 
     "input": "sin(a*t)/t", 
     "language": "python", 
     "outputs": [
      {
       "output_type": "pyout", 
       "png": "[encoded data removed]", 
       "prompt_number": 114, 
       "text": "\nsin(a\u22c5t)\n\u2500\u2500\u2500\u2500\u2500\u2500\u2500\u2500\n   t    "
      }
     ], 
     "prompt_number": 114
    }, 
    {
     "cell_type": "code", 
     "collapsed": false, 
     "input": "sine_transform(_, t, w)", 
     "language": "python", 
     "outputs": [
      {
       "output_type": "pyout", 
       "png": "[encoded data removed]", 
       "prompt_number": 115, 
       "text": "\n\u23a7           ___      \u239bw\u239e                        \n\u23aa         \u2572\u2571 2 \u22c5atanh\u239c\u2500\u239f                \u2502 2\u2502    \n\u23aa                    \u239da\u23a0                \u2502w \u2502    \n\u23aa         \u2500\u2500\u2500\u2500\u2500\u2500\u2500\u2500\u2500\u2500\u2500\u2500\u2500\u2500            for \u2502\u2500\u2500\u2502 &lt; 1\n\u23aa               ___                     \u2502 2\u2502    \n\u23aa             \u2572\u2571 \u03c0                      \u2502a \u2502    \n\u23aa                                               \n\u23aa           ___      \u239ba\u239e                        \n\u23aa         \u2572\u2571 2 \u22c5atanh\u239c\u2500\u239f                \u2502 2\u2502    \n\u23aa                    \u239dw\u23a0                \u2502a \u2502    \n\u23a8         \u2500\u2500\u2500\u2500\u2500\u2500\u2500\u2500\u2500\u2500\u2500\u2500\u2500\u2500            for \u2502\u2500\u2500\u2502 &lt; 1\n\u23aa               ___                     \u2502 2\u2502    \n\u23aa             \u2572\u2571 \u03c0                      \u2502w \u2502    \n\u23aa                                               \n\u23aa                    \u239b       \u2502  2\u239e              \n\u23aa  ___   ___ \u256d\u2500\u256e1, 1 \u239c1/2  1 \u2502 w \u239f              \n\u23aa\u2572\u2571 2 \u22c5\u2572\u2571 \u03c0 \u22c5\u2502\u2576\u2510     \u239c       \u2502 \u2500\u2500\u239f              \n\u23aa            \u2570\u2500\u256f2, 2 \u239c1/2  0 \u2502  2\u239f              \n\u23aa                    \u239d       \u2502 a \u23a0              \n\u23aa\u2500\u2500\u2500\u2500\u2500\u2500\u2500\u2500\u2500\u2500\u2500\u2500\u2500\u2500\u2500\u2500\u2500\u2500\u2500\u2500\u2500\u2500\u2500\u2500\u2500\u2500\u2500\u2500\u2500\u2500\u2500\u2500\u2500   otherwise  \n\u23a9                2                              "
      }
     ], 
     "prompt_number": 115
    }, 
    {
     "cell_type": "markdown", 
     "source": "46"
    }, 
    {
     "cell_type": "code", 
     "collapsed": false, 
     "input": "sin(a*t)/t**2", 
     "language": "python", 
     "outputs": [
      {
       "output_type": "pyout", 
       "png": "[encoded data removed]", 
       "prompt_number": 116, 
       "text": "\nsin(a\u22c5t)\n\u2500\u2500\u2500\u2500\u2500\u2500\u2500\u2500\n    2   \n   t    "
      }
     ], 
     "prompt_number": 116
    }, 
    {
     "cell_type": "code", 
     "collapsed": false, 
     "input": "sine_transform(_, t, w)", 
     "language": "python", 
     "outputs": [
      {
       "output_type": "pyout", 
       "png": "[encoded data removed]", 
       "prompt_number": 117, 
       "text": "\n\u23a7                     ___   ___                            \u2502 2\u2502    \n\u23aa                   \u2572\u2571 2 \u22c5\u2572\u2571 \u03c0 \u22c5w                          \u2502w \u2502    \n\u23aa                   \u2500\u2500\u2500\u2500\u2500\u2500\u2500\u2500\u2500\u2500\u2500\u2500\u2500                      for \u2502\u2500\u2500\u2502 &lt; 1\n\u23aa                         2                                \u2502 2\u2502    \n\u23aa                                                          \u2502a \u2502    \n\u23aa                                                                  \n\u23aa                     ___   ___                            \u2502 2\u2502    \n\u23aa                   \u2572\u2571 2 \u22c5\u2572\u2571 \u03c0 \u22c5a                          \u2502a \u2502    \n\u23aa                   \u2500\u2500\u2500\u2500\u2500\u2500\u2500\u2500\u2500\u2500\u2500\u2500\u2500                      for \u2502\u2500\u2500\u2502 &lt; 1\n\u23aa                         2                                \u2502 2\u2502    \n\u23aa                                                          \u2502w \u2502    \n\u23aa                                                                  \n\u23aa              \u23a7                             \u2502 2\u2502                  \n\u23aa  ___   ___   \u23aa          2\u22c5w                \u2502w \u2502                  \n\u23aa\u2572\u2571 2 \u22c5\u2572\u2571 \u03c0 \u22c5a\u22c5\u23aa          \u2500\u2500\u2500            for \u2502\u2500\u2500\u2502 &lt; 1              \n\u23a8              \u23aa           a                 \u2502 2\u2502                  \n\u23aa              \u23aa                             \u2502a \u2502                  \n\u23aa              \u23aa                                                   \n\u23aa              \u23aa                             \u2502 2\u2502                  \n\u23aa              \u23aa                             \u2502a \u2502                  \n\u23aa              \u23a8           2             for \u2502\u2500\u2500\u2502 &lt; 1              \n\u23aa              \u23aa                             \u2502 2\u2502                  \n\u23aa              \u23aa                             \u2502w \u2502                  \n\u23aa              \u23aa                                                   \n\u23aa              \u23aa        \u239b         \u2502  2\u239e                            \n\u23aa              \u23aa\u256d\u2500\u256e1, 1 \u239c 1   3/2 \u2502 w \u239f                            \n\u23aa              \u23aa\u2502\u2576\u2510     \u239c         \u2502 \u2500\u2500\u239f   otherwise                \n\u23aa              \u23aa\u2570\u2500\u256f2, 2 \u239c1/2   0  \u2502  2\u239f                            \n\u23aa              \u23a9        \u239d         \u2502 a \u23a0                            \n\u23aa\u2500\u2500\u2500\u2500\u2500\u2500\u2500\u2500\u2500\u2500\u2500\u2500\u2500\u2500\u2500\u2500\u2500\u2500\u2500\u2500\u2500\u2500\u2500\u2500\u2500\u2500\u2500\u2500\u2500\u2500\u2500\u2500\u2500\u2500\u2500\u2500\u2500\u2500\u2500\u2500\u2500\u2500\u2500\u2500\u2500\u2500\u2500\u2500\u2500\u2500\u2500\u2500   otherwise  \n\u23a9                         4                                        "
      }
     ], 
     "prompt_number": 117
    }, 
    {
     "cell_type": "markdown", 
     "source": "47"
    }, 
    {
     "cell_type": "code", 
     "collapsed": false, 
     "input": "sin(pi*t)/(1-t**2)", 
     "language": "python", 
     "outputs": [
      {
       "output_type": "pyout", 
       "png": "[encoded data removed]", 
       "prompt_number": 118, 
       "text": "\nsin(\u03c0\u22c5t)\n\u2500\u2500\u2500\u2500\u2500\u2500\u2500\u2500\n   2    \n- t  + 1"
      }
     ], 
     "prompt_number": 118
    }, 
    {
     "cell_type": "code", 
     "collapsed": false, 
     "input": "sine_transform(_, t, w)", 
     "language": "python", 
     "outputs": [
      {
       "output_type": "pyout", 
       "png": "[encoded data removed]", 
       "prompt_number": 119, 
       "text": "\n             \u239bsin(\u03c0\u22c5t)      \u239e\nSineTransform\u239c\u2500\u2500\u2500\u2500\u2500\u2500\u2500\u2500, t, w\u239f\n             \u239c   2          \u239f\n             \u239d- t  + 1      \u23a0"
      }
     ], 
     "prompt_number": 119
    }, 
    {
     "cell_type": "markdown", 
     "source": "48"
    }, 
    {
     "cell_type": "code", 
     "collapsed": false, 
     "input": "sin(a*t)/(t**2+b**2)", 
     "language": "python", 
     "outputs": [
      {
       "output_type": "pyout", 
       "png": "[encoded data removed]", 
       "prompt_number": 120, 
       "text": "\nsin(a\u22c5t)\n\u2500\u2500\u2500\u2500\u2500\u2500\u2500\u2500\n 2    2 \nb  + t  "
      }
     ], 
     "prompt_number": 120
    }, 
    {
     "cell_type": "code", 
     "collapsed": false, 
     "input": "sine_transform(_, t, w)", 
     "language": "python", 
     "outputs": [
      {
       "output_type": "pyout", 
       "png": "[encoded data removed]", 
       "prompt_number": 121, 
       "text": "\n             \u239bsin(a\u22c5t)      \u239e\nSineTransform\u239c\u2500\u2500\u2500\u2500\u2500\u2500\u2500\u2500, t, w\u239f\n             \u239c 2    2       \u239f\n             \u239db  + t        \u23a0"
      }
     ], 
     "prompt_number": 121
    }, 
    {
     "cell_type": "markdown", 
     "source": "49"
    }, 
    {
     "cell_type": "code", 
     "collapsed": false, 
     "input": "exp(-b*t)*sin(a*t)", 
     "language": "python", 
     "outputs": [
      {
       "output_type": "pyout", 
       "png": "[encoded data removed]", 
       "prompt_number": 122, 
       "text": "\n -b\u22c5t         \n\u212f    \u22c5sin(a\u22c5t)"
      }
     ], 
     "prompt_number": 122
    }, 
    {
     "cell_type": "code", 
     "collapsed": true, 
     "input": "#sine_transform(_, t, w)\n# Python exception!", 
     "language": "python", 
     "outputs": [], 
     "prompt_number": 123
    }, 
    {
     "cell_type": "markdown", 
     "source": "50"
    }, 
    {
     "cell_type": "code", 
     "collapsed": false, 
     "input": "exp(-b*t)*sin(a*t)/t", 
     "language": "python", 
     "outputs": [
      {
       "output_type": "pyout", 
       "png": "[encoded data removed]", 
       "prompt_number": 124, 
       "text": "\n -b\u22c5t         \n\u212f    \u22c5sin(a\u22c5t)\n\u2500\u2500\u2500\u2500\u2500\u2500\u2500\u2500\u2500\u2500\u2500\u2500\u2500\u2500\n      t       "
      }
     ], 
     "prompt_number": 124
    }, 
    {
     "cell_type": "code", 
     "collapsed": true, 
     "input": "#sine_transform(_, t, w)\n# Python exception!", 
     "language": "python", 
     "outputs": [], 
     "prompt_number": 125
    }, 
    {
     "cell_type": "markdown", 
     "source": "51"
    }, 
    {
     "cell_type": "code", 
     "collapsed": false, 
     "input": "exp(-b*t**2)*sin(a*t)", 
     "language": "python", 
     "outputs": [
      {
       "output_type": "pyout", 
       "png": "[encoded data removed]", 
       "prompt_number": 126, 
       "text": "\n     2         \n -b\u22c5t          \n\u212f     \u22c5sin(a\u22c5t)"
      }
     ], 
     "prompt_number": 126
    }, 
    {
     "cell_type": "code", 
     "collapsed": true, 
     "input": "#sine_transform(_, t, w)", 
     "language": "python", 
     "outputs": [], 
     "prompt_number": 127
    }, 
    {
     "cell_type": "markdown", 
     "source": "52"
    }, 
    {
     "cell_type": "code", 
     "collapsed": false, 
     "input": "sin(a*t)**2/t", 
     "language": "python", 
     "outputs": [
      {
       "output_type": "pyout", 
       "png": "[encoded data removed]", 
       "prompt_number": 128, 
       "text": "\n   2     \nsin (a\u22c5t)\n\u2500\u2500\u2500\u2500\u2500\u2500\u2500\u2500\u2500\n    t    "
      }
     ], 
     "prompt_number": 128
    }, 
    {
     "cell_type": "code", 
     "collapsed": true, 
     "input": "#sine_transform(_, t, w)", 
     "language": "python", 
     "outputs": [], 
     "prompt_number": 129
    }, 
    {
     "cell_type": "markdown", 
     "source": "53"
    }, 
    {
     "cell_type": "code", 
     "collapsed": false, 
     "input": "sin(a*t)*sin(b*t)/t", 
     "language": "python", 
     "outputs": [
      {
       "output_type": "pyout", 
       "png": "[encoded data removed]", 
       "prompt_number": 130, 
       "text": "\nsin(a\u22c5t)\u22c5sin(b\u22c5t)\n\u2500\u2500\u2500\u2500\u2500\u2500\u2500\u2500\u2500\u2500\u2500\u2500\u2500\u2500\u2500\u2500\u2500\n        t        "
      }
     ], 
     "prompt_number": 130
    }, 
    {
     "cell_type": "code", 
     "collapsed": true, 
     "input": "#sine_transform(_, t, w)", 
     "language": "python", 
     "outputs": [], 
     "prompt_number": 131
    }, 
    {
     "cell_type": "markdown", 
     "source": "54"
    }, 
    {
     "cell_type": "code", 
     "collapsed": false, 
     "input": "sin(a*t)**2/t**2", 
     "language": "python", 
     "outputs": [
      {
       "output_type": "pyout", 
       "png": "[encoded data removed]", 
       "prompt_number": 132, 
       "text": "\n   2     \nsin (a\u22c5t)\n\u2500\u2500\u2500\u2500\u2500\u2500\u2500\u2500\u2500\n     2   \n    t    "
      }
     ], 
     "prompt_number": 132
    }, 
    {
     "cell_type": "code", 
     "collapsed": true, 
     "input": "#sine_transform(_, t, w)", 
     "language": "python", 
     "outputs": [], 
     "prompt_number": 133
    }, 
    {
     "cell_type": "markdown", 
     "source": "55"
    }, 
    {
     "cell_type": "code", 
     "collapsed": false, 
     "input": "sin(a*t)**2/t**3", 
     "language": "python", 
     "outputs": [
      {
       "output_type": "pyout", 
       "png": "[encoded data removed]", 
       "prompt_number": 134, 
       "text": "\n   2     \nsin (a\u22c5t)\n\u2500\u2500\u2500\u2500\u2500\u2500\u2500\u2500\u2500\n     3   \n    t    "
      }
     ], 
     "prompt_number": 134
    }, 
    {
     "cell_type": "code", 
     "collapsed": false, 
     "input": "sine_transform(_, t, w)", 
     "language": "python", 
     "outputs": [
      {
       "output_type": "pyout", 
       "png": "[encoded data removed]", 
       "prompt_number": 135, 
       "text": "\n             \u239b   2           \u239e\n             \u239csin (a\u22c5t)      \u239f\nSineTransform\u239c\u2500\u2500\u2500\u2500\u2500\u2500\u2500\u2500\u2500, t, w\u239f\n             \u239c     3         \u239f\n             \u239d    t          \u23a0"
      }
     ], 
     "prompt_number": 135
    }, 
    {
     "cell_type": "markdown", 
     "source": "56"
    }, 
    {
     "cell_type": "code", 
     "collapsed": false, 
     "input": "cos(a*t)/t", 
     "language": "python", 
     "outputs": [
      {
       "output_type": "pyout", 
       "png": "[encoded data removed]", 
       "prompt_number": 136, 
       "text": "\ncos(a\u22c5t)\n\u2500\u2500\u2500\u2500\u2500\u2500\u2500\u2500\n   t    "
      }
     ], 
     "prompt_number": 136
    }, 
    {
     "cell_type": "code", 
     "collapsed": false, 
     "input": "sine_transform(_, t, w)", 
     "language": "python", 
     "outputs": [
      {
       "output_type": "pyout", 
       "png": "[encoded data removed]", 
       "prompt_number": 137, 
       "text": "\n\u23a7                                                        \u2502 2\u2502    \n\u23aa                                                        \u2502w \u2502    \n\u23aa                        0                           for \u2502\u2500\u2500\u2502 &lt; 1\n\u23aa                                                        \u2502 2\u2502    \n\u23aa                                                        \u2502a \u2502    \n\u23aa                                                                \n\u23aa                     ___   ___                          \u2502 2\u2502    \n\u23aa                   \u2572\u2571 2 \u22c5\u2572\u2571 \u03c0                           \u2502a \u2502    \n\u23aa                   \u2500\u2500\u2500\u2500\u2500\u2500\u2500\u2500\u2500\u2500\u2500                      for \u2502\u2500\u2500\u2502 &lt; 1\n\u23aa                        2                               \u2502 2\u2502    \n\u23aa                                                        \u2502w \u2502    \n\u23aa                                                                \n\u23aa            \u23a7                             \u2502 2\u2502                  \n\u23aa  ___   ___ \u23aa                             \u2502w \u2502                  \n\u23aa\u2572\u2571 2 \u22c5\u2572\u2571 \u03c0 \u22c5\u23aa           0             for \u2502\u2500\u2500\u2502 &lt; 1              \n\u23a8            \u23aa                             \u2502 2\u2502                  \n\u23aa            \u23aa                             \u2502a \u2502                  \n\u23aa            \u23aa                                                   \n\u23aa            \u23aa                             \u2502 2\u2502                  \n\u23aa            \u23aa                             \u2502a \u2502                  \n\u23aa            \u23a8           1             for \u2502\u2500\u2500\u2502 &lt; 1              \n\u23aa            \u23aa                             \u2502 2\u2502                  \n\u23aa            \u23aa                             \u2502w \u2502                  \n\u23aa            \u23aa                                                   \n\u23aa            \u23aa        \u239b         \u2502  2\u239e                            \n\u23aa            \u23aa\u256d\u2500\u256e1, 1 \u239c 1   1/2 \u2502 w \u239f                            \n\u23aa            \u23aa\u2502\u2576\u2510     \u239c         \u2502 \u2500\u2500\u239f   otherwise                \n\u23aa            \u23aa\u2570\u2500\u256f2, 2 \u239c1/2   0  \u2502  2\u239f                            \n\u23aa            \u23a9        \u239d         \u2502 a \u23a0                            \n\u23aa\u2500\u2500\u2500\u2500\u2500\u2500\u2500\u2500\u2500\u2500\u2500\u2500\u2500\u2500\u2500\u2500\u2500\u2500\u2500\u2500\u2500\u2500\u2500\u2500\u2500\u2500\u2500\u2500\u2500\u2500\u2500\u2500\u2500\u2500\u2500\u2500\u2500\u2500\u2500\u2500\u2500\u2500\u2500\u2500\u2500\u2500\u2500\u2500\u2500\u2500   otherwise  \n\u23a9                        2                                       "
      }
     ], 
     "prompt_number": 137
    }, 
    {
     "cell_type": "markdown", 
     "source": "57"
    }, 
    {
     "cell_type": "code", 
     "collapsed": false, 
     "input": "t*cos(a*t)/(b**2+t**2)", 
     "language": "python", 
     "outputs": [
      {
       "output_type": "pyout", 
       "png": "[encoded data removed]", 
       "prompt_number": 138, 
       "text": "\nt\u22c5cos(a\u22c5t)\n\u2500\u2500\u2500\u2500\u2500\u2500\u2500\u2500\u2500\u2500\n  2    2  \n b  + t   "
      }
     ], 
     "prompt_number": 138
    }, 
    {
     "cell_type": "code", 
     "collapsed": true, 
     "input": "#sine_transform(_, t, w)", 
     "language": "python", 
     "outputs": [], 
     "prompt_number": 139
    }, 
    {
     "cell_type": "markdown", 
     "source": "58"
    }, 
    {
     "cell_type": "code", 
     "collapsed": false, 
     "input": "sin(a*t**2)", 
     "language": "python", 
     "outputs": [
      {
       "output_type": "pyout", 
       "png": "[encoded data removed]", 
       "prompt_number": 140, 
       "text": "\n   \u239b   2\u239e\nsin\u239da\u22c5t \u23a0"
      }
     ], 
     "prompt_number": 140
    }, 
    {
     "cell_type": "code", 
     "collapsed": false, 
     "input": "sine_transform(_, t, w)", 
     "language": "python", 
     "outputs": [
      {
       "output_type": "pyout", 
       "png": "[encoded data removed]", 
       "prompt_number": 141, 
       "text": "\n             \u239b   \u239b   2\u239e      \u239e\nSineTransform\u239dsin\u239da\u22c5t \u23a0, t, w\u23a0"
      }
     ], 
     "prompt_number": 141
    }, 
    {
     "cell_type": "markdown", 
     "source": "59"
    }, 
    {
     "cell_type": "code", 
     "collapsed": false, 
     "input": "sin(a*t**2)/t", 
     "language": "python", 
     "outputs": [
      {
       "output_type": "pyout", 
       "png": "[encoded data removed]", 
       "prompt_number": 142, 
       "text": "\n   \u239b   2\u239e\nsin\u239da\u22c5t \u23a0\n\u2500\u2500\u2500\u2500\u2500\u2500\u2500\u2500\u2500\n    t    "
      }
     ], 
     "prompt_number": 142
    }, 
    {
     "cell_type": "code", 
     "collapsed": false, 
     "input": "sine_transform(_, t, w)", 
     "language": "python", 
     "outputs": [
      {
       "output_type": "pyout", 
       "png": "[encoded data removed]", 
       "prompt_number": 143, 
       "text": "\n             \u239b   \u239b   2\u239e      \u239e\n             \u239csin\u239da\u22c5t \u23a0      \u239f\nSineTransform\u239c\u2500\u2500\u2500\u2500\u2500\u2500\u2500\u2500\u2500, t, w\u239f\n             \u239d    t          \u23a0"
      }
     ], 
     "prompt_number": 143
    }, 
    {
     "cell_type": "markdown", 
     "source": "60"
    }, 
    {
     "cell_type": "code", 
     "collapsed": false, 
     "input": "cos(a*t**2)", 
     "language": "python", 
     "outputs": [
      {
       "output_type": "pyout", 
       "png": "[encoded data removed]", 
       "prompt_number": 144, 
       "text": "\n   \u239b   2\u239e\ncos\u239da\u22c5t \u23a0"
      }
     ], 
     "prompt_number": 144
    }, 
    {
     "cell_type": "code", 
     "collapsed": false, 
     "input": "sine_transform(_, t, w)", 
     "language": "python", 
     "outputs": [
      {
       "output_type": "pyout", 
       "png": "[encoded data removed]", 
       "prompt_number": 145, 
       "text": "\n             \u239b   \u239b   2\u239e      \u239e\nSineTransform\u239dcos\u239da\u22c5t \u23a0, t, w\u23a0"
      }
     ], 
     "prompt_number": 145
    }, 
    {
     "cell_type": "markdown", 
     "source": "61"
    }, 
    {
     "cell_type": "code", 
     "collapsed": false, 
     "input": "cos(a*t**2)/t", 
     "language": "python", 
     "outputs": [
      {
       "output_type": "pyout", 
       "png": "[encoded data removed]", 
       "prompt_number": 146, 
       "text": "\n   \u239b   2\u239e\ncos\u239da\u22c5t \u23a0\n\u2500\u2500\u2500\u2500\u2500\u2500\u2500\u2500\u2500\n    t    "
      }
     ], 
     "prompt_number": 146
    }, 
    {
     "cell_type": "code", 
     "collapsed": false, 
     "input": "sine_transform(_, t, w)", 
     "language": "python", 
     "outputs": [
      {
       "output_type": "pyout", 
       "png": "[encoded data removed]", 
       "prompt_number": 147, 
       "text": "\n             \u239b   \u239b   2\u239e      \u239e\n             \u239ccos\u239da\u22c5t \u23a0      \u239f\nSineTransform\u239c\u2500\u2500\u2500\u2500\u2500\u2500\u2500\u2500\u2500, t, w\u239f\n             \u239d    t          \u23a0"
      }
     ], 
     "prompt_number": 147
    }, 
    {
     "cell_type": "markdown", 
     "source": "62"
    }, 
    {
     "cell_type": "code", 
     "collapsed": false, 
     "input": "exp(-a*sqrt(t))*sin(a*sqrt(t))", 
     "language": "python", 
     "outputs": [
      {
       "output_type": "pyout", 
       "png": "[encoded data removed]", 
       "prompt_number": 148, 
       "text": "\n      ___             \n -a\u22c5\u2572\u2571 t     \u239b    ___\u239e\n\u212f        \u22c5sin\u239da\u22c5\u2572\u2571 t \u23a0"
      }
     ], 
     "prompt_number": 148
    }, 
    {
     "cell_type": "code", 
     "collapsed": false, 
     "input": "sine_transform(_, t, w)", 
     "language": "python", 
     "outputs": [
      {
       "output_type": "pyout", 
       "png": "[encoded data removed]", 
       "prompt_number": 149, 
       "text": "\n  \u239b      \u239b  2\u239e       \u239b  2\u239e\u239e\n  \u239c      \u239c a \u239f       \u239c a \u239f\u239f\na\u22c5\u239c- sinh\u239c\u2500\u2500\u2500\u239f + cosh\u239c\u2500\u2500\u2500\u239f\u239f\n  \u239d      \u239d2\u22c5w\u23a0       \u239d2\u22c5w\u23a0\u23a0\n\u2500\u2500\u2500\u2500\u2500\u2500\u2500\u2500\u2500\u2500\u2500\u2500\u2500\u2500\u2500\u2500\u2500\u2500\u2500\u2500\u2500\u2500\u2500\u2500\u2500\u2500\u2500\n              3/2          \n           2\u22c5w             "
      }
     ], 
     "prompt_number": 149
    }, 
    {
     "cell_type": "code", 
     "collapsed": false, 
     "input": "simplify(_)", 
     "language": "python", 
     "outputs": [
      {
       "output_type": "pyout", 
       "png": "[encoded data removed]", 
       "prompt_number": 150, 
       "text": "\n  \u239b      \u239b  2\u239e       \u239b  2\u239e\u239e\n  \u239c      \u239c a \u239f       \u239c a \u239f\u239f\na\u22c5\u239c- sinh\u239c\u2500\u2500\u2500\u239f + cosh\u239c\u2500\u2500\u2500\u239f\u239f\n  \u239d      \u239d2\u22c5w\u23a0       \u239d2\u22c5w\u23a0\u23a0\n\u2500\u2500\u2500\u2500\u2500\u2500\u2500\u2500\u2500\u2500\u2500\u2500\u2500\u2500\u2500\u2500\u2500\u2500\u2500\u2500\u2500\u2500\u2500\u2500\u2500\u2500\u2500\n              3/2          \n           2\u22c5w             "
      }
     ], 
     "prompt_number": 150
    }, 
    {
     "cell_type": "code", 
     "collapsed": true, 
     "input": "#inverse_sine_transform(_, w, t)", 
     "language": "python", 
     "outputs": [], 
     "prompt_number": 151
    }, 
    {
     "cell_type": "markdown", 
     "source": "Other"
    }, 
    {
     "cell_type": "code", 
     "collapsed": false, 
     "input": "1/(a**2+t**2)", 
     "language": "python", 
     "outputs": [
      {
       "output_type": "pyout", 
       "png": "[encoded data removed]", 
       "prompt_number": 152, 
       "text": "\n   1   \n\u2500\u2500\u2500\u2500\u2500\u2500\u2500\n 2    2\na  + t "
      }
     ], 
     "prompt_number": 152
    }, 
    {
     "cell_type": "code", 
     "collapsed": false, 
     "input": "sine_transform(_, t, w)", 
     "language": "python", 
     "outputs": [
      {
       "output_type": "pyout", 
       "png": "[encoded data removed]", 
       "prompt_number": 153, 
       "text": "\n              \u239b            \u2502  2  2\u239e\n  ___ \u256d\u2500\u256e2, 1 \u239c  1/2       \u2502 a \u22c5w \u239f\n\u2572\u2571 2 \u22c5\u2502\u2576\u2510     \u239c            \u2502 \u2500\u2500\u2500\u2500\u2500\u239f\n      \u2570\u2500\u256f1, 3 \u239d1/2, 1/2  0 \u2502   4  \u23a0\n\u2500\u2500\u2500\u2500\u2500\u2500\u2500\u2500\u2500\u2500\u2500\u2500\u2500\u2500\u2500\u2500\u2500\u2500\u2500\u2500\u2500\u2500\u2500\u2500\u2500\u2500\u2500\u2500\u2500\u2500\u2500\u2500\u2500\u2500\u2500\n                2\u22c5a                "
      }
     ], 
     "prompt_number": 153
    }, 
    {
     "cell_type": "code", 
     "collapsed": false, 
     "input": "hyperexpand(_)", 
     "language": "python", 
     "outputs": [
      {
       "output_type": "pyout", 
       "png": "[encoded data removed]", 
       "prompt_number": 154, 
       "text": "\n              \u239b            \u2502  2  2\u239e\n  ___ \u256d\u2500\u256e2, 1 \u239c  1/2       \u2502 a \u22c5w \u239f\n\u2572\u2571 2 \u22c5\u2502\u2576\u2510     \u239c            \u2502 \u2500\u2500\u2500\u2500\u2500\u239f\n      \u2570\u2500\u256f1, 3 \u239d1/2, 1/2  0 \u2502   4  \u23a0\n\u2500\u2500\u2500\u2500\u2500\u2500\u2500\u2500\u2500\u2500\u2500\u2500\u2500\u2500\u2500\u2500\u2500\u2500\u2500\u2500\u2500\u2500\u2500\u2500\u2500\u2500\u2500\u2500\u2500\u2500\u2500\u2500\u2500\u2500\u2500\n                2\u22c5a                "
      }
     ], 
     "prompt_number": 154
    }, 
    {
     "cell_type": "code", 
     "collapsed": false, 
     "input": "inverse_sine_transform(_, w, t)", 
     "language": "python", 
     "outputs": [
      {
       "output_type": "pyout", 
       "png": "[encoded data removed]", 
       "prompt_number": 155, 
       "text": "\n   1   \n\u2500\u2500\u2500\u2500\u2500\u2500\u2500\n 2    2\na  + t "
      }
     ], 
     "prompt_number": 155
    }, 
    {
     "cell_type": "code", 
     "collapsed": true, 
     "input": "", 
     "language": "python", 
     "outputs": [], 
     "prompt_number": "&nbsp;"
    }
   ]
  }
 ]
}