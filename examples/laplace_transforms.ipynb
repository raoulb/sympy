{
 "metadata": {
  "name": "Laplace_Transforms"
 }, 
 "name": "Laplace_Transforms", 
 "nbformat": 2, 
 "worksheets": [
  {
   "cells": [
    {
     "cell_type": "code", 
     "collapsed": true, 
     "input": "%load_ext sympyprt", 
     "language": "python", 
     "outputs": [], 
     "prompt_number": 1
    }, 
    {
     "cell_type": "code", 
     "collapsed": true, 
     "input": "from sympy import *", 
     "language": "python", 
     "outputs": [], 
     "prompt_number": 2
    }, 
    {
     "cell_type": "markdown", 
     "source": "Examples of Fourier transformations."
    }, 
    {
     "cell_type": "code", 
     "collapsed": false, 
     "input": "p = Symbol(\"p\")\nt = Symbol(\"t\")", 
     "language": "python", 
     "outputs": [], 
     "prompt_number": 3
    }, 
    {
     "cell_type": "code", 
     "collapsed": true, 
     "input": "n = Symbol(\"n\", integer=True)", 
     "language": "python", 
     "outputs": [], 
     "prompt_number": 4
    }, 
    {
     "cell_type": "code", 
     "collapsed": true, 
     "input": "a = Symbol(\"a\")\nb = Symbol(\"b\")", 
     "language": "python", 
     "outputs": [], 
     "prompt_number": 5
    }, 
    {
     "cell_type": "markdown", 
     "source": "The following examples are taken from 'Bronstein', 6th edition, page 1097ff"
    }, 
    {
     "cell_type": "markdown", 
     "source": "1"
    }, 
    {
     "cell_type": "code", 
     "collapsed": false, 
     "input": "0", 
     "language": "python", 
     "outputs": [
      {
       "output_type": "pyout", 
       "prompt_number": 6, 
       "text": "0"
      }
     ], 
     "prompt_number": 6
    }, 
    {
     "cell_type": "code", 
     "collapsed": false, 
     "input": "laplace_transform(_, t, p)", 
     "language": "python", 
     "outputs": [
      {
       "output_type": "pyout", 
       "prompt_number": 7, 
       "text": "(0, -\u221e, True)"
      }
     ], 
     "prompt_number": 7
    }, 
    {
     "cell_type": "code", 
     "collapsed": false, 
     "input": "inverse_laplace_transform(_[0], p, t)", 
     "language": "python", 
     "outputs": [
      {
       "output_type": "pyout", 
       "png": "[encoded data removed]", 
       "prompt_number": 8, 
       "text": "0"
      }
     ], 
     "prompt_number": 8
    }, 
    {
     "cell_type": "markdown", 
     "source": "2"
    }, 
    {
     "cell_type": "code", 
     "collapsed": false, 
     "input": "1", 
     "language": "python", 
     "outputs": [
      {
       "output_type": "pyout", 
       "prompt_number": 9, 
       "text": "1"
      }
     ], 
     "prompt_number": 9
    }, 
    {
     "cell_type": "code", 
     "collapsed": false, 
     "input": "laplace_transform(_, t, p)", 
     "language": "python", 
     "outputs": [
      {
       "output_type": "pyout", 
       "prompt_number": 10, 
       "text": "\n\u239b1         \u239e\n\u239c\u2500, 0, True\u239f\n\u239dp         \u23a0"
      }
     ], 
     "prompt_number": 10
    }, 
    {
     "cell_type": "code", 
     "collapsed": false, 
     "input": "inverse_laplace_transform(_[0], p, t)", 
     "language": "python", 
     "outputs": [
      {
       "output_type": "pyout", 
       "png": "[encoded data removed]", 
       "prompt_number": 11, 
       "text": "Heaviside(t)"
      }
     ], 
     "prompt_number": 11
    }, 
    {
     "cell_type": "markdown", 
     "source": "3"
    }, 
    {
     "cell_type": "code", 
     "collapsed": false, 
     "input": "t**(n-1)/factorial(n-1)", 
     "language": "python", 
     "outputs": [
      {
       "output_type": "pyout", 
       "png": "[encoded data removed]", 
       "prompt_number": 12, 
       "text": "\n  n - 1 \n t      \n\u2500\u2500\u2500\u2500\u2500\u2500\u2500\u2500\n(n - 1)!"
      }
     ], 
     "prompt_number": 12
    }, 
    {
     "cell_type": "code", 
     "collapsed": false, 
     "input": "laplace_transform(_, t, p)", 
     "language": "python", 
     "outputs": [
      {
       "output_type": "pyout", 
       "prompt_number": 13, 
       "text": "\n\u239b -n               \u239e\n\u239dp  , 0, -n + 1 &lt; 1\u23a0"
      }
     ], 
     "prompt_number": 13
    }, 
    {
     "cell_type": "code", 
     "collapsed": false, 
     "input": "inverse_laplace_transform(_[0], p, t)", 
     "language": "python", 
     "outputs": [
      {
       "output_type": "pyout", 
       "png": "[encoded data removed]", 
       "prompt_number": 14, 
       "text": "\n n - 1             \nt     \u22c5Heaviside(t)\n\u2500\u2500\u2500\u2500\u2500\u2500\u2500\u2500\u2500\u2500\u2500\u2500\u2500\u2500\u2500\u2500\u2500\u2500\u2500\n        \u0393(n)       "
      }
     ], 
     "prompt_number": 14
    }, 
    {
     "cell_type": "markdown", 
     "source": "4"
    }, 
    {
     "cell_type": "code", 
     "collapsed": false, 
     "input": "t**(n-1)/factorial(n-1)*exp(a*t)", 
     "language": "python", 
     "outputs": [
      {
       "output_type": "pyout", 
       "png": "[encoded data removed]", 
       "prompt_number": 15, 
       "text": "\n n - 1  a\u22c5t\nt     \u22c5\u212f   \n\u2500\u2500\u2500\u2500\u2500\u2500\u2500\u2500\u2500\u2500\u2500\n  (n - 1)! "
      }
     ], 
     "prompt_number": 15
    }, 
    {
     "cell_type": "code", 
     "collapsed": false, 
     "input": "#laplace_transform(_, t, p)\n# unsupported operand type(s) for *: 'NoneType' and 'Mul'", 
     "language": "python", 
     "outputs": [], 
     "prompt_number": 16
    }, 
    {
     "cell_type": "markdown", 
     "source": "5"
    }, 
    {
     "cell_type": "code", 
     "collapsed": false, 
     "input": "(exp(b*t)-exp(a*t))/(b-a)", 
     "language": "python", 
     "outputs": [
      {
       "output_type": "pyout", 
       "png": "[encoded data removed]", 
       "prompt_number": 17, 
       "text": "\n   a\u22c5t    b\u22c5t\n- \u212f    + \u212f   \n\u2500\u2500\u2500\u2500\u2500\u2500\u2500\u2500\u2500\u2500\u2500\u2500\u2500\n    -a + b   "
      }
     ], 
     "prompt_number": 17
    }, 
    {
     "cell_type": "code", 
     "collapsed": false, 
     "input": "laplace_transform(_, t, p)", 
     "language": "python", 
     "outputs": [
      {
       "output_type": "pyout", 
       "prompt_number": 18, 
       "text": "(nan, -\u221e, True)"
      }
     ], 
     "prompt_number": 18
    }, 
    {
     "cell_type": "markdown", 
     "source": "6"
    }, 
    {
     "cell_type": "code", 
     "collapsed": false, 
     "input": "(b*exp(b*t)-a*exp(a*t))/(b-a)", 
     "language": "python", 
     "outputs": [
      {
       "output_type": "pyout", 
       "png": "[encoded data removed]", 
       "prompt_number": 19, 
       "text": "\n     a\u22c5t      b\u22c5t\n- a\u22c5\u212f    + b\u22c5\u212f   \n\u2500\u2500\u2500\u2500\u2500\u2500\u2500\u2500\u2500\u2500\u2500\u2500\u2500\u2500\u2500\u2500\u2500\n      -a + b     "
      }
     ], 
     "prompt_number": 19
    }, 
    {
     "cell_type": "code", 
     "collapsed": false, 
     "input": "laplace_transform(_, t, p)", 
     "language": "python", 
     "outputs": [
      {
       "output_type": "pyout", 
       "prompt_number": 20, 
       "text": "(nan, -\u221e, True)"
      }
     ], 
     "prompt_number": 20
    }, 
    {
     "cell_type": "markdown", 
     "source": "7"
    }, 
    {
     "cell_type": "code", 
     "collapsed": true, 
     "input": "", 
     "language": "python", 
     "outputs": [], 
     "prompt_number": 20
    }, 
    {
     "cell_type": "markdown", 
     "source": "8"
    }, 
    {
     "cell_type": "code", 
     "collapsed": false, 
     "input": "sin(a*t)", 
     "language": "python", 
     "outputs": [
      {
       "output_type": "pyout", 
       "png": "[encoded data removed]", 
       "prompt_number": 21, 
       "text": "sin(a\u22c5t)"
      }
     ], 
     "prompt_number": 21
    }, 
    {
     "cell_type": "code", 
     "collapsed": false, 
     "input": "laplace_transform(_, t, p)", 
     "language": "python", 
     "outputs": [
      {
       "output_type": "pyout", 
       "prompt_number": 22, 
       "text": "\n\u239b   a        \u2502                 \u239b          2      \u239e\u2502    \u239e\n\u239c\u2500\u2500\u2500\u2500\u2500\u2500\u2500, 0, \u2502periodic_argument\u239dpolar_lift (a), \u221e\u23a0\u2502 = 0\u239f\n\u239c 2    2                                               \u239f\n\u239da  + p                                                \u23a0"
      }
     ], 
     "prompt_number": 22
    }, 
    {
     "cell_type": "code", 
     "collapsed": false, 
     "input": "inverse_laplace_transform(_[0], p, t)", 
     "language": "python", 
     "outputs": [
      {
       "output_type": "pyout", 
       "png": "[encoded data removed]", 
       "prompt_number": 23, 
       "text": "\n   \u239b   2\u22c5t\u22c5im(a)                 2\u22c5t\u22c5im(a)                                    \n-\u2148\u22c5\u239d\u2148\u22c5\u212f         \u22c5sin(t\u22c5re(a)) - \u212f         \u22c5cos(t\u22c5re(a)) + \u2148\u22c5sin(t\u22c5re(a)) + cos\n\u2500\u2500\u2500\u2500\u2500\u2500\u2500\u2500\u2500\u2500\u2500\u2500\u2500\u2500\u2500\u2500\u2500\u2500\u2500\u2500\u2500\u2500\u2500\u2500\u2500\u2500\u2500\u2500\u2500\u2500\u2500\u2500\u2500\u2500\u2500\u2500\u2500\u2500\u2500\u2500\u2500\u2500\u2500\u2500\u2500\u2500\u2500\u2500\u2500\u2500\u2500\u2500\u2500\u2500\u2500\u2500\u2500\u2500\u2500\u2500\u2500\u2500\u2500\u2500\u2500\u2500\u2500\u2500\u2500\u2500\u2500\u2500\u2500\u2500\u2500\u2500\u2500\u2500\n                                                       2                      \n\n         \u239e  -t\u22c5im(a)             \n(t\u22c5re(a))\u23a0\u22c5\u212f        \u22c5Heaviside(t)\n\u2500\u2500\u2500\u2500\u2500\u2500\u2500\u2500\u2500\u2500\u2500\u2500\u2500\u2500\u2500\u2500\u2500\u2500\u2500\u2500\u2500\u2500\u2500\u2500\u2500\u2500\u2500\u2500\u2500\u2500\u2500\u2500\u2500\n                                 "
      }
     ], 
     "prompt_number": 23
    }, 
    {
     "cell_type": "markdown", 
     "source": "9"
    }, 
    {
     "cell_type": "code", 
     "collapsed": false, 
     "input": "sin(a*t+b)", 
     "language": "python", 
     "outputs": [
      {
       "output_type": "pyout", 
       "png": "[encoded data removed]", 
       "prompt_number": 24, 
       "text": "sin(a\u22c5t + b)"
      }
     ], 
     "prompt_number": 24
    }, 
    {
     "cell_type": "code", 
     "collapsed": false, 
     "input": "laplace_transform(_, t, p)", 
     "language": "python", 
     "outputs": [
      {
       "output_type": "pyout", 
       "prompt_number": 25, 
       "text": "\n\u239ba\u22c5cos(b) + p\u22c5sin(b)     \u2502                 \u239b          2      \u239e\u2502    \u239e\n\u239c\u2500\u2500\u2500\u2500\u2500\u2500\u2500\u2500\u2500\u2500\u2500\u2500\u2500\u2500\u2500\u2500\u2500\u2500\u2500, 0, \u2502periodic_argument\u239dpolar_lift (a), \u221e\u23a0\u2502 = 0\u239f\n\u239c       2    2                                                     \u239f\n\u239d      a  + p                                                      \u23a0"
      }
     ], 
     "prompt_number": 25
    }, 
    {
     "cell_type": "code", 
     "collapsed": false, 
     "input": "inverse_laplace_transform(_[0], p, t)", 
     "language": "python", 
     "outputs": [
      {
       "output_type": "pyout", 
       "png": "[encoded data removed]", 
       "prompt_number": 26, 
       "text": "\n   \u239b 2\u22c5t\u22c5im(a)                          2\u22c5t\u22c5im(a)                          2\u22c5t\n-\u2148\u22c5\u239d\u212f         \u22c5sin(b)\u22c5sin(t\u22c5re(a)) + \u2148\u22c5\u212f         \u22c5sin(b)\u22c5cos(t\u22c5re(a)) + \u2148\u22c5\u212f   \n\u2500\u2500\u2500\u2500\u2500\u2500\u2500\u2500\u2500\u2500\u2500\u2500\u2500\u2500\u2500\u2500\u2500\u2500\u2500\u2500\u2500\u2500\u2500\u2500\u2500\u2500\u2500\u2500\u2500\u2500\u2500\u2500\u2500\u2500\u2500\u2500\u2500\u2500\u2500\u2500\u2500\u2500\u2500\u2500\u2500\u2500\u2500\u2500\u2500\u2500\u2500\u2500\u2500\u2500\u2500\u2500\u2500\u2500\u2500\u2500\u2500\u2500\u2500\u2500\u2500\u2500\u2500\u2500\u2500\u2500\u2500\u2500\u2500\u2500\u2500\u2500\u2500\u2500\n                                                                              \n\n\u22c5im(a)                        2\u22c5t\u22c5im(a)                                       \n      \u22c5sin(t\u22c5re(a))\u22c5cos(b) - \u212f         \u22c5cos(b)\u22c5cos(t\u22c5re(a)) - sin(b)\u22c5sin(t\u22c5re(\n\u2500\u2500\u2500\u2500\u2500\u2500\u2500\u2500\u2500\u2500\u2500\u2500\u2500\u2500\u2500\u2500\u2500\u2500\u2500\u2500\u2500\u2500\u2500\u2500\u2500\u2500\u2500\u2500\u2500\u2500\u2500\u2500\u2500\u2500\u2500\u2500\u2500\u2500\u2500\u2500\u2500\u2500\u2500\u2500\u2500\u2500\u2500\u2500\u2500\u2500\u2500\u2500\u2500\u2500\u2500\u2500\u2500\u2500\u2500\u2500\u2500\u2500\u2500\u2500\u2500\u2500\u2500\u2500\u2500\u2500\u2500\u2500\u2500\u2500\u2500\u2500\u2500\u2500\n                                                2                             \n\n                                                                         \u239e  -t\na)) + \u2148\u22c5sin(b)\u22c5cos(t\u22c5re(a)) + \u2148\u22c5sin(t\u22c5re(a))\u22c5cos(b) + cos(b)\u22c5cos(t\u22c5re(a))\u23a0\u22c5\u212f  \n\u2500\u2500\u2500\u2500\u2500\u2500\u2500\u2500\u2500\u2500\u2500\u2500\u2500\u2500\u2500\u2500\u2500\u2500\u2500\u2500\u2500\u2500\u2500\u2500\u2500\u2500\u2500\u2500\u2500\u2500\u2500\u2500\u2500\u2500\u2500\u2500\u2500\u2500\u2500\u2500\u2500\u2500\u2500\u2500\u2500\u2500\u2500\u2500\u2500\u2500\u2500\u2500\u2500\u2500\u2500\u2500\u2500\u2500\u2500\u2500\u2500\u2500\u2500\u2500\u2500\u2500\u2500\u2500\u2500\u2500\u2500\u2500\u2500\u2500\u2500\u2500\u2500\u2500\n                                                                              \n\n\u22c5im(a)             \n      \u22c5Heaviside(t)\n\u2500\u2500\u2500\u2500\u2500\u2500\u2500\u2500\u2500\u2500\u2500\u2500\u2500\u2500\u2500\u2500\u2500\u2500\u2500\n                   "
      }
     ], 
     "prompt_number": 26
    }, 
    {
     "cell_type": "code", 
     "collapsed": false, 
     "input": "simplify(_)", 
     "language": "python", 
     "outputs": [
      {
       "output_type": "pyout", 
       "png": "[encoded data removed]", 
       "prompt_number": 27, 
       "text": "\n\u239b     2\u22c5t\u22c5im(a)                        2\u22c5t\u22c5im(a)                        2\u22c5t\u22c5im\n\u239c  \u2148\u22c5\u212f         \u22c5sin(b)\u22c5sin(t\u22c5re(a))   \u212f         \u22c5sin(b)\u22c5cos(t\u22c5re(a))   \u212f      \n\u239c- \u2500\u2500\u2500\u2500\u2500\u2500\u2500\u2500\u2500\u2500\u2500\u2500\u2500\u2500\u2500\u2500\u2500\u2500\u2500\u2500\u2500\u2500\u2500\u2500\u2500\u2500\u2500\u2500\u2500\u2500\u2500\u2500 + \u2500\u2500\u2500\u2500\u2500\u2500\u2500\u2500\u2500\u2500\u2500\u2500\u2500\u2500\u2500\u2500\u2500\u2500\u2500\u2500\u2500\u2500\u2500\u2500\u2500\u2500\u2500\u2500\u2500\u2500 + \u2500\u2500\u2500\u2500\u2500\u2500\u2500\n\u239d                 2                                 2                         \n\n(a)                          2\u22c5t\u22c5im(a)                                        \n   \u22c5sin(t\u22c5re(a))\u22c5cos(b)   \u2148\u22c5\u212f         \u22c5cos(b)\u22c5cos(t\u22c5re(a))   \u2148\u22c5sin(b)\u22c5sin(t\u22c5re\n\u2500\u2500\u2500\u2500\u2500\u2500\u2500\u2500\u2500\u2500\u2500\u2500\u2500\u2500\u2500\u2500\u2500\u2500\u2500\u2500\u2500\u2500\u2500 + \u2500\u2500\u2500\u2500\u2500\u2500\u2500\u2500\u2500\u2500\u2500\u2500\u2500\u2500\u2500\u2500\u2500\u2500\u2500\u2500\u2500\u2500\u2500\u2500\u2500\u2500\u2500\u2500\u2500\u2500\u2500\u2500 + \u2500\u2500\u2500\u2500\u2500\u2500\u2500\u2500\u2500\u2500\u2500\u2500\u2500\u2500\u2500\u2500\u2500\n       2                                 2                             2      \n\n                                                                        \u239e     \n(a))   sin(b)\u22c5cos(t\u22c5re(a))   sin(t\u22c5re(a))\u22c5cos(b)   \u2148\u22c5cos(b)\u22c5cos(t\u22c5re(a))\u239f  -t\u22c5\n\u2500\u2500\u2500\u2500 + \u2500\u2500\u2500\u2500\u2500\u2500\u2500\u2500\u2500\u2500\u2500\u2500\u2500\u2500\u2500\u2500\u2500\u2500\u2500 + \u2500\u2500\u2500\u2500\u2500\u2500\u2500\u2500\u2500\u2500\u2500\u2500\u2500\u2500\u2500\u2500\u2500\u2500\u2500 - \u2500\u2500\u2500\u2500\u2500\u2500\u2500\u2500\u2500\u2500\u2500\u2500\u2500\u2500\u2500\u2500\u2500\u2500\u2500\u2500\u2500\u239f\u22c5\u212f   \n                2                     2                      2          \u23a0     \n\n                  \nim(a)             \n     \u22c5Heaviside(t)\n                  "
      }
     ], 
     "prompt_number": 27
    }, 
    {
     "cell_type": "markdown", 
     "source": "10"
    }, 
    {
     "cell_type": "code", 
     "collapsed": true, 
     "input": "", 
     "language": "python", 
     "outputs": [], 
     "prompt_number": 27
    }, 
    {
     "cell_type": "markdown", 
     "source": "11"
    }, 
    {
     "cell_type": "code", 
     "collapsed": false, 
     "input": "cos(a*t)", 
     "language": "python", 
     "outputs": [
      {
       "output_type": "pyout", 
       "png": "[encoded data removed]", 
       "prompt_number": 28, 
       "text": "cos(a\u22c5t)"
      }
     ], 
     "prompt_number": 28
    }, 
    {
     "cell_type": "code", 
     "collapsed": false, 
     "input": "laplace_transform(_, t, p)", 
     "language": "python", 
     "outputs": [
      {
       "output_type": "pyout", 
       "prompt_number": 29, 
       "text": "\n\u239b   p        \u2502                 \u239b          2      \u239e\u2502    \u239e\n\u239c\u2500\u2500\u2500\u2500\u2500\u2500\u2500, 0, \u2502periodic_argument\u239dpolar_lift (a), \u221e\u23a0\u2502 = 0\u239f\n\u239c 2    2                                               \u239f\n\u239da  + p                                                \u23a0"
      }
     ], 
     "prompt_number": 29
    }, 
    {
     "cell_type": "code", 
     "collapsed": false, 
     "input": "inverse_laplace_transform(_[0], p, t)", 
     "language": "python", 
     "outputs": [
      {
       "output_type": "pyout", 
       "png": "[encoded data removed]", 
       "prompt_number": 30, 
       "text": "\n \u239b   2\u22c5t\u22c5im(a)                 2\u22c5t\u22c5im(a)                                      \n-\u239d\u2148\u22c5\u212f         \u22c5sin(t\u22c5re(a)) - \u212f         \u22c5cos(t\u22c5re(a)) - \u2148\u22c5sin(t\u22c5re(a)) - cos(t\n\u2500\u2500\u2500\u2500\u2500\u2500\u2500\u2500\u2500\u2500\u2500\u2500\u2500\u2500\u2500\u2500\u2500\u2500\u2500\u2500\u2500\u2500\u2500\u2500\u2500\u2500\u2500\u2500\u2500\u2500\u2500\u2500\u2500\u2500\u2500\u2500\u2500\u2500\u2500\u2500\u2500\u2500\u2500\u2500\u2500\u2500\u2500\u2500\u2500\u2500\u2500\u2500\u2500\u2500\u2500\u2500\u2500\u2500\u2500\u2500\u2500\u2500\u2500\u2500\u2500\u2500\u2500\u2500\u2500\u2500\u2500\u2500\u2500\u2500\u2500\u2500\u2500\u2500\n                                                      2                       \n\n       \u239e  -t\u22c5im(a)             \n\u22c5re(a))\u23a0\u22c5\u212f        \u22c5Heaviside(t)\n\u2500\u2500\u2500\u2500\u2500\u2500\u2500\u2500\u2500\u2500\u2500\u2500\u2500\u2500\u2500\u2500\u2500\u2500\u2500\u2500\u2500\u2500\u2500\u2500\u2500\u2500\u2500\u2500\u2500\u2500\u2500\n                               "
      }
     ], 
     "prompt_number": 30
    }, 
    {
     "cell_type": "markdown", 
     "source": "12"
    }, 
    {
     "cell_type": "code", 
     "collapsed": false, 
     "input": "cos(a*t+b)", 
     "language": "python", 
     "outputs": [
      {
       "output_type": "pyout", 
       "png": "[encoded data removed]", 
       "prompt_number": 31, 
       "text": "cos(a\u22c5t + b)"
      }
     ], 
     "prompt_number": 31
    }, 
    {
     "cell_type": "code", 
     "collapsed": false, 
     "input": "laplace_transform(_, t, p)", 
     "language": "python", 
     "outputs": [
      {
       "output_type": "pyout", 
       "prompt_number": 32, 
       "text": "\n\u239b-a\u22c5sin(b) + p\u22c5cos(b)     \u2502                 \u239b          2      \u239e\u2502    \u239e\n\u239c\u2500\u2500\u2500\u2500\u2500\u2500\u2500\u2500\u2500\u2500\u2500\u2500\u2500\u2500\u2500\u2500\u2500\u2500\u2500\u2500, 0, \u2502periodic_argument\u239dpolar_lift (a), \u221e\u23a0\u2502 = 0\u239f\n\u239c       2    2                                                      \u239f\n\u239d      a  + p                                                       \u23a0"
      }
     ], 
     "prompt_number": 32
    }, 
    {
     "cell_type": "code", 
     "collapsed": false, 
     "input": "inverse_laplace_transform(_[0], p, t)", 
     "language": "python", 
     "outputs": [
      {
       "output_type": "pyout", 
       "png": "[encoded data removed]", 
       "prompt_number": 33, 
       "text": "\n   \u239b     2\u22c5t\u22c5im(a)                        2\u22c5t\u22c5im(a)                        2\u22c5t\n-\u2148\u22c5\u239d- \u2148\u22c5\u212f         \u22c5sin(b)\u22c5sin(t\u22c5re(a)) + \u212f         \u22c5sin(b)\u22c5cos(t\u22c5re(a)) + \u212f   \n\u2500\u2500\u2500\u2500\u2500\u2500\u2500\u2500\u2500\u2500\u2500\u2500\u2500\u2500\u2500\u2500\u2500\u2500\u2500\u2500\u2500\u2500\u2500\u2500\u2500\u2500\u2500\u2500\u2500\u2500\u2500\u2500\u2500\u2500\u2500\u2500\u2500\u2500\u2500\u2500\u2500\u2500\u2500\u2500\u2500\u2500\u2500\u2500\u2500\u2500\u2500\u2500\u2500\u2500\u2500\u2500\u2500\u2500\u2500\u2500\u2500\u2500\u2500\u2500\u2500\u2500\u2500\u2500\u2500\u2500\u2500\u2500\u2500\u2500\u2500\u2500\u2500\u2500\n                                                                              \n\n\u22c5im(a)                          2\u22c5t\u22c5im(a)                                     \n      \u22c5sin(t\u22c5re(a))\u22c5cos(b) + \u2148\u22c5\u212f         \u22c5cos(b)\u22c5cos(t\u22c5re(a)) - \u2148\u22c5sin(b)\u22c5sin(t\n\u2500\u2500\u2500\u2500\u2500\u2500\u2500\u2500\u2500\u2500\u2500\u2500\u2500\u2500\u2500\u2500\u2500\u2500\u2500\u2500\u2500\u2500\u2500\u2500\u2500\u2500\u2500\u2500\u2500\u2500\u2500\u2500\u2500\u2500\u2500\u2500\u2500\u2500\u2500\u2500\u2500\u2500\u2500\u2500\u2500\u2500\u2500\u2500\u2500\u2500\u2500\u2500\u2500\u2500\u2500\u2500\u2500\u2500\u2500\u2500\u2500\u2500\u2500\u2500\u2500\u2500\u2500\u2500\u2500\u2500\u2500\u2500\u2500\u2500\u2500\u2500\u2500\u2500\n                                                 2                            \n\n                                                                           \u239e  \n\u22c5re(a)) - sin(b)\u22c5cos(t\u22c5re(a)) - sin(t\u22c5re(a))\u22c5cos(b) + \u2148\u22c5cos(b)\u22c5cos(t\u22c5re(a))\u23a0\u22c5\u212f\n\u2500\u2500\u2500\u2500\u2500\u2500\u2500\u2500\u2500\u2500\u2500\u2500\u2500\u2500\u2500\u2500\u2500\u2500\u2500\u2500\u2500\u2500\u2500\u2500\u2500\u2500\u2500\u2500\u2500\u2500\u2500\u2500\u2500\u2500\u2500\u2500\u2500\u2500\u2500\u2500\u2500\u2500\u2500\u2500\u2500\u2500\u2500\u2500\u2500\u2500\u2500\u2500\u2500\u2500\u2500\u2500\u2500\u2500\u2500\u2500\u2500\u2500\u2500\u2500\u2500\u2500\u2500\u2500\u2500\u2500\u2500\u2500\u2500\u2500\u2500\u2500\u2500\u2500\n                                                                              \n\n-t\u22c5im(a)             \n        \u22c5Heaviside(t)\n\u2500\u2500\u2500\u2500\u2500\u2500\u2500\u2500\u2500\u2500\u2500\u2500\u2500\u2500\u2500\u2500\u2500\u2500\u2500\u2500\u2500\n                     "
      }
     ], 
     "prompt_number": 33
    }, 
    {
     "cell_type": "markdown", 
     "source": "13"
    }, 
    {
     "cell_type": "code", 
     "collapsed": false, 
     "input": "sinh(a*t)", 
     "language": "python", 
     "outputs": [
      {
       "output_type": "pyout", 
       "png": "[encoded data removed]", 
       "prompt_number": 34, 
       "text": "sinh(a\u22c5t)"
      }
     ], 
     "prompt_number": 34
    }, 
    {
     "cell_type": "code", 
     "collapsed": false, 
     "input": "laplace_transform(_, t, p)", 
     "language": "python", 
     "outputs": [
      {
       "output_type": "pyout", 
       "prompt_number": 35, 
       "text": "(nan, -\u221e, True)"
      }
     ], 
     "prompt_number": 35
    }, 
    {
     "cell_type": "markdown", 
     "source": "14"
    }, 
    {
     "cell_type": "code", 
     "collapsed": false, 
     "input": "cosh(a*t)", 
     "language": "python", 
     "outputs": [
      {
       "output_type": "pyout", 
       "png": "[encoded data removed]", 
       "prompt_number": 36, 
       "text": "cosh(a\u22c5t)"
      }
     ], 
     "prompt_number": 36
    }, 
    {
     "cell_type": "code", 
     "collapsed": false, 
     "input": "laplace_transform(_, t, p)", 
     "language": "python", 
     "outputs": [
      {
       "output_type": "pyout", 
       "prompt_number": 37, 
       "text": "\n\u239b\u23a7                      \u2148\u22c5\u03c0                         \u2502 2\u2502                      \n\u239c\u23aa                   p\u22c5\u212f                            \u2502p \u2502                      \n\u239c\u23aa                  \u2500\u2500\u2500\u2500\u2500\u2500\u2500                     for \u2502\u2500\u2500\u2502 &lt; 1, Max(0, cos(Abs(p\n\u239c\u23aa                   2    2                         \u2502 2\u2502                      \n\u239c\u23aa                  a  - p                          \u2502a \u2502                      \n\u239c\u23aa                                                                            \n\u239c\u23aa                                                  \u2502 2\u2502                      \n\u239c\u23aa                     p                            \u2502a \u2502                      \n\u239c\u23aa                 \u2500\u2500\u2500\u2500\u2500\u2500\u2500\u2500\u2500                    for \u2502\u2500\u2500\u2502 &lt; 1                  \n\u239c\u23aa                    2    2                        \u2502 2\u2502                      \n\u239c\u23aa                 - a  + p                         \u2502p \u2502                      \n\u239c\u23aa                                                                            \n\u239c\u23aa  \u23a7                                 \u2502 2\u2502                                    \n\u239c\u23aa  \u23aa            -p                   \u2502p \u2502                                    \n\u239c\u23aa\u03c0\u22c5\u23aa       \u2500\u2500\u2500\u2500\u2500\u2500\u2500\u2500\u2500\u2500\u2500\u2500          for \u2502\u2500\u2500\u2502 &lt; 1                                \n\u239c\u23aa  \u23aa           \u239b     2\u239e              \u2502 2\u2502                                    \n\u239c\u23aa  \u23aa           \u239c    p \u239f              \u2502a \u2502                                    \n\u239c\u23aa  \u23aa       \u03c0\u22c5a\u22c5\u239c1 - \u2500\u2500\u239f                                                      \n\u239c\u23a8  \u23aa           \u239c     2\u239f                                                      \n\u239c\u23aa  \u23aa           \u239d    a \u23a0                                                      \n\u239c\u23aa  \u23aa                                                                         \n\u239c\u23aa  \u23aa                                 \u2502 2\u2502                                    \n\u239c\u23aa  \u23aa            a                    \u2502a \u2502                                    \n\u239c\u23aa  \u23a8      \u2500\u2500\u2500\u2500\u2500\u2500\u2500\u2500\u2500\u2500\u2500\u2500\u2500\u2500         for \u2502\u2500\u2500\u2502 &lt; 1                                \n\u239c\u23aa  \u23aa          \u239b   2    \u239e             \u2502 2\u2502                                    \n\u239c\u23aa  \u23aa          \u239c  a     \u239f             \u2502p \u2502                                    \n\u239c\u23aa  \u23aa      \u03c0\u22c5p\u22c5\u239c- \u2500\u2500 + 1\u239f                                                     \n\u239c\u23aa  \u23aa          \u239c   2    \u239f                                                     \n\u239c\u23aa  \u23aa          \u239d  p     \u23a0                                                     \n\u239c\u23aa  \u23aa                                                                         \n\u239c\u23aa  \u23aa        \u239b             \u2502  2\u239e                                              \n\u239c\u23aa  \u23aa\u256d\u2500\u256e2, 1 \u239c 1/2    0, 0 \u2502 p \u239f                                              \n\u239c\u23aa  \u23aa\u2502\u2576\u2510     \u239c             \u2502 \u2500\u2500\u239f   otherwise                                  \n\u239c\u23aa  \u23aa\u2570\u2500\u256f3, 3 \u239c0, 1/2   0   \u2502  2\u239f                                              \n\u239c\u23aa  \u23a9        \u239d             \u2502 a \u23a0                                              \n\u239c\u23aa\u2500\u2500\u2500\u2500\u2500\u2500\u2500\u2500\u2500\u2500\u2500\u2500\u2500\u2500\u2500\u2500\u2500\u2500\u2500\u2500\u2500\u2500\u2500\u2500\u2500\u2500\u2500\u2500\u2500\u2500\u2500\u2500\u2500\u2500\u2500\u2500\u2500\u2500\u2500\u2500\u2500\u2500\u2500\u2500   otherwise                    \n\u239d\u23a9                     a                                                      \n\n                                                                              \n                                                             \u2502                \neriodic_argument(polar_lift(a)**2, oo))/2)*sqrt(Abs(a**2))), \u2502periodic_argumen\n                                                                              \n                                                                              \n                                                                              \n                                                                              \n                                                                              \n                                                                              \n                                                                              \n                                                                              \n                                                                              \n                                                                              \n                                                                              \n                                                                              \n                                                                              \n                                                                              \n                                                                              \n                                                                              \n                                                                              \n                                                                              \n                                                                              \n                                                                              \n                                                                              \n                                                                              \n                                                                              \n                                                                              \n                                                                              \n                                                                              \n                                                                              \n                                                                              \n                                                                              \n                                                                              \n                                                                              \n                                                                              \n                                                                              \n                                                                              \n\n                             2    \u239e\n \u239b          2      \u239e\u2502       p     \u239f\nt\u239dpolar_lift (a), \u221e\u23a0\u2502 &lt; \u03c0 \u2227 \u2500\u2500 \u2260 1\u239f\n                             2    \u239f\n                            a     \u239f\n                                  \u239f\n                                  \u239f\n                                  \u239f\n                                  \u239f\n                                  \u239f\n                                  \u239f\n                                  \u239f\n                                  \u239f\n                                  \u239f\n                                  \u239f\n                                  \u239f\n                                  \u239f\n                                  \u239f\n                                  \u239f\n                                  \u239f\n                                  \u239f\n                                  \u239f\n                                  \u239f\n                                  \u239f\n                                  \u239f\n                                  \u239f\n                                  \u239f\n                                  \u239f\n                                  \u239f\n                                  \u239f\n                                  \u239f\n                                  \u239f\n                                  \u239f\n                                  \u239f\n                                  \u239f\n                                  \u239f\n                                  \u23a0"
      }
     ], 
     "prompt_number": 37
    }, 
    {
     "cell_type": "markdown", 
     "source": "21"
    }, 
    {
     "cell_type": "code", 
     "collapsed": false, 
     "input": "cos(a*t)**2", 
     "language": "python", 
     "outputs": [
      {
       "output_type": "pyout", 
       "png": "[encoded data removed]", 
       "prompt_number": 38, 
       "text": "\n   2     \ncos (a\u22c5t)"
      }
     ], 
     "prompt_number": 38
    }, 
    {
     "cell_type": "code", 
     "collapsed": false, 
     "input": "#laplace_transform(_, t, p)\n# Python exception", 
     "language": "python", 
     "outputs": [], 
     "prompt_number": 39
    }, 
    {
     "cell_type": "markdown", 
     "source": "22"
    }, 
    {
     "cell_type": "code", 
     "collapsed": false, 
     "input": "sin(a*t)**2", 
     "language": "python", 
     "outputs": [
      {
       "output_type": "pyout", 
       "png": "[encoded data removed]", 
       "prompt_number": 40, 
       "text": "\n   2     \nsin (a\u22c5t)"
      }
     ], 
     "prompt_number": 40
    }, 
    {
     "cell_type": "code", 
     "collapsed": false, 
     "input": "#laplace_transform(_, t, p)\n# Python exception", 
     "language": "python", 
     "outputs": [], 
     "prompt_number": 41
    }, 
    {
     "cell_type": "markdown", 
     "source": "23"
    }, 
    {
     "cell_type": "code", 
     "collapsed": false, 
     "input": "cosh(a*t)**2", 
     "language": "python", 
     "outputs": [
      {
       "output_type": "pyout", 
       "png": "[encoded data removed]", 
       "prompt_number": 42, 
       "text": "\n    2     \ncosh (a\u22c5t)"
      }
     ], 
     "prompt_number": 42
    }, 
    {
     "cell_type": "code", 
     "collapsed": false, 
     "input": "laplace_transform(_, t, p)", 
     "language": "python", 
     "outputs": [
      {
       "output_type": "pyout", 
       "prompt_number": 43, 
       "text": "(nan, -\u221e, True)"
      }
     ], 
     "prompt_number": 43
    }, 
    {
     "cell_type": "markdown", 
     "source": "24"
    }, 
    {
     "cell_type": "code", 
     "collapsed": false, 
     "input": "sinh(a*t)**2", 
     "language": "python", 
     "outputs": [
      {
       "output_type": "pyout", 
       "png": "[encoded data removed]", 
       "prompt_number": 44, 
       "text": "\n    2     \nsinh (a\u22c5t)"
      }
     ], 
     "prompt_number": 44
    }, 
    {
     "cell_type": "code", 
     "collapsed": false, 
     "input": "laplace_transform(_, t, p)", 
     "language": "python", 
     "outputs": [
      {
       "output_type": "pyout", 
       "prompt_number": 45, 
       "text": "(nan, -\u221e, True)"
      }
     ], 
     "prompt_number": 45
    }, 
    {
     "cell_type": "markdown", 
     "source": "25"
    }, 
    {
     "cell_type": "code", 
     "collapsed": false, 
     "input": "sin(a*t)*sinh(a*t)", 
     "language": "python", 
     "outputs": [
      {
       "output_type": "pyout", 
       "png": "[encoded data removed]", 
       "prompt_number": 46, 
       "text": "sin(a\u22c5t)\u22c5sinh(a\u22c5t)"
      }
     ], 
     "prompt_number": 46
    }, 
    {
     "cell_type": "code", 
     "collapsed": false, 
     "input": "#laplace_transform(_, t, p)\n# Python exception", 
     "language": "python", 
     "outputs": [], 
     "prompt_number": 47
    }, 
    {
     "cell_type": "markdown", 
     "source": "26"
    }, 
    {
     "cell_type": "code", 
     "collapsed": false, 
     "input": "sin(a*t)*cosh(a*t)", 
     "language": "python", 
     "outputs": [
      {
       "output_type": "pyout", 
       "png": "[encoded data removed]", 
       "prompt_number": 48, 
       "text": "sin(a\u22c5t)\u22c5cosh(a\u22c5t)"
      }
     ], 
     "prompt_number": 48
    }, 
    {
     "cell_type": "code", 
     "collapsed": false, 
     "input": "#laplace_transform(_, t, p)\n# Python exception", 
     "language": "python", 
     "outputs": [], 
     "prompt_number": 49
    }, 
    {
     "cell_type": "markdown", 
     "source": "27"
    }, 
    {
     "cell_type": "code", 
     "collapsed": false, 
     "input": "cos(a*t)*sinh(a*t)", 
     "language": "python", 
     "outputs": [
      {
       "output_type": "pyout", 
       "png": "[encoded data removed]", 
       "prompt_number": 50, 
       "text": "cos(a\u22c5t)\u22c5sinh(a\u22c5t)"
      }
     ], 
     "prompt_number": 50
    }, 
    {
     "cell_type": "code", 
     "collapsed": false, 
     "input": "#laplace_transform(_, t, p)\n# Python exception", 
     "language": "python", 
     "outputs": [], 
     "prompt_number": 51
    }, 
    {
     "cell_type": "markdown", 
     "source": "28"
    }, 
    {
     "cell_type": "code", 
     "collapsed": false, 
     "input": "cos(a*t)*cosh(a*t)", 
     "language": "python", 
     "outputs": [
      {
       "output_type": "pyout", 
       "png": "[encoded data removed]", 
       "prompt_number": 52, 
       "text": "cos(a\u22c5t)\u22c5cosh(a\u22c5t)"
      }
     ], 
     "prompt_number": 52
    }, 
    {
     "cell_type": "code", 
     "collapsed": false, 
     "input": "#laplace_transform(_, t, p)\n# Python exception", 
     "language": "python", 
     "outputs": [], 
     "prompt_number": 53
    }, 
    {
     "cell_type": "markdown", 
     "source": "29"
    }, 
    {
     "cell_type": "code", 
     "collapsed": false, 
     "input": "t/2*sin(a*t)", 
     "language": "python", 
     "outputs": [
      {
       "output_type": "pyout", 
       "png": "[encoded data removed]", 
       "prompt_number": 54, 
       "text": "\nt\u22c5sin(a\u22c5t)\n\u2500\u2500\u2500\u2500\u2500\u2500\u2500\u2500\u2500\u2500\n    2     "
      }
     ], 
     "prompt_number": 54
    }, 
    {
     "cell_type": "code", 
     "collapsed": false, 
     "input": "laplace_transform(_, t, p)", 
     "language": "python", 
     "outputs": [
      {
       "output_type": "pyout", 
       "prompt_number": 55, 
       "text": "\n\u239b     a           \u2502                 \u239b          2      \u239e\u2502    \u239e\n\u239c\u2500\u2500\u2500\u2500\u2500\u2500\u2500\u2500\u2500\u2500\u2500\u2500, 0, \u2502periodic_argument\u239dpolar_lift (a), \u221e\u23a0\u2502 = 0\u239f\n\u239c           2                                               \u239f\n\u239c   \u239b 2    \u239e                                                \u239f\n\u239c 3 \u239ca     \u239f                                                \u239f\n\u239cp \u22c5\u239c\u2500\u2500 + 1\u239f                                                \u239f\n\u239c   \u239c 2    \u239f                                                \u239f\n\u239d   \u239dp     \u23a0                                                \u23a0"
      }
     ], 
     "prompt_number": 55
    }, 
    {
     "cell_type": "code", 
     "collapsed": false, 
     "input": "ratsimp(_[0])", 
     "language": "python", 
     "outputs": [
      {
       "output_type": "pyout", 
       "png": "[encoded data removed]", 
       "prompt_number": 56, 
       "text": "\n       a\u22c5p       \n\u2500\u2500\u2500\u2500\u2500\u2500\u2500\u2500\u2500\u2500\u2500\u2500\u2500\u2500\u2500\u2500\u2500\n 4      2  2    4\na  + 2\u22c5a \u22c5p  + p "
      }
     ], 
     "prompt_number": 56
    }, 
    {
     "cell_type": "code", 
     "collapsed": false, 
     "input": "#inverse_laplace_transform(_, p, t)\n# ValueError: too many values to unpack", 
     "language": "python", 
     "outputs": [], 
     "prompt_number": 57
    }, 
    {
     "cell_type": "markdown", 
     "source": "30"
    }, 
    {
     "cell_type": "code", 
     "collapsed": false, 
     "input": "t/2*sinh(a*t)", 
     "language": "python", 
     "outputs": [
      {
       "output_type": "pyout", 
       "png": "[encoded data removed]", 
       "prompt_number": 58, 
       "text": "\nt\u22c5sinh(a\u22c5t)\n\u2500\u2500\u2500\u2500\u2500\u2500\u2500\u2500\u2500\u2500\u2500\n     2     "
      }
     ], 
     "prompt_number": 58
    }, 
    {
     "cell_type": "code", 
     "collapsed": false, 
     "input": "laplace_transform(_, t, p)", 
     "language": "python", 
     "outputs": [
      {
       "output_type": "pyout", 
       "prompt_number": 59, 
       "text": "(nan, -\u221e, True)"
      }
     ], 
     "prompt_number": 59
    }, 
    {
     "cell_type": "markdown", 
     "source": "33"
    }, 
    {
     "cell_type": "code", 
     "collapsed": false, 
     "input": "1/sqrt(pi*t)", 
     "language": "python", 
     "outputs": [
      {
       "output_type": "pyout", 
       "png": "[encoded data removed]", 
       "prompt_number": 60, 
       "text": "\n     1     \n\u2500\u2500\u2500\u2500\u2500\u2500\u2500\u2500\u2500\u2500\u2500\n  ___   ___\n\u2572\u2571 \u03c0 \u22c5\u2572\u2571 t "
      }
     ], 
     "prompt_number": 60
    }, 
    {
     "cell_type": "code", 
     "collapsed": false, 
     "input": "laplace_transform(_, t, p)", 
     "language": "python", 
     "outputs": [
      {
       "output_type": "pyout", 
       "prompt_number": 61, 
       "text": "\n\u239b  1           \u239e\n\u239c\u2500\u2500\u2500\u2500\u2500, 0, True\u239f\n\u239c  ___         \u239f\n\u239d\u2572\u2571 p          \u23a0"
      }
     ], 
     "prompt_number": 61
    }, 
    {
     "cell_type": "code", 
     "collapsed": false, 
     "input": "inverse_laplace_transform(_[0], p, t)", 
     "language": "python", 
     "outputs": [
      {
       "output_type": "pyout", 
       "png": "[encoded data removed]", 
       "prompt_number": 62, 
       "text": "\n                       \u239b  1              \u239e\nInverseLaplaceTransform\u239c\u2500\u2500\u2500\u2500\u2500, p, t, None\u239f\n                       \u239c  ___            \u239f\n                       \u239d\u2572\u2571 p             \u23a0"
      }
     ], 
     "prompt_number": 62
    }, 
    {
     "cell_type": "markdown", 
     "source": "34"
    }, 
    {
     "cell_type": "code", 
     "collapsed": false, 
     "input": "2*sqrt(t/pi)", 
     "language": "python", 
     "outputs": [
      {
       "output_type": "pyout", 
       "png": "[encoded data removed]", 
       "prompt_number": 63, 
       "text": "\n    ___\n2\u22c5\u2572\u2571 t \n\u2500\u2500\u2500\u2500\u2500\u2500\u2500\n   ___ \n \u2572\u2571 \u03c0  "
      }
     ], 
     "prompt_number": 63
    }, 
    {
     "cell_type": "code", 
     "collapsed": false, 
     "input": "laplace_transform(_, t, p)", 
     "language": "python", 
     "outputs": [
      {
       "output_type": "pyout", 
       "prompt_number": 64, 
       "text": "\n\u239b 1           \u239e\n\u239c\u2500\u2500\u2500\u2500, 0, True\u239f\n\u239c 3/2         \u239f\n\u239dp            \u23a0"
      }
     ], 
     "prompt_number": 64
    }, 
    {
     "cell_type": "code", 
     "collapsed": false, 
     "input": "inverse_laplace_transform(_[0], p, t)", 
     "language": "python", 
     "outputs": [
      {
       "output_type": "pyout", 
       "png": "[encoded data removed]", 
       "prompt_number": 65, 
       "text": "\n    ___             \n2\u22c5\u2572\u2571 t \u22c5Heaviside(t)\n\u2500\u2500\u2500\u2500\u2500\u2500\u2500\u2500\u2500\u2500\u2500\u2500\u2500\u2500\u2500\u2500\u2500\u2500\u2500\u2500\n         ___        \n       \u2572\u2571 \u03c0         "
      }
     ], 
     "prompt_number": 65
    }, 
    {
     "cell_type": "markdown", 
     "source": "35"
    }, 
    {
     "cell_type": "code", 
     "collapsed": false, 
     "input": "factorial(n)/factorial(2*n)*4**n/sqrt(pi)*t**(n-S(1)/2)", 
     "language": "python", 
     "outputs": [
      {
       "output_type": "pyout", 
       "png": "[encoded data removed]", 
       "prompt_number": 66, 
       "text": "\n n  n - 1/2   \n4 \u22c5t       \u22c5n!\n\u2500\u2500\u2500\u2500\u2500\u2500\u2500\u2500\u2500\u2500\u2500\u2500\u2500\u2500\n   ___        \n \u2572\u2571 \u03c0 \u22c5(2\u22c5n)! "
      }
     ], 
     "prompt_number": 66
    }, 
    {
     "cell_type": "code", 
     "collapsed": false, 
     "input": "laplace_transform(_, t, p)", 
     "language": "python", 
     "outputs": [
      {
       "output_type": "pyout", 
       "prompt_number": 67, 
       "text": "\n\u239b n  -n - 1/2                               \u239e\n\u239c4 \u22c5p        \u22c5n!\u22c5(n - 1/2)!                 \u239f\n\u239c\u2500\u2500\u2500\u2500\u2500\u2500\u2500\u2500\u2500\u2500\u2500\u2500\u2500\u2500\u2500\u2500\u2500\u2500\u2500\u2500\u2500\u2500\u2500\u2500\u2500\u2500, 0, -n + 1/2 &lt; 1\u239f\n\u239c         ___                               \u239f\n\u239d       \u2572\u2571 \u03c0 \u22c5(2\u22c5n)!                        \u23a0"
      }
     ], 
     "prompt_number": 67
    }, 
    {
     "cell_type": "code", 
     "collapsed": false, 
     "input": "simplify(_[0])", 
     "language": "python", 
     "outputs": [
      {
       "output_type": "pyout", 
       "png": "[encoded data removed]", 
       "prompt_number": 68, 
       "text": "\n n  -n - 1/2              \n4 \u22c5p        \u22c5n!\u22c5(n - 1/2)!\n\u2500\u2500\u2500\u2500\u2500\u2500\u2500\u2500\u2500\u2500\u2500\u2500\u2500\u2500\u2500\u2500\u2500\u2500\u2500\u2500\u2500\u2500\u2500\u2500\u2500\u2500\n         ___              \n       \u2572\u2571 \u03c0 \u22c5(2\u22c5n)!       "
      }
     ], 
     "prompt_number": 68
    }, 
    {
     "cell_type": "code", 
     "collapsed": false, 
     "input": "combsimp(_)", 
     "language": "python", 
     "outputs": [
      {
       "output_type": "pyout", 
       "png": "[encoded data removed]", 
       "prompt_number": 69, 
       "text": "\n n  -n - 1/2              \n4 \u22c5p        \u22c5n!\u22c5(n - 1/2)!\n\u2500\u2500\u2500\u2500\u2500\u2500\u2500\u2500\u2500\u2500\u2500\u2500\u2500\u2500\u2500\u2500\u2500\u2500\u2500\u2500\u2500\u2500\u2500\u2500\u2500\u2500\n         ___              \n       \u2572\u2571 \u03c0 \u22c5(2\u22c5n)!       "
      }
     ], 
     "prompt_number": 69
    }, 
    {
     "cell_type": "code", 
     "collapsed": false, 
     "input": "inverse_laplace_transform(_, p, t)", 
     "language": "python", 
     "outputs": [
      {
       "output_type": "pyout", 
       "png": "[encoded data removed]", 
       "prompt_number": 70, 
       "text": "\n n  n - 1/2                \n4 \u22c5t       \u22c5Heaviside(t)\u22c5n!\n\u2500\u2500\u2500\u2500\u2500\u2500\u2500\u2500\u2500\u2500\u2500\u2500\u2500\u2500\u2500\u2500\u2500\u2500\u2500\u2500\u2500\u2500\u2500\u2500\u2500\u2500\u2500\n          ___              \n        \u2572\u2571 \u03c0 \u22c5(2\u22c5n)!       "
      }
     ], 
     "prompt_number": 70
    }, 
    {
     "cell_type": "markdown", 
     "source": "36"
    }, 
    {
     "cell_type": "code", 
     "collapsed": false, 
     "input": "1/sqrt(pi*t)*exp(-a*t)", 
     "language": "python", 
     "outputs": [
      {
       "output_type": "pyout", 
       "png": "[encoded data removed]", 
       "prompt_number": 71, 
       "text": "\n    -a\u22c5t   \n   \u212f       \n\u2500\u2500\u2500\u2500\u2500\u2500\u2500\u2500\u2500\u2500\u2500\n  ___   ___\n\u2572\u2571 \u03c0 \u22c5\u2572\u2571 t "
      }
     ], 
     "prompt_number": 71
    }, 
    {
     "cell_type": "code", 
     "collapsed": false, 
     "input": "laplace_transform(_, t, p)", 
     "language": "python", 
     "outputs": [
      {
       "output_type": "pyout", 
       "prompt_number": 72, 
       "text": "\n\u239b        1                                         \u03c0\u239e\n\u239c\u2500\u2500\u2500\u2500\u2500\u2500\u2500\u2500\u2500\u2500\u2500\u2500\u2500\u2500\u2500\u2500\u2500, 0, \u2502periodic_argument(a, \u221e)\u2502 &lt; \u2500\u239f\n\u239c          _______                                 2\u239f\n\u239c  ___    \u2571 a + p                                   \u239f\n\u239c\u2572\u2571 a \u22c5  \u2571  \u2500\u2500\u2500\u2500\u2500                                   \u239f\n\u239d      \u2572\u2571     a                                     \u23a0"
      }
     ], 
     "prompt_number": 72
    }, 
    {
     "cell_type": "code", 
     "collapsed": false, 
     "input": "#radsimp(_[0])\n# Takes forever", 
     "language": "python", 
     "outputs": [], 
     "prompt_number": 73
    }, 
    {
     "cell_type": "code", 
     "collapsed": false, 
     "input": "inverse_laplace_transform(_[0], p, t) ", 
     "language": "python", 
     "outputs": [
      {
       "output_type": "pyout", 
       "png": "[encoded data removed]", 
       "prompt_number": 74, 
       "text": "\n                       \u239b     1                 \u239e\nInverseLaplaceTransform\u239c\u2500\u2500\u2500\u2500\u2500\u2500\u2500\u2500\u2500\u2500\u2500, p, t, None\u239f\n                       \u239c    _______            \u239f\n                       \u239c   \u2571     p             \u239f\n                       \u239c  \u2571  1 + \u2500             \u239f\n                       \u239d\u2572\u2571       a             \u23a0\n\u2500\u2500\u2500\u2500\u2500\u2500\u2500\u2500\u2500\u2500\u2500\u2500\u2500\u2500\u2500\u2500\u2500\u2500\u2500\u2500\u2500\u2500\u2500\u2500\u2500\u2500\u2500\u2500\u2500\u2500\u2500\u2500\u2500\u2500\u2500\u2500\u2500\u2500\u2500\u2500\u2500\u2500\u2500\u2500\u2500\u2500\u2500\u2500\n                       ___                      \n                     \u2572\u2571 a                       "
      }
     ], 
     "prompt_number": 74
    }, 
    {
     "cell_type": "markdown", 
     "source": "46"
    }, 
    {
     "cell_type": "code", 
     "collapsed": false, 
     "input": "besselj(0, a*t)", 
     "language": "python", 
     "outputs": [
      {
       "output_type": "pyout", 
       "png": "[encoded data removed]", 
       "prompt_number": 75, 
       "text": "besselj(0, a\u22c5t)"
      }
     ], 
     "prompt_number": 75
    }, 
    {
     "cell_type": "code", 
     "collapsed": false, 
     "input": "laplace_transform(_, t, p)", 
     "language": "python", 
     "outputs": [
      {
       "output_type": "pyout", 
       "prompt_number": 76, 
       "text": "\n\u239b       1             \u2502                 \u239b          2      \u239e\u2502    \u239e\n\u239c\u2500\u2500\u2500\u2500\u2500\u2500\u2500\u2500\u2500\u2500\u2500\u2500\u2500\u2500\u2500\u2500, 0, \u2502periodic_argument\u239dpolar_lift (a), \u221e\u23a0\u2502 = 0\u239f\n\u239c        ________                                               \u239f\n\u239c       \u2571      2                                                \u239f\n\u239c      \u2571      p                                                 \u239f\n\u239ca\u22c5   \u2571   1 + \u2500\u2500                                                \u239f\n\u239c    \u2571         2                                                \u239f\n\u239d  \u2572\u2571         a                                                 \u23a0"
      }
     ], 
     "prompt_number": 76
    }, 
    {
     "cell_type": "code", 
     "collapsed": false, 
     "input": "simplify(_[0])", 
     "language": "python", 
     "outputs": [
      {
       "output_type": "pyout", 
       "png": "[encoded data removed]", 
       "prompt_number": 77, 
       "text": "\n       1        \n\u2500\u2500\u2500\u2500\u2500\u2500\u2500\u2500\u2500\u2500\u2500\u2500\u2500\u2500\u2500\u2500\n        ________\n       \u2571      2 \n      \u2571      p  \na\u22c5   \u2571   1 + \u2500\u2500 \n    \u2571         2 \n  \u2572\u2571         a  "
      }
     ], 
     "prompt_number": 77
    }, 
    {
     "cell_type": "code", 
     "collapsed": false, 
     "input": "inverse_laplace_transform(_, p, t)", 
     "language": "python", 
     "outputs": [
      {
       "output_type": "pyout", 
       "png": "[encoded data removed]", 
       "prompt_number": 78, 
       "text": "Heaviside(t)\u22c5besselj(0, a\u22c5t)"
      }
     ], 
     "prompt_number": 78
    }, 
    {
     "cell_type": "markdown", 
     "source": "47"
    }, 
    {
     "cell_type": "code", 
     "collapsed": false, 
     "input": "besseli(0, a*t)", 
     "language": "python", 
     "outputs": [
      {
       "output_type": "pyout", 
       "png": "[encoded data removed]", 
       "prompt_number": 79, 
       "text": "besseli(0, a\u22c5t)"
      }
     ], 
     "prompt_number": 79
    }, 
    {
     "cell_type": "code", 
     "collapsed": false, 
     "input": "laplace_transform(_, t, p)", 
     "language": "python", 
     "outputs": [
      {
       "output_type": "pyout", 
       "prompt_number": 80, 
       "text": "\n\u239b\u23a7                                         \u2502 2\u2502                               \n\u239c\u23aa                                         \u2502p \u2502                               \n\u239c\u23aa                 0                   for \u2502\u2500\u2500\u2502 &lt; 1, Max(0, cos(Abs(periodic_a\n\u239c\u23aa                                         \u2502 2\u2502                               \n\u239c\u23aa                                         \u2502a \u2502                               \n\u239c\u23aa                                                                            \n\u239c\u23aa                                         \u2502 2\u2502                               \n\u239c\u23aa                1                        \u2502a \u2502                               \n\u239c\u23aa        \u2500\u2500\u2500\u2500\u2500\u2500\u2500\u2500\u2500\u2500\u2500\u2500\u2500\u2500\u2500\u2500\u2500\u2500           for \u2502\u2500\u2500\u2502 &lt; 1                           \n\u239c\u23aa                __________               \u2502 2\u2502                               \n\u239c\u23aa               \u2571    2                    \u2502p \u2502                               \n\u239c\u23a8              \u2571    a                                                        \n\u239c\u23aa        p\u22c5   \u2571   - \u2500\u2500 + 1                                                   \n\u239c\u23aa            \u2571       2                                                       \n\u239c\u23aa          \u2572\u2571       p                                                        \n\u239c\u23aa                                                                            \n\u239c\u23aa              \u239b               \u2502  2\u239e                                         \n\u239c\u23aa  ___ \u256d\u2500\u256e2, 1 \u239c 1/2    1/2, 0 \u2502 p \u239f                                         \n\u239c\u23aa\u2572\u2571 \u03c0 \u22c5\u2502\u2576\u2510     \u239c               \u2502 \u2500\u2500\u239f                                         \n\u239c\u23aa      \u2570\u2500\u256f3, 3 \u239c0, 1/2    0    \u2502  2\u239f                                         \n\u239c\u23aa              \u239d               \u2502 a \u23a0                                         \n\u239c\u23aa\u2500\u2500\u2500\u2500\u2500\u2500\u2500\u2500\u2500\u2500\u2500\u2500\u2500\u2500\u2500\u2500\u2500\u2500\u2500\u2500\u2500\u2500\u2500\u2500\u2500\u2500\u2500\u2500\u2500\u2500\u2500\u2500\u2500\u2500\u2500   otherwise                             \n\u239d\u23a9                 a                                                          \n\n                                                                              \n                                                    \u2502                 \u239b       \nrgument(polar_lift(a)**2, oo))/2)*sqrt(Abs(a**2))), \u2502periodic_argument\u239dpolar_l\n                                                                              \n                                                                              \n                                                                              \n                                                                              \n                                                                              \n                                                                              \n                                                                              \n                                                                              \n                                                                              \n                                                                              \n                                                                              \n                                                                              \n                                                                              \n                                                                              \n                                                                              \n                                                                              \n                                                                              \n                                                                              \n                                                                              \n                                                                              \n\n                    2    \u239e\n   2      \u239e\u2502       p     \u239f\nift (a), \u221e\u23a0\u2502 &lt; \u03c0 \u2227 \u2500\u2500 \u2260 1\u239f\n                    2    \u239f\n                   a     \u239f\n                         \u239f\n                         \u239f\n                         \u239f\n                         \u239f\n                         \u239f\n                         \u239f\n                         \u239f\n                         \u239f\n                         \u239f\n                         \u239f\n                         \u239f\n                         \u239f\n                         \u239f\n                         \u239f\n                         \u239f\n                         \u239f\n                         \u239f\n                         \u23a0"
      }
     ], 
     "prompt_number": 80
    }, 
    {
     "cell_type": "markdown", 
     "source": "54"
    }, 
    {
     "cell_type": "code", 
     "collapsed": false, 
     "input": "-EulerGamma-log(t)", 
     "language": "python", 
     "outputs": [
      {
       "output_type": "pyout", 
       "png": "[encoded data removed]", 
       "prompt_number": 81, 
       "text": "-log(t) - EulerGamma"
      }
     ], 
     "prompt_number": 81
    }, 
    {
     "cell_type": "code", 
     "collapsed": false, 
     "input": "laplace_transform(_, t, p)", 
     "language": "python", 
     "outputs": [
      {
       "output_type": "pyout", 
       "prompt_number": 82, 
       "text": "\n\u239blog(p)         \u239e\n\u239c\u2500\u2500\u2500\u2500\u2500\u2500, 0, True\u239f\n\u239d  p            \u23a0"
      }
     ], 
     "prompt_number": 82
    }, 
    {
     "cell_type": "code", 
     "collapsed": false, 
     "input": "inverse_laplace_transform(_[0], p, t)", 
     "language": "python", 
     "outputs": [
      {
       "output_type": "pyout", 
       "png": "[encoded data removed]", 
       "prompt_number": 83, 
       "text": "(-log(t) - EulerGamma)\u22c5Heaviside(t)"
      }
     ], 
     "prompt_number": 83
    }, 
    {
     "cell_type": "markdown", 
     "source": "56"
    }, 
    {
     "cell_type": "code", 
     "collapsed": false, 
     "input": "(log(t)+EulerGamma)**2-pi**2/6", 
     "language": "python", 
     "outputs": [
      {
       "output_type": "pyout", 
       "png": "[encoded data removed]", 
       "prompt_number": 84, 
       "text": "\n                          2\n                     2   \u03c0 \n(log(t) + EulerGamma)  - \u2500\u2500\n                         6 "
      }
     ], 
     "prompt_number": 84
    }, 
    {
     "cell_type": "code", 
     "collapsed": false, 
     "input": "laplace_transform(_, t, p)", 
     "language": "python", 
     "outputs": [
      {
       "output_type": "pyout", 
       "prompt_number": 85, 
       "text": "\n\u239b   2            \u239e\n\u239clog (p)         \u239f\n\u239c\u2500\u2500\u2500\u2500\u2500\u2500\u2500, 0, True\u239f\n\u239d   p            \u23a0"
      }
     ], 
     "prompt_number": 85
    }, 
    {
     "cell_type": "code", 
     "collapsed": false, 
     "input": "inverse_laplace_transform(_[0], p, t)", 
     "language": "python", 
     "outputs": [
      {
       "output_type": "pyout", 
       "png": "[encoded data removed]", 
       "prompt_number": 86, 
       "text": "\n\u239b     2                              2               2\u239e             \n\u239d6\u22c5log (t) + 12\u22c5EulerGamma\u22c5log(t) - \u03c0  + 6\u22c5EulerGamma \u23a0\u22c5Heaviside(t)\n\u2500\u2500\u2500\u2500\u2500\u2500\u2500\u2500\u2500\u2500\u2500\u2500\u2500\u2500\u2500\u2500\u2500\u2500\u2500\u2500\u2500\u2500\u2500\u2500\u2500\u2500\u2500\u2500\u2500\u2500\u2500\u2500\u2500\u2500\u2500\u2500\u2500\u2500\u2500\u2500\u2500\u2500\u2500\u2500\u2500\u2500\u2500\u2500\u2500\u2500\u2500\u2500\u2500\u2500\u2500\u2500\u2500\u2500\u2500\u2500\u2500\u2500\u2500\u2500\u2500\u2500\u2500\u2500\n                                 6                                  "
      }
     ], 
     "prompt_number": 86
    }, 
    {
     "cell_type": "code", 
     "collapsed": false, 
     "input": "logcombine(_)", 
     "language": "python", 
     "outputs": [
      {
       "output_type": "pyout", 
       "png": "[encoded data removed]", 
       "prompt_number": 87, 
       "text": "\n                                                           2                  \n   2                                                      \u03c0 \u22c5Heaviside(t)     \nlog (t)\u22c5Heaviside(t) + 2\u22c5EulerGamma\u22c5log(t)\u22c5Heaviside(t) - \u2500\u2500\u2500\u2500\u2500\u2500\u2500\u2500\u2500\u2500\u2500\u2500\u2500\u2500\u2500 + Eu\n                                                                 6            \n\n                      \n        2             \nlerGamma \u22c5Heaviside(t)\n                      "
      }
     ], 
     "prompt_number": 87
    }, 
    {
     "cell_type": "markdown", 
     "source": "63"
    }, 
    {
     "cell_type": "code", 
     "collapsed": false, 
     "input": "t**n*besselj(n, a*t)", 
     "language": "python", 
     "outputs": [
      {
       "output_type": "pyout", 
       "png": "[encoded data removed]", 
       "prompt_number": 88, 
       "text": "\n n                \nt \u22c5besselj(n, a\u22c5t)"
      }
     ], 
     "prompt_number": 88
    }, 
    {
     "cell_type": "code", 
     "collapsed": false, 
     "input": "laplace_transform(_, t, p)", 
     "language": "python", 
     "outputs": [
      {
       "output_type": "pyout", 
       "prompt_number": 89, 
       "text": "\n\u239b                   -n - 1/2                                                  \n\u239c           \u239b     2\u239e                                                          \n\u239c n  -n - 1 \u239c    p \u239f                                                          \n\u239c2 \u22c5a      \u22c5\u239c1 + \u2500\u2500\u239f        \u22c5\u0393(n + 1/2)                                       \n\u239c           \u239c     2\u239f                                                          \n\u239c           \u239d    a \u23a0                                    \u2502                 \u239b   \n\u239c\u2500\u2500\u2500\u2500\u2500\u2500\u2500\u2500\u2500\u2500\u2500\u2500\u2500\u2500\u2500\u2500\u2500\u2500\u2500\u2500\u2500\u2500\u2500\u2500\u2500\u2500\u2500\u2500\u2500\u2500\u2500\u2500\u2500\u2500\u2500\u2500\u2500\u2500, 0, 0 &lt; n + 1 \u2227 \u2502periodic_argument\u239dpol\n\u239c                  ___                                                        \n\u239d                \u2572\u2571 \u03c0                                                         \n\n                                  \u239e\n                                  \u239f\n                                  \u239f\n                                  \u239f\n                                  \u239f\n       2      \u239e\u2502                  \u239f\nar_lift (a), \u221e\u23a0\u2502 = 0 \u2227 0 &lt; n + 1/2\u239f\n                                  \u239f\n                                  \u23a0"
      }
     ], 
     "prompt_number": 89
    }, 
    {
     "cell_type": "code", 
     "collapsed": false, 
     "input": "simplify(_[0])", 
     "language": "python", 
     "outputs": [
      {
       "output_type": "pyout", 
       "png": "[encoded data removed]", 
       "prompt_number": 90, 
       "text": "\n                   -n - 1/2           \n           \u239b     2\u239e                   \n n  -n - 1 \u239c    p \u239f                   \n2 \u22c5a      \u22c5\u239c1 + \u2500\u2500\u239f        \u22c5\u0393(n + 1/2)\n           \u239c     2\u239f                   \n           \u239d    a \u23a0                   \n\u2500\u2500\u2500\u2500\u2500\u2500\u2500\u2500\u2500\u2500\u2500\u2500\u2500\u2500\u2500\u2500\u2500\u2500\u2500\u2500\u2500\u2500\u2500\u2500\u2500\u2500\u2500\u2500\u2500\u2500\u2500\u2500\u2500\u2500\u2500\u2500\u2500\u2500\n                  ___                 \n                \u2572\u2571 \u03c0                  "
      }
     ], 
     "prompt_number": 90
    }, 
    {
     "cell_type": "code", 
     "collapsed": false, 
     "input": "inverse_laplace_transform(_, p, t)", 
     "language": "python", 
     "outputs": [
      {
       "output_type": "pyout", 
       "png": "[encoded data removed]", 
       "prompt_number": 91, 
       "text": "\n                                  \u239b        -n - 1/2            \u239e           \n                                  \u239c\u239b     2\u239e                    \u239f           \n n  -n - 1                        \u239c\u239c    p \u239f                    \u239f           \n2 \u22c5a      \u22c5InverseLaplaceTransform\u239c\u239c1 + \u2500\u2500\u239f        , p, t, None\u239f\u22c5\u0393(n + 1/2)\n                                  \u239c\u239c     2\u239f                    \u239f           \n                                  \u239d\u239d    a \u23a0                    \u23a0           \n\u2500\u2500\u2500\u2500\u2500\u2500\u2500\u2500\u2500\u2500\u2500\u2500\u2500\u2500\u2500\u2500\u2500\u2500\u2500\u2500\u2500\u2500\u2500\u2500\u2500\u2500\u2500\u2500\u2500\u2500\u2500\u2500\u2500\u2500\u2500\u2500\u2500\u2500\u2500\u2500\u2500\u2500\u2500\u2500\u2500\u2500\u2500\u2500\u2500\u2500\u2500\u2500\u2500\u2500\u2500\u2500\u2500\u2500\u2500\u2500\u2500\u2500\u2500\u2500\u2500\u2500\u2500\u2500\u2500\u2500\u2500\u2500\u2500\u2500\u2500\n                                     ___                                   \n                                   \u2572\u2571 \u03c0                                    "
      }
     ], 
     "prompt_number": 91
    }, 
    {
     "cell_type": "markdown", 
     "source": "64"
    }, 
    {
     "cell_type": "code", 
     "collapsed": false, 
     "input": "a**n*besseli(n, a*t)", 
     "language": "python", 
     "outputs": [
      {
       "output_type": "pyout", 
       "png": "[encoded data removed]", 
       "prompt_number": 92, 
       "text": "\n n                \na \u22c5besseli(n, a\u22c5t)"
      }
     ], 
     "prompt_number": 92
    }, 
    {
     "cell_type": "code", 
     "collapsed": false, 
     "input": "laplace_transform(_, t, p)", 
     "language": "python", 
     "outputs": [
      {
       "output_type": "pyout", 
       "prompt_number": 93, 
       "text": "\n\u239b\u23a7             \u239b                                                              \n\u239c\u23aa             \u239c                                                              \n\u239c\u23aa             \u239c                                                              \n\u239c\u23aa             \u239c                                                              \n\u239c\u23aa             \u239c                                                              \n\u239c\u23aa             \u239c                                                              \n\u239c\u23aa             \u239c                                                              \n\u239c\u23aa             \u239c                                                              \n\u239c\u23aa             \u239c                                                              \n\u239c\u23aa             \u239c                                                              \n\u239c\u23aa             \u239c                                                              \n\u239c\u23aa             \u239c                                                              \n\u239c\u23aa             \u239c                                                              \n\u239c\u23aa             \u239c                                                              \n\u239c\u23aa             \u239c      \u239b                            \u239b            \u239bp\u239e\u239e\u239e         \n\u239c\u23aa             \u239c      \u239c                       p\u22c5sin\u239c(n - 1)\u22c5asin\u239c\u2500\u239f\u239f\u239f         \n\u239c\u23aa             \u239c  ___ \u239c   \u239b            \u239bp\u239e\u239e        \u239d            \u239da\u23a0\u23a0\u239f       __\n\u239c\u23aa             \u239c\u2572\u2571 \u03c0 \u22c5\u239ccos\u239c(n - 1)\u22c5asin\u239c\u2500\u239f\u239f - \u2500\u2500\u2500\u2500\u2500\u2500\u2500\u2500\u2500\u2500\u2500\u2500\u2500\u2500\u2500\u2500\u2500\u2500\u2500\u2500\u2500\u2500\u239f   2\u22c5\u2572\u2571 \u03c0\n\u239c\u23aa             \u239c      \u239c   \u239d            \u239da\u23a0\u23a0              ________   \u239f         \n\u239c\u23aa             \u239c      \u239c                                 \u2571      2    \u239f         \n\u239c\u23aa             \u239c      \u239c                                \u2571      p     \u239f         \n\u239c\u23aa             \u239c      \u239c                          a\u22c5   \u2571   1 - \u2500\u2500    \u239f         \n\u239c\u23aa             \u239c      \u239c                              \u2571         2    \u239f         \n\u239c\u23aa  ___  n + 1 \u239c      \u239d                            \u2572\u2571         a     \u23a0         \n\u239c\u23aa\u2572\u2571 \u03c0 \u22c5a     \u22c5\u239c\u2500\u2500\u2500\u2500\u2500\u2500\u2500\u2500\u2500\u2500\u2500\u2500\u2500\u2500\u2500\u2500\u2500\u2500\u2500\u2500\u2500\u2500\u2500\u2500\u2500\u2500\u2500\u2500\u2500\u2500\u2500\u2500\u2500\u2500\u2500\u2500\u2500\u2500\u2500\u2500\u2500\u2500\u2500\u2500\u2500\u2500\u2500\u2500\u2500\u2500\u2500\u2500\u2500 - \u2500\u2500\u2500\u2500\u2500\u2500\n\u239c\u23aa             \u239c                     \u239b-n\u239e  \u239bn    \u239e                            \n\u239c\u23aa             \u239c                    \u0393\u239c\u2500\u2500\u239f\u22c5\u0393\u239c\u2500 + 1\u239f                            \n\u239c\u23aa             \u239d                     \u239d2 \u23a0  \u239d2    \u23a0                            \n\u239c\u23aa\u2500\u2500\u2500\u2500\u2500\u2500\u2500\u2500\u2500\u2500\u2500\u2500\u2500\u2500\u2500\u2500\u2500\u2500\u2500\u2500\u2500\u2500\u2500\u2500\u2500\u2500\u2500\u2500\u2500\u2500\u2500\u2500\u2500\u2500\u2500\u2500\u2500\u2500\u2500\u2500\u2500\u2500\u2500\u2500\u2500\u2500\u2500\u2500\u2500\u2500\u2500\u2500\u2500\u2500\u2500\u2500\u2500\u2500\u2500\u2500\u2500\u2500\u2500\u2500\u2500\u2500\u2500\u2500\u2500\u2500\u2500\u2500\u2500\u2500\u2500\u2500\n\u239c\u23a8                                                                            \n\u239c\u23aa                                                                            \n\u239c\u23aa                                                                            \n\u239c\u23aa                                                                            \n\u239c\u23aa                                                                            \n\u239c\u23aa                                                                            \n\u239c\u23aa                                                                            \n\u239c\u23aa                                                                            \n\u239c\u23aa                                                                            \n\u239c\u23aa                                                                            \n\u239c\u23aa                                                                            \n\u239c\u23aa                                                                            \n\u239c\u23aa                                                                            \n\u239c\u23aa                                                                            \n\u239c\u23aa                                                                            \n\u239c\u23aa                                                                            \n\u239c\u23aa                                                                            \n\u239c\u23aa                                                                            \n\u239c\u23aa                                                                            \n\u239c\u23aa                                                                            \n\u239c\u23aa                                                                            \n\u239c\u23aa                                                                            \n\u239c\u23aa                                                                            \n\u239c\u23aa                                                                            \n\u239c\u23aa                                                                            \n\u239c\u23aa                                                                            \n\u239c\u23aa                                                                            \n\u239c\u23aa                                                                            \n\u239c\u23aa                                                                            \n\u239d\u23a9                                                                            \n\n    \u239b                                                                         \n    \u239c                                                                         \n    \u239c                                                                         \n    \u239c                                                                         \n    \u239c                                                                         \n    \u239c                                                                         \n    \u239c                                                                         \n    \u239c                                                                         \n    \u239c                                                                         \n    \u239c\u239b                                                              \u239b         \n    \u239c\u239c                                                              \u239c      2\u22c5p\n    \u239c\u239c                                                            3\u22c5\u239c1 + \u2500\u2500\u2500\u2500\u2500\n    \u239c\u239c\u239b        2\u239e \u239b 2 \u239b     2          \u239e    4 \u239b   2          \u239e\u239e     \u239c         \n    \u239c\u239c\u239c     2\u22c5p \u239f \u239cp \u22c5\u239d- 2\u22c5n  + 3\u22c5n + 2\u23a0   p \u22c5\u239d2\u22c5n  - 6\u22c5n + 4\u23a0\u239f     \u239c     2   \n    \u239c\u239c\u239c-2 + \u2500\u2500\u2500\u2500\u239f\u22c5\u239c\u2500\u2500\u2500\u2500\u2500\u2500\u2500\u2500\u2500\u2500\u2500\u2500\u2500\u2500\u2500\u2500\u2500\u2500\u2500\u2500\u2500 + \u2500\u2500\u2500\u2500\u2500\u2500\u2500\u2500\u2500\u2500\u2500\u2500\u2500\u2500\u2500\u2500\u2500\u2500\u2500\u239f     \u239c    a \u22c5n\u22c5\n    \u239c\u239c\u239c       2 \u239f \u239c           2                      4        \u239f     \u239c         \n_   \u239c\u239c\u239d      a  \u23a0 \u239d          a                      a         \u23a0     \u239d         \n \u22c5p\u22c5\u239c\u239c\u2500\u2500\u2500\u2500\u2500\u2500\u2500\u2500\u2500\u2500\u2500\u2500\u2500\u2500\u2500\u2500\u2500\u2500\u2500\u2500\u2500\u2500\u2500\u2500\u2500\u2500\u2500\u2500\u2500\u2500\u2500\u2500\u2500\u2500\u2500\u2500\u2500\u2500\u2500\u2500\u2500\u2500\u2500\u2500\u2500\u2500\u2500\u2500\u2500\u2500\u2500\u2500\u2500\u2500\u2500\u2500\u2500 + \u2500\u2500\u2500\u2500\u2500\u2500\u2500\u2500\u2500\u2500\u2500\u2500\n    \u239c\u239c           \u239b 2  2    2\u239e \u239b           2        4\u239e                       2 \n    \u239c\u239c           \u239cn \u22c5p    p \u239f \u239c      4\u22c5n\u22c5p    2\u22c5n\u22c5p \u239f                      n  \n    \u239c\u239c           \u239c\u2500\u2500\u2500\u2500\u2500 - \u2500\u2500\u239f\u22c5\u239c2\u22c5n - \u2500\u2500\u2500\u2500\u2500\u2500 + \u2500\u2500\u2500\u2500\u2500\u2500\u239f                         \n    \u239c\u239c           \u239c   2     2\u239f \u239c         2        4  \u239f                         \n    \u239c\u239d           \u239d  a     a \u23a0 \u239d        a        a   \u23a0                         \n    \u239d                                                                         \n\u2500\u2500\u2500\u2500\u2500\u2500\u2500\u2500\u2500\u2500\u2500\u2500\u2500\u2500\u2500\u2500\u2500\u2500\u2500\u2500\u2500\u2500\u2500\u2500\u2500\u2500\u2500\u2500\u2500\u2500\u2500\u2500\u2500\u2500\u2500\u2500\u2500\u2500\u2500\u2500\u2500\u2500\u2500\u2500\u2500\u2500\u2500\u2500\u2500\u2500\u2500\u2500\u2500\u2500\u2500\u2500\u2500\u2500\u2500\u2500\u2500\u2500\u2500\u2500\u2500\u2500\u2500\u2500\u2500\u2500\u2500\u2500\u2500\u2500\u2500\u2500\u2500\u2500\n                                                                              \n                                                                              \n                                                                              \n\u2500\u2500\u2500\u2500\u2500\u2500\u2500\u2500\u2500\u2500\u2500\u2500\u2500\u2500\u2500\u2500\u2500\u2500\u2500\u2500\u2500\u2500\u2500\u2500\u2500\u2500\u2500\u2500\u2500\u2500\u2500\u2500\u2500\u2500\u2500\u2500\u2500\u2500\u2500\u2500\u2500\u2500\u2500\u2500\u2500\u2500\u2500\u2500\u2500\u2500\u2500\u2500\u2500\u2500\u2500\u2500\u2500\u2500\u2500\u2500\u2500\u2500\u2500\u2500\u2500\u2500\u2500\u2500\u2500\u2500\u2500\u2500\u2500\u2500\u2500\u2500\u2500\u2500\n                                                                              \n                                                                              \n                                                                              \n                                            \u239b                                 \n                                            \u239c                                 \n                                            \u239c                                 \n                                            \u239c                                 \n                                            \u239c                         \u239b      _\n                                            \u239c   \u239b          2        \u239e \u239c     \u2571 \n                            2\u22c5n + 2  -n - 1 \u239c n \u239c       2\u22c5a         \u239f \u239c    \u2571  \n                           a       \u22c5p      \u22c5\u239c2 \u22c5\u239c- \u2500\u2500\u2500\u2500\u2500\u2500\u2500\u2500\u2500\u2500\u2500\u2500\u2500 + 1\u239f\u22c5\u239c   \u2571   \n                                            \u239c   \u239c     \u239b   2    \u239e    \u239f \u239c  \u2571    \n                                            \u239c   \u239c   2 \u239c2\u22c5a     \u239f    \u239f \u239d\u2572\u2571     \n                                            \u239c   \u239c  p \u22c5\u239c\u2500\u2500\u2500\u2500 - 2\u239f    \u239f         \n                                            \u239c   \u239c     \u239c  2     \u239f    \u239f         \n                                            \u239d   \u239d     \u239d p      \u23a0    \u23a0         \n                           \u2500\u2500\u2500\u2500\u2500\u2500\u2500\u2500\u2500\u2500\u2500\u2500\u2500\u2500\u2500\u2500\u2500\u2500\u2500\u2500\u2500\u2500\u2500\u2500\u2500\u2500\u2500\u2500\u2500\u2500\u2500\u2500\u2500\u2500\u2500\u2500\u2500\u2500\u2500\u2500\u2500\u2500\u2500\u2500\u2500\u2500\u2500\u2500\u2500\u2500\u2500\n                                                                              \n                                                                              \n                                                                              \n                                                                              \n                                                                              \n                                                                      ___  n +\n                                                                    \u2572\u2571 \u03c0 \u22c5a   \n                                                                              \n                                                                              \n                                                                              \n                                                                    \u2500\u2500\u2500\u2500\u2500\u2500\u2500\u2500\u2500\u2500\n                                                                              \n                                                                              \n\n                                       \u239b                                      \n                                       \u239c                                      \n                                       \u239c                                      \n                                       \u239c                                      \n                                       \u239c                                      \n                                       \u239c                                      \n                                       \u239c\u239b        2\u239e \u239b            2 \u239b     2    \n                                       \u239c\u239c     2\u22c5p \u239f \u239c   2       p \u22c5\u239d- 3\u22c5n  + 6\n                                       \u239c\u239c-2 + \u2500\u2500\u2500\u2500\u239f\u22c5\u239c- n  + 1 - \u2500\u2500\u2500\u2500\u2500\u2500\u2500\u2500\u2500\u2500\u2500\u2500\u2500\u2500\n2          \u239e\u239e                          \u239c\u239c       2 \u239f \u239c                    2    \n \u22c5(n - 2)  \u239f\u239f                          \u239c\u239d      a  \u23a0 \u239d                   a     \n\u2500\u2500\u2500\u2500\u2500\u2500\u2500\u2500\u2500\u2500\u2500\u239f\u239f                        p\u22c5\u239c\u2500\u2500\u2500\u2500\u2500\u2500\u2500\u2500\u2500\u2500\u2500\u2500\u2500\u2500\u2500\u2500\u2500\u2500\u2500\u2500\u2500\u2500\u2500\u2500\u2500\u2500\u2500\u2500\u2500\u2500\u2500\u2500\u2500\u2500\u2500\u2500\u2500\u2500\n\u239b        2\u239e\u239f\u239f                          \u239c              \u239b 2  2    2\u239e \u239b          \n\u239c     2\u22c5p \u239f\u239f\u239f                          \u239c              \u239cn \u22c5p    p \u239f \u239c      4\u22c5n\u22c5\n\u239c-2 + \u2500\u2500\u2500\u2500\u239f\u239f\u239f                          \u239c              \u239c\u2500\u2500\u2500\u2500\u2500 - \u2500\u2500\u239f\u22c5\u239c2\u22c5n - \u2500\u2500\u2500\u2500\n\u239c       2 \u239f\u239f\u239f                          \u239c              \u239c   2     2\u239f \u239c         2\n\u239d      a  \u23a0\u23a0\u239f    \u239b            \u239bp\u239e\u239e     \u239d              \u239d  a     a \u23a0 \u239d        a \n\u2500\u2500\u2500\u2500\u2500\u2500\u2500\u2500\u2500\u2500\u2500\u2500\u239f\u22c5cos\u239c(n - 2)\u22c5asin\u239c\u2500\u239f\u239f + \u2500\u2500\u2500\u2500\u2500\u2500\u2500\u2500\u2500\u2500\u2500\u2500\u2500\u2500\u2500\u2500\u2500\u2500\u2500\u2500\u2500\u2500\u2500\u2500\u2500\u2500\u2500\u2500\u2500\u2500\u2500\u2500\u2500\u2500\u2500\u2500\u2500\u2500\u2500\u2500\u2500\n            \u239f    \u239d            \u239da\u23a0\u23a0                                            \n- 1         \u239f                                                                 \n            \u239f                                                                 \n            \u239f                                                                 \n            \u23a0                                                                 \n                                                                              \n\u2500\u2500\u2500\u2500\u2500\u2500\u2500\u2500\u2500\u2500\u2500\u2500\u2500\u2500\u2500\u2500\u2500\u2500\u2500\u2500\u2500\u2500\u2500\u2500\u2500\u2500\u2500\u2500\u2500\u2500\u2500\u2500\u2500\u2500\u2500\u2500\u2500\u2500\u2500\u2500\u2500\u2500\u2500\u2500\u2500\u2500\u2500\u2500\u2500\u2500\u2500\u2500\u2500\u2500\u2500\u2500\u2500\u2500\u2500\u2500\u2500\u2500\u2500\u2500\u2500\u2500\u2500\u2500\u2500\u2500\u2500\u2500\u2500\u2500\u2500\u2500\u2500\u2500\n                                      \u239bn\u239e  \u239b  n   1\u239e  \u239bn   3\u239e                 \n                                   a\u22c5\u0393\u239c\u2500\u239f\u22c5\u0393\u239c- \u2500 - \u2500\u239f\u22c5\u0393\u239c\u2500 + \u2500\u239f                 \n                                      \u239d2\u23a0  \u239d  2   2\u23a0  \u239d2   2\u23a0                 \n\u2500\u2500\u2500\u2500\u2500\u2500\u2500\u2500\u2500\u2500\u2500\u2500\u2500\u2500\u2500\u2500\u2500\u2500\u2500\u2500\u2500\u2500\u2500\u2500\u2500\u2500\u2500\u2500\u2500\u2500\u2500\u2500\u2500\u2500\u2500\u2500\u2500\u2500\u2500\u2500\u2500\u2500\u2500\u2500\u2500\u2500\u2500\u2500\u2500\u2500\u2500\u2500\u2500\u2500\u2500\u2500\u2500\u2500\u2500\u2500\u2500\u2500\u2500\u2500\u2500\u2500\u2500\u2500\u2500\u2500\u2500\u2500\u2500\u2500\u2500\u2500\u2500\u2500\n             2                                                                \n            a                                                                 \n                                                                              \n                                                   -n - 1\u239e                    \n                             \u239b      __________    \u239e      \u239f                    \n                             \u239c     \u2571    2         \u239f      \u239f                    \n              -n    n + 1  2 \u239c    \u2571    a          \u239f      \u239f                    \n_________    \u239e     2     \u22c5a \u22c5\u239c   \u2571   - \u2500\u2500 + 1  + 1\u239f      \u239f                    \n   2         \u239f               \u239c  \u2571       2         \u239f      \u239f                    \n  a          \u239f               \u239d\u2572\u2571       p          \u23a0      \u239f  \u239bn   1\u239e  \u239bn    \u239e  \n- \u2500\u2500 + 1  + 1\u239f   + \u2500\u2500\u2500\u2500\u2500\u2500\u2500\u2500\u2500\u2500\u2500\u2500\u2500\u2500\u2500\u2500\u2500\u2500\u2500\u2500\u2500\u2500\u2500\u2500\u2500\u2500\u2500\u2500\u2500\u2500\u2500\u2500\u2500\u2500\u2500\u2500\u2500\u2500\u239f\u22c5\u0393\u239c\u2500 + \u2500\u239f\u22c5\u0393\u239c\u2500 + 1\u239f  \n   2         \u239f                    \u239b   2    \u239e             \u239f  \u239d2   2\u23a0  \u239d2    \u23a0  \n  p          \u23a0                  2 \u239c2\u22c5a     \u239f             \u239f                    \n                               p \u22c5\u239c\u2500\u2500\u2500\u2500 - 2\u239f             \u239f                    \n                                  \u239c  2     \u239f             \u239f                    \n                                  \u239d p      \u23a0             \u23a0                    \n\u2500\u2500\u2500\u2500\u2500\u2500\u2500\u2500\u2500\u2500\u2500\u2500\u2500\u2500\u2500\u2500\u2500\u2500\u2500\u2500\u2500\u2500\u2500\u2500\u2500\u2500\u2500\u2500\u2500\u2500\u2500\u2500\u2500\u2500\u2500\u2500\u2500\u2500\u2500\u2500\u2500\u2500\u2500\u2500\u2500\u2500\u2500\u2500\u2500\u2500\u2500\u2500\u2500\u2500\u2500\u2500\u2500\u2500\u2500\u2500\u2500\u2500\u2500\u2500\u2500\u2500\u2500\u2500\u2500\u2500\u2500\u2500\u2500\u2500\u2500\u2500  \n      ___  2                                                                  \n    \u2572\u2571 \u03c0 \u22c5a \u22c5\u0393(n + 1)                                                         \n                                                                              \n           \u239b  n   1  n   1  -n \u2502   \u239e                                          \n           \u239c- \u2500 + \u2500  \u2500 + \u2500, \u2500\u2500 \u2502  2\u239f                                          \n 1 \u256d\u2500\u256e2, 1 \u239c  2   2  2   2  2  \u2502 p \u239f                                          \n  \u22c5\u2502\u2576\u2510     \u239c                   \u2502 \u2500\u2500\u239f                                          \n   \u2570\u2500\u256f3, 3 \u239c            -n     \u2502  2\u239f                                          \n           \u239c0, 1/2      \u2500\u2500     \u2502 a \u239f                                          \n           \u239d            2      \u2502   \u23a0                                          \n\u2500\u2500\u2500\u2500\u2500\u2500\u2500\u2500\u2500\u2500\u2500\u2500\u2500\u2500\u2500\u2500\u2500\u2500\u2500\u2500\u2500\u2500\u2500\u2500\u2500\u2500\u2500\u2500\u2500\u2500\u2500\u2500\u2500\u2500\u2500\u2500                                          \n             2                                                                \n            a                                                                 \n\n                               \u239b                \u239b         2        \u239e\u239e\u239e        \n                               \u239c                \u239c        p \u22c5(n - 2)\u239f\u239f\u239f        \n                               \u239c  \u239b  n    \u239e   2\u22c5\u239cn - 1 - \u2500\u2500\u2500\u2500\u2500\u2500\u2500\u2500\u2500\u2500\u239f\u239f\u239f        \n                               \u239c2\u22c5\u239c- \u2500 + 1\u239f     \u239c             2    \u239f\u239f\u239f        \n                               \u239c  \u239d  2    \u23a0     \u239d            a     \u23a0\u239f\u239f        \n                             3\u22c5\u239c\u2500\u2500\u2500\u2500\u2500\u2500\u2500\u2500\u2500\u2500\u2500 + \u2500\u2500\u2500\u2500\u2500\u2500\u2500\u2500\u2500\u2500\u2500\u2500\u2500\u2500\u2500\u2500\u2500\u2500\u2500\u2500\u2500\u2500\u239f\u239f        \n  \u239e    4 \u239b   2          \u239e\u239e     \u239c   n - 2            \u239b        2\u239e     \u239f\u239f        \n\u22c5n\u23a0   p \u22c5\u239d2\u22c5n  - 6\u22c5n + 4\u23a0\u239f     \u239c                    \u239c     2\u22c5p \u239f     \u239f\u239f        \n\u2500\u2500\u2500 - \u2500\u2500\u2500\u2500\u2500\u2500\u2500\u2500\u2500\u2500\u2500\u2500\u2500\u2500\u2500\u2500\u2500\u2500\u2500\u239f     \u239c                  n\u22c5\u239c-2 + \u2500\u2500\u2500\u2500\u239f     \u239f\u239f        \n                4        \u239f     \u239c                    \u239c       2 \u239f     \u239f\u239f        \n               a         \u23a0     \u239d                    \u239d      a  \u23a0     \u23a0\u239f    \u239b   \n\u2500\u2500\u2500\u2500\u2500\u2500\u2500\u2500\u2500\u2500\u2500\u2500\u2500\u2500\u2500\u2500\u2500\u2500\u2500\u2500\u2500\u2500\u2500\u2500\u2500\u2500 + \u2500\u2500\u2500\u2500\u2500\u2500\u2500\u2500\u2500\u2500\u2500\u2500\u2500\u2500\u2500\u2500\u2500\u2500\u2500\u2500\u2500\u2500\u2500\u2500\u2500\u2500\u2500\u2500\u2500\u2500\u2500\u2500\u2500\u2500\u2500\u2500\u2500\u2500\u2500\u2500\u239f\u22c5sin\u239c(n \n 2        4\u239e                                   2                     \u239f    \u239d   \np    2\u22c5n\u22c5p \u239f                                  n  - 1                 \u239f        \n\u2500\u2500 + \u2500\u2500\u2500\u2500\u2500\u2500\u239f                                                         \u239f        \n        4  \u239f                                                         \u239f        \n       a   \u23a0                                                         \u23a0        \n\u2500\u2500\u2500\u2500\u2500\u2500\u2500\u2500\u2500\u2500\u2500\u2500\u2500\u2500\u2500\u2500\u2500\u2500\u2500\u2500\u2500\u2500\u2500\u2500\u2500\u2500\u2500\u2500\u2500\u2500\u2500\u2500\u2500\u2500\u2500\u2500\u2500\u2500\u2500\u2500\u2500\u2500\u2500\u2500\u2500\u2500\u2500\u2500\u2500\u2500\u2500\u2500\u2500\u2500\u2500\u2500\u2500\u2500\u2500\u2500\u2500\u2500\u2500\u2500\u2500\u2500\u2500\u2500\u2500\u2500\u2500\u2500\u2500\u2500\u2500\u2500\u2500\u2500\n                         ________                                             \n                        \u2571      2                                              \n                       \u2571      p                                               \n                 a\u22c5   \u2571   1 - \u2500\u2500                                              \n                     \u2571         2                                              \n                   \u2572\u2571         a                                               \n\u2500\u2500\u2500\u2500\u2500\u2500\u2500\u2500\u2500\u2500\u2500\u2500\u2500\u2500\u2500\u2500\u2500\u2500\u2500\u2500\u2500\u2500\u2500\u2500\u2500\u2500\u2500\u2500\u2500\u2500\u2500\u2500\u2500\u2500\u2500\u2500\u2500\u2500\u2500\u2500\u2500\u2500\u2500\u2500\u2500\u2500\u2500\u2500\u2500\u2500\u2500\u2500\u2500\u2500\u2500\u2500\u2500\u2500\u2500\u2500\u2500\u2500\u2500\u2500\u2500\u2500\u2500\u2500\u2500\u2500\u2500\u2500\u2500\u2500\u2500\u2500\u2500\u2500\n                                                                              \n                                                                              \n                                                                              \n\u2500\u2500\u2500\u2500\u2500\u2500\u2500\u2500\u2500\u2500\u2500\u2500\u2500\u2500\u2500\u2500\u2500\u2500\u2500\u2500\u2500\u2500\u2500\u2500\u2500\u2500\u2500\u2500\u2500\u2500\u2500\u2500\u2500\u2500\u2500\u2500\u2500\u2500\u2500\u2500\u2500\u2500\u2500\u2500\u2500\u2500\u2500\u2500\u2500\u2500\u2500\u2500\u2500\u2500\u2500\u2500\u2500\u2500\u2500\u2500\u2500\u2500\u2500\u2500\u2500\u2500\u2500\u2500\u2500\u2500\u2500\u2500\u2500\u2500\u2500\u2500\u2500\u2500\n                                                                              \n                                                                              \n                                                                              \n                                                                              \n                                                                              \n                                                                              \n                                                                              \n                                                                              \n                                                                              \n                                                                              \n                                                                              \n                                                                              \n                                                                              \n                                                                              \n                                                                              \n                                                                              \n                                                                              \n                                                                              \n                                                                              \n                                                                              \n                                                                              \n                                                                              \n                                                                              \n                                                                              \n                                                                              \n                                                                              \n                                                                              \n                                                                              \n                                                                              \n                                                                              \n\n             \u239e         \u239e                                                      \n             \u239f         \u239f                                                      \n             \u239f         \u239f                                                      \n             \u239f         \u239f                                                      \n             \u239f         \u239f                                                      \n             \u239f         \u239f                                                      \n             \u239f         \u239f                                                      \n             \u239f         \u239f                                                      \n             \u239f         \u239f                                                      \n             \u239f         \u239f                                                      \n         \u239bp\u239e\u239e\u239f         \u239f                                                      \n- 2)\u22c5asin\u239c\u2500\u239f\u239f\u239f         \u239f                                                      \n         \u239da\u23a0\u23a0\u239f         \u239f                                                      \n             \u239f         \u239f                                                      \n             \u239f         \u239f                                                      \n             \u239f         \u239f                                                      \n             \u239f  \u239bn    \u239e\u239f                                                      \n\u2500\u2500\u2500\u2500\u2500\u2500\u2500\u2500\u2500\u2500\u2500\u2500\u2500\u239f\u22c5\u0393\u239c\u2500 + 1\u239f\u239f                                                      \n             \u239f  \u239d2    \u23a0\u239f                                                      \n             \u239f         \u239f                                                      \n             \u239f         \u239f                                                      \n             \u239f         \u239f                                                      \n             \u239f         \u239f                                                      \n             \u23a0         \u239f                                                      \n\u2500\u2500\u2500\u2500\u2500\u2500\u2500\u2500\u2500\u2500\u2500\u2500\u2500\u2500\u2500\u2500\u2500\u2500\u2500\u2500\u2500\u2500\u2500\u239f                                                      \n                       \u239f                                                      \n                       \u239f      \u2502 2\u2502                                            \n                       \u23a0      \u2502p \u2502                                            \n\u2500\u2500\u2500\u2500\u2500\u2500\u2500\u2500\u2500\u2500\u2500\u2500\u2500\u2500\u2500\u2500\u2500\u2500\u2500\u2500\u2500\u2500\u2500\u2500  for \u2502\u2500\u2500\u2502 &lt; 1, Max(0, cos(Abs(periodic_argument(polar\n                              \u2502 2\u2502                                            \n                              \u2502a \u2502                                            \n                                                                              \n                                                                              \n                                                                              \n                                                                              \n                                                                              \n                                                                              \n                                                                              \n                                                                              \n                                                                              \n                                                                              \n                                                                              \n                                                                              \n                              \u2502 2\u2502                                            \n                              \u2502a \u2502                                            \n                          for \u2502\u2500\u2500\u2502 &lt; 1                                        \n                              \u2502 2\u2502                                            \n                              \u2502p \u2502                                            \n                                                                              \n                                                                              \n                                                                              \n                                                                              \n                                                                              \n                                                                              \n                                                                              \n                                                                              \n                           otherwise                                          \n                                                                              \n                                                                              \n\n                                                                              \n                                                                              \n                                                                              \n                                                                              \n                                                                              \n                                                                              \n                                                                              \n                                                                              \n                                                                              \n                                                                              \n                                                                              \n                                                                              \n                                                                              \n                                                                              \n                                                                              \n                                                                              \n                                                                              \n                                                                              \n                                                                              \n                                                                              \n                                                                              \n                                                                              \n                                                                              \n                                                                              \n                                                                              \n                                                                              \n                                                                              \n                                           n   1   \u2502                 \u239b        \n_lift(a)**2, oo))/2)*sqrt(Abs(a**2))), 0 &lt; \u2500 + \u2500 \u2227 \u2502periodic_argument\u239dpolar_li\n                                           2   2                              \n                                                                              \n                                                                              \n                                                                              \n                                                                              \n                                                                              \n                                                                              \n                                                                              \n                                                                              \n                                                                              \n                                                                              \n                                                                              \n                                                                              \n                                                                              \n                                                                              \n                                                                              \n                                                                              \n                                                                              \n                                                                              \n                                                                              \n                                                                              \n                                                                              \n                                                                              \n                                                                              \n                                                                              \n                                                                              \n                                                                              \n                                                                              \n                                                                              \n                                                                              \n\n                                    \u239e\n                                    \u239f\n                                    \u239f\n                                    \u239f\n                                    \u239f\n                                    \u239f\n                                    \u239f\n                                    \u239f\n                                    \u239f\n                                    \u239f\n                                    \u239f\n                                    \u239f\n                                    \u239f\n                                    \u239f\n                                    \u239f\n                                    \u239f\n                                    \u239f\n                                    \u239f\n                                    \u239f\n                                    \u239f\n                                    \u239f\n                                    \u239f\n                                    \u239f\n                                    \u239f\n                                    \u239f\n                                    \u239f\n                   2                \u239f\n  2      \u239e\u2502       p            n    \u239f\nft (a), \u221e\u23a0\u2502 &lt; \u03c0 \u2227 \u2500\u2500 \u2260 1 \u2227 0 &lt; \u2500 + 1\u239f\n                   2           2    \u239f\n                  a                 \u239f\n                                    \u239f\n                                    \u239f\n                                    \u239f\n                                    \u239f\n                                    \u239f\n                                    \u239f\n                                    \u239f\n                                    \u239f\n                                    \u239f\n                                    \u239f\n                                    \u239f\n                                    \u239f\n                                    \u239f\n                                    \u239f\n                                    \u239f\n                                    \u239f\n                                    \u239f\n                                    \u239f\n                                    \u239f\n                                    \u239f\n                                    \u239f\n                                    \u239f\n                                    \u239f\n                                    \u239f\n                                    \u239f\n                                    \u239f\n                                    \u239f\n                                    \u23a0"
      }
     ], 
     "prompt_number": 93
    }, 
    {
     "cell_type": "markdown", 
     "source": "what a mess ...!"
    }, 
    {
     "cell_type": "code", 
     "collapsed": false, 
     "input": "73", 
     "language": "python", 
     "outputs": [
      {
       "output_type": "pyout", 
       "prompt_number": 94, 
       "text": "73"
      }
     ], 
     "prompt_number": 94
    }, 
    {
     "cell_type": "code", 
     "collapsed": false, 
     "input": "(1-exp(-a*p))/p", 
     "language": "python", 
     "outputs": [
      {
       "output_type": "pyout", 
       "png": "[encoded data removed]", 
       "prompt_number": 95, 
       "text": "\n     -a\u22c5p\n1 - \u212f    \n\u2500\u2500\u2500\u2500\u2500\u2500\u2500\u2500\u2500\n    p    "
      }
     ], 
     "prompt_number": 95
    }, 
    {
     "cell_type": "code", 
     "collapsed": false, 
     "input": "inverse_laplace_transform(_, p, t)", 
     "language": "python", 
     "outputs": [
      {
       "output_type": "pyout", 
       "png": "[encoded data removed]", 
       "prompt_number": 96, 
       "text": "Heaviside(t) - Heaviside(-a + t)"
      }
     ], 
     "prompt_number": 96
    }, 
    {
     "cell_type": "markdown", 
     "source": "74"
    }, 
    {
     "cell_type": "code", 
     "collapsed": false, 
     "input": "(exp(-a*p)-exp(-b*p))/p", 
     "language": "python", 
     "outputs": [
      {
       "output_type": "pyout", 
       "png": "[encoded data removed]", 
       "prompt_number": 97, 
       "text": "\n   -b\u22c5p    -a\u22c5p\n- \u212f     + \u212f    \n\u2500\u2500\u2500\u2500\u2500\u2500\u2500\u2500\u2500\u2500\u2500\u2500\u2500\u2500\u2500\n       p       "
      }
     ], 
     "prompt_number": 97
    }, 
    {
     "cell_type": "code", 
     "collapsed": false, 
     "input": "inverse_laplace_transform(_, p, t)", 
     "language": "python", 
     "outputs": [
      {
       "output_type": "pyout", 
       "png": "[encoded data removed]", 
       "prompt_number": 98, 
       "text": "Heaviside(-a + t) - Heaviside(-b + t)"
      }
     ], 
     "prompt_number": 98
    }, 
    {
     "cell_type": "markdown", 
     "source": "Other"
    }, 
    {
     "cell_type": "code", 
     "collapsed": false, 
     "input": "besselj(n, a*t)", 
     "language": "python", 
     "outputs": [
      {
       "output_type": "pyout", 
       "png": "[encoded data removed]", 
       "prompt_number": 99, 
       "text": "besselj(n, a\u22c5t)"
      }
     ], 
     "prompt_number": 99
    }, 
    {
     "cell_type": "code", 
     "collapsed": false, 
     "input": "laplace_transform(_, t, p)", 
     "language": "python", 
     "outputs": [
      {
       "output_type": "pyout", 
       "prompt_number": 100, 
       "text": "\n\u239b                               -n - 1                                        \n\u239c           \u239b      ________    \u239e       \u239b              ________     \u239e          \n\u239c           \u239c     \u2571  2         \u239f       \u239c             \u2571  2          \u239f          \n\u239c n  -n - 1 \u239c    \u2571  a          \u239f       \u239c 2    2     \u2571  a          2\u239f          \n\u239ca \u22c5p      \u22c5\u239c   \u2571   \u2500\u2500 + 1  + 1\u239f      \u22c5\u239ca  + p \u22c5   \u2571   \u2500\u2500 + 1  + p \u239f          \n\u239c           \u239c  \u2571     2         \u239f       \u239c          \u2571     2          \u239f          \n\u239c           \u239d\u2572\u2571     p          \u23a0       \u239d        \u2572\u2571     p           \u23a0         n\n\u239c\u2500\u2500\u2500\u2500\u2500\u2500\u2500\u2500\u2500\u2500\u2500\u2500\u2500\u2500\u2500\u2500\u2500\u2500\u2500\u2500\u2500\u2500\u2500\u2500\u2500\u2500\u2500\u2500\u2500\u2500\u2500\u2500\u2500\u2500\u2500\u2500\u2500\u2500\u2500\u2500\u2500\u2500\u2500\u2500\u2500\u2500\u2500\u2500\u2500\u2500\u2500\u2500\u2500\u2500\u2500\u2500\u2500\u2500\u2500\u2500\u2500\u2500\u2500\u2500\u2500\u2500\u2500, 0, 0 &lt; \u2500\n\u239c                               2    2                                       2\n\u239d                              a  + p                                         \n\n                                                             \u239e\n                                                             \u239f\n                                                             \u239f\n                                                             \u239f\n                                                             \u239f\n                                                             \u239f\n   1   \u2502                 \u239b          2      \u239e\u2502           n    \u239f\n + \u2500 \u2227 \u2502periodic_argument\u239dpolar_lift (a), \u221e\u23a0\u2502 = 0 \u2227 0 &lt; \u2500 + 1\u239f\n   2                                                    2    \u239f\n                                                             \u23a0"
      }
     ], 
     "prompt_number": 100
    }, 
    {
     "cell_type": "code", 
     "collapsed": false, 
     "input": "besseli(n, a*t)", 
     "language": "python", 
     "outputs": [
      {
       "output_type": "pyout", 
       "png": "[encoded data removed]", 
       "prompt_number": 101, 
       "text": "besseli(n, a\u22c5t)"
      }
     ], 
     "prompt_number": 101
    }, 
    {
     "cell_type": "code", 
     "collapsed": false, 
     "input": "laplace_transform(_, t, p)", 
     "language": "python", 
     "outputs": [
      {
       "output_type": "pyout", 
       "prompt_number": 102, 
       "text": "\n\u239b\u23a7      \u239b                                                                  \u239b  \n\u239c\u23aa      \u239c                                                                  \u239c  \n\u239c\u23aa      \u239c                                                                  \u239c  \n\u239c\u23aa      \u239c                                                                  \u239c  \n\u239c\u23aa      \u239c                                                                  \u239c  \n\u239c\u23aa      \u239c                                                                  \u239c  \n\u239c\u23aa      \u239c                                                                  \u239c  \n\u239c\u23aa      \u239c                                                                  \u239c  \n\u239c\u23aa      \u239c                                                                  \u239c  \n\u239c\u23aa      \u239c                                                                  \u239c\u239b \n\u239c\u23aa      \u239c                                                                  \u239c\u239c \n\u239c\u23aa      \u239c                                                                  \u239c\u239c \n\u239c\u23aa      \u239c                                                                  \u239c\u239c\u239b\n\u239c\u23aa      \u239c                                                                  \u239c\u239c\u239c\n\u239c\u23aa      \u239c      \u239b                            \u239b            \u239bp\u239e\u239e\u239e             \u239c\u239c\u239c\n\u239c\u23aa      \u239c      \u239c                       p\u22c5sin\u239c(n - 1)\u22c5asin\u239c\u2500\u239f\u239f\u239f             \u239c\u239c\u239c\n\u239c\u23aa      \u239c  ___ \u239c   \u239b            \u239bp\u239e\u239e        \u239d            \u239da\u23a0\u23a0\u239f       ___   \u239c\u239c\u239d\n\u239c\u23aa      \u239c\u2572\u2571 \u03c0 \u22c5\u239ccos\u239c(n - 1)\u22c5asin\u239c\u2500\u239f\u239f - \u2500\u2500\u2500\u2500\u2500\u2500\u2500\u2500\u2500\u2500\u2500\u2500\u2500\u2500\u2500\u2500\u2500\u2500\u2500\u2500\u2500\u2500\u239f   2\u22c5\u2572\u2571 \u03c0 \u22c5p\u22c5\u239c\u239c\u2500\n\u239c\u23aa      \u239c      \u239c   \u239d            \u239da\u23a0\u23a0              ________   \u239f             \u239c\u239c \n\u239c\u23aa      \u239c      \u239c                                 \u2571      2    \u239f             \u239c\u239c \n\u239c\u23aa      \u239c      \u239c                                \u2571      p     \u239f             \u239c\u239c \n\u239c\u23aa      \u239c      \u239c                          a\u22c5   \u2571   1 - \u2500\u2500    \u239f             \u239c\u239c \n\u239c\u23aa      \u239c      \u239c                              \u2571         2    \u239f             \u239c\u239d \n\u239c\u23aa  ___ \u239c      \u239d                            \u2572\u2571         a     \u23a0             \u239d  \n\u239c\u23aa\u2572\u2571 \u03c0 \u22c5\u239c\u2500\u2500\u2500\u2500\u2500\u2500\u2500\u2500\u2500\u2500\u2500\u2500\u2500\u2500\u2500\u2500\u2500\u2500\u2500\u2500\u2500\u2500\u2500\u2500\u2500\u2500\u2500\u2500\u2500\u2500\u2500\u2500\u2500\u2500\u2500\u2500\u2500\u2500\u2500\u2500\u2500\u2500\u2500\u2500\u2500\u2500\u2500\u2500\u2500\u2500\u2500\u2500\u2500 - \u2500\u2500\u2500\u2500\u2500\u2500\u2500\u2500\u2500\u2500\u2500\u2500\u2500\n\u239c\u23aa      \u239c                     \u239b-n\u239e  \u239bn    \u239e                                   \n\u239c\u23aa      \u239c                    \u0393\u239c\u2500\u2500\u239f\u22c5\u0393\u239c\u2500 + 1\u239f                                   \n\u239c\u23aa      \u239d                     \u239d2 \u23a0  \u239d2    \u23a0                                   \n\u239c\u23aa\u2500\u2500\u2500\u2500\u2500\u2500\u2500\u2500\u2500\u2500\u2500\u2500\u2500\u2500\u2500\u2500\u2500\u2500\u2500\u2500\u2500\u2500\u2500\u2500\u2500\u2500\u2500\u2500\u2500\u2500\u2500\u2500\u2500\u2500\u2500\u2500\u2500\u2500\u2500\u2500\u2500\u2500\u2500\u2500\u2500\u2500\u2500\u2500\u2500\u2500\u2500\u2500\u2500\u2500\u2500\u2500\u2500\u2500\u2500\u2500\u2500\u2500\u2500\u2500\u2500\u2500\u2500\u2500\u2500\u2500\u2500\u2500\u2500\u2500\u2500\u2500\n\u239c\u23a8                                                                            \n\u239c\u23aa                                                                            \n\u239c\u23aa                                                                            \n\u239c\u23aa                                                                            \n\u239c\u23aa                                                                            \n\u239c\u23aa                                                                            \n\u239c\u23aa                                                                            \n\u239c\u23aa                                                                            \n\u239c\u23aa                                                                            \n\u239c\u23aa                                                                            \n\u239c\u23aa                                                                            \n\u239c\u23aa                                                                            \n\u239c\u23aa                                                                            \n\u239c\u23aa                                                                            \n\u239c\u23aa                                                                            \n\u239c\u23aa                                                                            \n\u239c\u23aa                                                                            \n\u239c\u23aa                                                                            \n\u239c\u23aa                                                                            \n\u239c\u23aa                                                                            \n\u239c\u23aa                                                                            \n\u239c\u23aa                                                                            \n\u239c\u23aa                                                                            \n\u239c\u23aa                                                                            \n\u239c\u23aa                                                                            \n\u239c\u23aa                                                                            \n\u239c\u23aa                                                                            \n\u239c\u23aa                                                                            \n\u239c\u23aa                                                                            \n\u239d\u23a9                                                                            \n\n                                                                              \n                                                                              \n                                                                              \n                                                                              \n                                                                              \n                                                                              \n                                                                              \n                                                                              \n                                                                              \n                                                             \u239b         2      \n                                                             \u239c      2\u22c5p \u22c5(n - \n                                                           3\u22c5\u239c1 + \u2500\u2500\u2500\u2500\u2500\u2500\u2500\u2500\u2500\u2500\u2500\u2500\n        2\u239e \u239b 2 \u239b     2          \u239e    4 \u239b   2          \u239e\u239e     \u239c         \u239b      \n     2\u22c5p \u239f \u239cp \u22c5\u239d- 2\u22c5n  + 3\u22c5n + 2\u23a0   p \u22c5\u239d2\u22c5n  - 6\u22c5n + 4\u23a0\u239f     \u239c     2   \u239c     2\n-2 + \u2500\u2500\u2500\u2500\u239f\u22c5\u239c\u2500\u2500\u2500\u2500\u2500\u2500\u2500\u2500\u2500\u2500\u2500\u2500\u2500\u2500\u2500\u2500\u2500\u2500\u2500\u2500\u2500 + \u2500\u2500\u2500\u2500\u2500\u2500\u2500\u2500\u2500\u2500\u2500\u2500\u2500\u2500\u2500\u2500\u2500\u2500\u2500\u239f     \u239c    a \u22c5n\u22c5\u239c-2 + \u2500\n       2 \u239f \u239c           2                      4        \u239f     \u239c         \u239c      \n      a  \u23a0 \u239d          a                      a         \u23a0     \u239d         \u239d      \n\u2500\u2500\u2500\u2500\u2500\u2500\u2500\u2500\u2500\u2500\u2500\u2500\u2500\u2500\u2500\u2500\u2500\u2500\u2500\u2500\u2500\u2500\u2500\u2500\u2500\u2500\u2500\u2500\u2500\u2500\u2500\u2500\u2500\u2500\u2500\u2500\u2500\u2500\u2500\u2500\u2500\u2500\u2500\u2500\u2500\u2500\u2500\u2500\u2500\u2500\u2500\u2500\u2500\u2500\u2500\u2500 + \u2500\u2500\u2500\u2500\u2500\u2500\u2500\u2500\u2500\u2500\u2500\u2500\u2500\u2500\u2500\u2500\u2500\u2500\u2500\n          \u239b 2  2    2\u239e \u239b           2        4\u239e                       2        \n          \u239cn \u22c5p    p \u239f \u239c      4\u22c5n\u22c5p    2\u22c5n\u22c5p \u239f                      n  - 1    \n          \u239c\u2500\u2500\u2500\u2500\u2500 - \u2500\u2500\u239f\u22c5\u239c2\u22c5n - \u2500\u2500\u2500\u2500\u2500\u2500 + \u2500\u2500\u2500\u2500\u2500\u2500\u239f                                \n          \u239c   2     2\u239f \u239c         2        4  \u239f                                \n          \u239d  a     a \u23a0 \u239d        a        a   \u23a0                                \n                                                                              \n\u2500\u2500\u2500\u2500\u2500\u2500\u2500\u2500\u2500\u2500\u2500\u2500\u2500\u2500\u2500\u2500\u2500\u2500\u2500\u2500\u2500\u2500\u2500\u2500\u2500\u2500\u2500\u2500\u2500\u2500\u2500\u2500\u2500\u2500\u2500\u2500\u2500\u2500\u2500\u2500\u2500\u2500\u2500\u2500\u2500\u2500\u2500\u2500\u2500\u2500\u2500\u2500\u2500\u2500\u2500\u2500\u2500\u2500\u2500\u2500\u2500\u2500\u2500\u2500\u2500\u2500\u2500\u2500\u2500\u2500\u2500\u2500\u2500\u2500\u2500\u2500\u2500\u2500\n                                                                              \n                                                                              \n                                                                              \n\u2500\u2500\u2500\u2500\u2500\u2500\u2500\u2500\u2500\u2500\u2500\u2500\u2500\u2500\u2500\u2500\u2500\u2500\u2500\u2500\u2500\u2500\u2500\u2500\u2500\u2500\u2500\u2500\u2500\u2500\u2500\u2500\u2500\u2500\u2500\u2500\u2500\u2500\u2500\u2500\u2500\u2500\u2500\u2500\u2500\u2500\u2500\u2500\u2500\u2500\u2500\u2500\u2500\u2500\u2500\u2500\u2500\u2500\u2500\u2500\u2500\u2500\u2500\u2500\u2500\u2500\u2500\u2500\u2500\u2500\u2500\u2500\u2500\u2500\u2500\u2500\u2500\u2500\n                                                                              \n                                                                              \n                                                                              \n                                        \u239b                                     \n                                        \u239c                                     \n                                        \u239c                                     \n                                        \u239c                                     \n                                        \u239c                         \u239b      _____\n                                        \u239c   \u239b          2        \u239e \u239c     \u2571    2\n                          n + 1  -n - 1 \u239c n \u239c       2\u22c5a         \u239f \u239c    \u2571    a \n                         a     \u22c5p      \u22c5\u239c2 \u22c5\u239c- \u2500\u2500\u2500\u2500\u2500\u2500\u2500\u2500\u2500\u2500\u2500\u2500\u2500 + 1\u239f\u22c5\u239c   \u2571   - \u2500\u2500\n                                        \u239c   \u239c     \u239b   2    \u239e    \u239f \u239c  \u2571       2\n                                        \u239c   \u239c   2 \u239c2\u22c5a     \u239f    \u239f \u239d\u2572\u2571       p \n                                        \u239c   \u239c  p \u22c5\u239c\u2500\u2500\u2500\u2500 - 2\u239f    \u239f             \n                                        \u239c   \u239c     \u239c  2     \u239f    \u239f             \n                                        \u239d   \u239d     \u239d p      \u23a0    \u23a0             \n                         \u2500\u2500\u2500\u2500\u2500\u2500\u2500\u2500\u2500\u2500\u2500\u2500\u2500\u2500\u2500\u2500\u2500\u2500\u2500\u2500\u2500\u2500\u2500\u2500\u2500\u2500\u2500\u2500\u2500\u2500\u2500\u2500\u2500\u2500\u2500\u2500\u2500\u2500\u2500\u2500\u2500\u2500\u2500\u2500\u2500\u2500\u2500\u2500\u2500\u2500\u2500\u2500\u2500\n                                                                              \n                                                                              \n                                                                              \n                                                                              \n                                                                              \n                                                                      ___ \u256d\u2500\u256e2\n                                                                    \u2572\u2571 \u03c0 \u22c5\u2502\u2576\u2510 \n                                                                          \u2570\u2500\u256f3\n                                                                              \n                                                                              \n                                                                    \u2500\u2500\u2500\u2500\u2500\u2500\u2500\u2500\u2500\u2500\n                                                                              \n                                                                              \n\n                                \u239b                                             \n                                \u239c                                             \n                                \u239c                                             \n                                \u239c                                             \n                                \u239c                                             \n                                \u239c                                             \n                                \u239c\u239b        2\u239e \u239b            2 \u239b     2      \u239e    \n                                \u239c\u239c     2\u22c5p \u239f \u239c   2       p \u22c5\u239d- 3\u22c5n  + 6\u22c5n\u23a0   p\n                                \u239c\u239c-2 + \u2500\u2500\u2500\u2500\u239f\u22c5\u239c- n  + 1 - \u2500\u2500\u2500\u2500\u2500\u2500\u2500\u2500\u2500\u2500\u2500\u2500\u2500\u2500\u2500\u2500\u2500 - \u2500\n    \u239e\u239e                          \u239c\u239c       2 \u239f \u239c                    2           \n2)  \u239f\u239f                          \u239c\u239d      a  \u23a0 \u239d                   a            \n\u2500\u2500\u2500\u2500\u239f\u239f                        p\u22c5\u239c\u2500\u2500\u2500\u2500\u2500\u2500\u2500\u2500\u2500\u2500\u2500\u2500\u2500\u2500\u2500\u2500\u2500\u2500\u2500\u2500\u2500\u2500\u2500\u2500\u2500\u2500\u2500\u2500\u2500\u2500\u2500\u2500\u2500\u2500\u2500\u2500\u2500\u2500\u2500\u2500\u2500\u2500\u2500\u2500\u2500\n  2\u239e\u239f\u239f                          \u239c              \u239b 2  2    2\u239e \u239b           2     \n\u22c5p \u239f\u239f\u239f                          \u239c              \u239cn \u22c5p    p \u239f \u239c      4\u22c5n\u22c5p    2\u22c5\n\u2500\u2500\u2500\u239f\u239f\u239f                          \u239c              \u239c\u2500\u2500\u2500\u2500\u2500 - \u2500\u2500\u239f\u22c5\u239c2\u22c5n - \u2500\u2500\u2500\u2500\u2500\u2500 + \u2500\u2500\n 2 \u239f\u239f\u239f                          \u239c              \u239c   2     2\u239f \u239c         2       \na  \u23a0\u23a0\u239f    \u239b            \u239bp\u239e\u239e     \u239d              \u239d  a     a \u23a0 \u239d        a        \n\u2500\u2500\u2500\u2500\u2500\u239f\u22c5cos\u239c(n - 2)\u22c5asin\u239c\u2500\u239f\u239f + \u2500\u2500\u2500\u2500\u2500\u2500\u2500\u2500\u2500\u2500\u2500\u2500\u2500\u2500\u2500\u2500\u2500\u2500\u2500\u2500\u2500\u2500\u2500\u2500\u2500\u2500\u2500\u2500\u2500\u2500\u2500\u2500\u2500\u2500\u2500\u2500\u2500\u2500\u2500\u2500\u2500\u2500\u2500\u2500\u2500\u2500\u2500\u2500\n     \u239f    \u239d            \u239da\u23a0\u23a0                                                   \n     \u239f                                                                        \n     \u239f                                                                        \n     \u239f                                                                        \n     \u23a0                                                                        \n                                                                              \n\u2500\u2500\u2500\u2500\u2500\u2500\u2500\u2500\u2500\u2500\u2500\u2500\u2500\u2500\u2500\u2500\u2500\u2500\u2500\u2500\u2500\u2500\u2500\u2500\u2500\u2500\u2500\u2500\u2500\u2500\u2500\u2500\u2500\u2500\u2500\u2500\u2500\u2500\u2500\u2500\u2500\u2500\u2500\u2500\u2500\u2500\u2500\u2500\u2500\u2500\u2500\u2500\u2500\u2500\u2500\u2500\u2500\u2500\u2500\u2500\u2500\u2500\u2500\u2500\u2500\u2500\u2500\u2500\u2500\u2500\u2500\u2500\u2500\u2500\u2500\u2500\u2500\u2500\n                               \u239bn\u239e  \u239b  n   1\u239e  \u239bn   3\u239e                        \n                            a\u22c5\u0393\u239c\u2500\u239f\u22c5\u0393\u239c- \u2500 - \u2500\u239f\u22c5\u0393\u239c\u2500 + \u2500\u239f                        \n                               \u239d2\u23a0  \u239d  2   2\u23a0  \u239d2   2\u23a0                        \n\u2500\u2500\u2500\u2500\u2500\u2500\u2500\u2500\u2500\u2500\u2500\u2500\u2500\u2500\u2500\u2500\u2500\u2500\u2500\u2500\u2500\u2500\u2500\u2500\u2500\u2500\u2500\u2500\u2500\u2500\u2500\u2500\u2500\u2500\u2500\u2500\u2500\u2500\u2500\u2500\u2500\u2500\u2500\u2500\u2500\u2500\u2500\u2500\u2500\u2500\u2500\u2500\u2500\u2500\u2500\u2500\u2500\u2500\u2500\u2500\u2500\u2500\u2500\u2500\u2500\u2500\u2500\u2500\u2500\u2500\u2500\u2500\u2500\u2500\u2500\u2500\u2500\u2500\n         a                                                                    \n                                                                              \n                                                                              \n                                               -n - 1\u239e                        \n                         \u239b      __________    \u239e      \u239f                        \n                         \u239c     \u2571    2         \u239f      \u239f                        \n          -n    n + 1  2 \u239c    \u2571    a          \u239f      \u239f                        \n_____    \u239e     2     \u22c5a \u22c5\u239c   \u2571   - \u2500\u2500 + 1  + 1\u239f      \u239f                        \n         \u239f               \u239c  \u2571       2         \u239f      \u239f                        \n         \u239f               \u239d\u2572\u2571       p          \u23a0      \u239f  \u239bn   1\u239e  \u239bn    \u239e      \n + 1  + 1\u239f   + \u2500\u2500\u2500\u2500\u2500\u2500\u2500\u2500\u2500\u2500\u2500\u2500\u2500\u2500\u2500\u2500\u2500\u2500\u2500\u2500\u2500\u2500\u2500\u2500\u2500\u2500\u2500\u2500\u2500\u2500\u2500\u2500\u2500\u2500\u2500\u2500\u2500\u2500\u239f\u22c5\u0393\u239c\u2500 + \u2500\u239f\u22c5\u0393\u239c\u2500 + 1\u239f      \n         \u239f                    \u239b   2    \u239e             \u239f  \u239d2   2\u23a0  \u239d2    \u23a0      \n         \u23a0                  2 \u239c2\u22c5a     \u239f             \u239f                        \n                           p \u22c5\u239c\u2500\u2500\u2500\u2500 - 2\u239f             \u239f                        \n                              \u239c  2     \u239f             \u239f                        \n                              \u239d p      \u23a0             \u23a0                        \n\u2500\u2500\u2500\u2500\u2500\u2500\u2500\u2500\u2500\u2500\u2500\u2500\u2500\u2500\u2500\u2500\u2500\u2500\u2500\u2500\u2500\u2500\u2500\u2500\u2500\u2500\u2500\u2500\u2500\u2500\u2500\u2500\u2500\u2500\u2500\u2500\u2500\u2500\u2500\u2500\u2500\u2500\u2500\u2500\u2500\u2500\u2500\u2500\u2500\u2500\u2500\u2500\u2500\u2500\u2500\u2500\u2500\u2500\u2500\u2500\u2500\u2500\u2500\u2500\u2500\u2500\u2500\u2500\u2500\u2500\u2500\u2500      \n    ___                                                                       \n  \u2572\u2571 \u03c0 \u22c5a\u22c5\u0393(n + 1)                                                            \n                                                                              \n    \u239b  n   1  n   1  -n \u2502   \u239e                                                 \n    \u239c- \u2500 + \u2500  \u2500 + \u2500, \u2500\u2500 \u2502  2\u239f                                                 \n, 1 \u239c  2   2  2   2  2  \u2502 p \u239f                                                 \n    \u239c                   \u2502 \u2500\u2500\u239f                                                 \n, 3 \u239c            -n     \u2502  2\u239f                                                 \n    \u239c0, 1/2      \u2500\u2500     \u2502 a \u239f                                                 \n    \u239d            2      \u2502   \u23a0                                                 \n\u2500\u2500\u2500\u2500\u2500\u2500\u2500\u2500\u2500\u2500\u2500\u2500\u2500\u2500\u2500\u2500\u2500\u2500\u2500\u2500\u2500\u2500\u2500\u2500\u2500\u2500\u2500\u2500\u2500                                                 \n         a                                                                    \n                                                                              \n\n                        \u239b                \u239b         2        \u239e\u239e\u239e               \n                        \u239c                \u239c        p \u22c5(n - 2)\u239f\u239f\u239f               \n                        \u239c  \u239b  n    \u239e   2\u22c5\u239cn - 1 - \u2500\u2500\u2500\u2500\u2500\u2500\u2500\u2500\u2500\u2500\u239f\u239f\u239f               \n                        \u239c2\u22c5\u239c- \u2500 + 1\u239f     \u239c             2    \u239f\u239f\u239f               \n                        \u239c  \u239d  2    \u23a0     \u239d            a     \u23a0\u239f\u239f               \n                      3\u22c5\u239c\u2500\u2500\u2500\u2500\u2500\u2500\u2500\u2500\u2500\u2500\u2500 + \u2500\u2500\u2500\u2500\u2500\u2500\u2500\u2500\u2500\u2500\u2500\u2500\u2500\u2500\u2500\u2500\u2500\u2500\u2500\u2500\u2500\u2500\u239f\u239f               \n4 \u239b   2          \u239e\u239e     \u239c   n - 2            \u239b        2\u239e     \u239f\u239f               \n \u22c5\u239d2\u22c5n  - 6\u22c5n + 4\u23a0\u239f     \u239c                    \u239c     2\u22c5p \u239f     \u239f\u239f               \n\u2500\u2500\u2500\u2500\u2500\u2500\u2500\u2500\u2500\u2500\u2500\u2500\u2500\u2500\u2500\u2500\u2500\u2500\u239f     \u239c                  n\u22c5\u239c-2 + \u2500\u2500\u2500\u2500\u239f     \u239f\u239f               \n         4        \u239f     \u239c                    \u239c       2 \u239f     \u239f\u239f               \n        a         \u23a0     \u239d                    \u239d      a  \u23a0     \u23a0\u239f    \u239b          \n\u2500\u2500\u2500\u2500\u2500\u2500\u2500\u2500\u2500\u2500\u2500\u2500\u2500\u2500\u2500\u2500\u2500\u2500\u2500 + \u2500\u2500\u2500\u2500\u2500\u2500\u2500\u2500\u2500\u2500\u2500\u2500\u2500\u2500\u2500\u2500\u2500\u2500\u2500\u2500\u2500\u2500\u2500\u2500\u2500\u2500\u2500\u2500\u2500\u2500\u2500\u2500\u2500\u2500\u2500\u2500\u2500\u2500\u2500\u2500\u239f\u22c5sin\u239c(n - 2)\u22c5as\n   4\u239e                                   2                     \u239f    \u239d          \nn\u22c5p \u239f                                  n  - 1                 \u239f               \n\u2500\u2500\u2500\u2500\u239f                                                         \u239f               \n 4  \u239f                                                         \u239f               \na   \u23a0                                                         \u23a0               \n\u2500\u2500\u2500\u2500\u2500\u2500\u2500\u2500\u2500\u2500\u2500\u2500\u2500\u2500\u2500\u2500\u2500\u2500\u2500\u2500\u2500\u2500\u2500\u2500\u2500\u2500\u2500\u2500\u2500\u2500\u2500\u2500\u2500\u2500\u2500\u2500\u2500\u2500\u2500\u2500\u2500\u2500\u2500\u2500\u2500\u2500\u2500\u2500\u2500\u2500\u2500\u2500\u2500\u2500\u2500\u2500\u2500\u2500\u2500\u2500\u2500\u2500\u2500\u2500\u2500\u2500\u2500\u2500\u2500\u2500\u2500\u2500\u2500\u2500\u2500\u2500\u2500\u2500\n                  ________                                                    \n                 \u2571      2                                                     \n                \u2571      p                                                      \n          a\u22c5   \u2571   1 - \u2500\u2500                                                     \n              \u2571         2                                                     \n            \u2572\u2571         a                                                      \n\u2500\u2500\u2500\u2500\u2500\u2500\u2500\u2500\u2500\u2500\u2500\u2500\u2500\u2500\u2500\u2500\u2500\u2500\u2500\u2500\u2500\u2500\u2500\u2500\u2500\u2500\u2500\u2500\u2500\u2500\u2500\u2500\u2500\u2500\u2500\u2500\u2500\u2500\u2500\u2500\u2500\u2500\u2500\u2500\u2500\u2500\u2500\u2500\u2500\u2500\u2500\u2500\u2500\u2500\u2500\u2500\u2500\u2500\u2500\u2500\u2500\u2500\u2500\u2500\u2500\u2500\u2500\u2500\u2500\u2500\u2500\u2500\u2500\u2500\u2500\u2500\u2500\u2500\n                                                                              \n                                                                              \n                                                                              \n\u2500\u2500\u2500\u2500\u2500\u2500\u2500\u2500\u2500\u2500\u2500\u2500\u2500\u2500\u2500\u2500\u2500\u2500\u2500\u2500\u2500\u2500\u2500\u2500\u2500\u2500\u2500\u2500\u2500\u2500\u2500\u2500\u2500\u2500\u2500\u2500\u2500\u2500\u2500\u2500\u2500\u2500\u2500\u2500\u2500\u2500\u2500\u2500\u2500\u2500\u2500\u2500\u2500\u2500\u2500\u2500\u2500\u2500\u2500\u2500\u2500\u2500\u2500\u2500\u2500\u2500\u2500\u2500\u2500\u2500\u2500\u2500\u2500\u2500\u2500\u2500\u2500\u2500\n                                                                              \n                                                                              \n                                                                              \n                                                                              \n                                                                              \n                                                                              \n                                                                              \n                                                                              \n                                                                              \n                                                                              \n                                                                              \n                                                                              \n                                                                              \n                                                                              \n                                                                              \n                                                                              \n                                                                              \n                                                                              \n                                                                              \n                                                                              \n                                                                              \n                                                                              \n                                                                              \n                                                                              \n                                                                              \n                                                                              \n                                                                              \n                                                                              \n                                                                              \n                                                                              \n\n      \u239e         \u239e                                                             \n      \u239f         \u239f                                                             \n      \u239f         \u239f                                                             \n      \u239f         \u239f                                                             \n      \u239f         \u239f                                                             \n      \u239f         \u239f                                                             \n      \u239f         \u239f                                                             \n      \u239f         \u239f                                                             \n      \u239f         \u239f                                                             \n      \u239f         \u239f                                                             \n  \u239bp\u239e\u239e\u239f         \u239f                                                             \nin\u239c\u2500\u239f\u239f\u239f         \u239f                                                             \n  \u239da\u23a0\u23a0\u239f         \u239f                                                             \n      \u239f         \u239f                                                             \n      \u239f         \u239f                                                             \n      \u239f         \u239f                                                             \n      \u239f  \u239bn    \u239e\u239f                                                             \n\u2500\u2500\u2500\u2500\u2500\u2500\u239f\u22c5\u0393\u239c\u2500 + 1\u239f\u239f                                                             \n      \u239f  \u239d2    \u23a0\u239f                                                             \n      \u239f         \u239f                                                             \n      \u239f         \u239f                                                             \n      \u239f         \u239f                                                             \n      \u239f         \u239f                                                             \n      \u23a0         \u239f                                                             \n\u2500\u2500\u2500\u2500\u2500\u2500\u2500\u2500\u2500\u2500\u2500\u2500\u2500\u2500\u2500\u2500\u239f                                                             \n                \u239f                                                             \n                \u239f      \u2502 2\u2502                                                   \n                \u23a0      \u2502p \u2502                                                   \n\u2500\u2500\u2500\u2500\u2500\u2500\u2500\u2500\u2500\u2500\u2500\u2500\u2500\u2500\u2500\u2500\u2500  for \u2502\u2500\u2500\u2502 &lt; 1, Max(0, cos(Abs(periodic_argument(polar_lift(a\n                       \u2502 2\u2502                                                   \n                       \u2502a \u2502                                                   \n                                                                              \n                                                                              \n                                                                              \n                                                                              \n                                                                              \n                                                                              \n                                                                              \n                                                                              \n                                                                              \n                                                                              \n                                                                              \n                                                                              \n                       \u2502 2\u2502                                                   \n                       \u2502a \u2502                                                   \n                   for \u2502\u2500\u2500\u2502 &lt; 1                                               \n                       \u2502 2\u2502                                                   \n                       \u2502p \u2502                                                   \n                                                                              \n                                                                              \n                                                                              \n                                                                              \n                                                                              \n                                                                              \n                                                                              \n                                                                              \n                    otherwise                                                 \n                                                                              \n                                                                              \n\n                                                                              \n                                                                              \n                                                                              \n                                                                              \n                                                                              \n                                                                              \n                                                                              \n                                                                              \n                                                                              \n                                                                              \n                                                                              \n                                                                              \n                                                                              \n                                                                              \n                                                                              \n                                                                              \n                                                                              \n                                                                              \n                                                                              \n                                                                              \n                                                                              \n                                                                              \n                                                                              \n                                                                              \n                                                                              \n                                                                              \n                                                                              \n                                    n   1   \u2502                 \u239b          2    \n)**2, oo))/2)*sqrt(Abs(a**2))), 0 &lt; \u2500 + \u2500 \u2227 \u2502periodic_argument\u239dpolar_lift (a),\n                                    2   2                                     \n                                                                              \n                                                                              \n                                                                              \n                                                                              \n                                                                              \n                                                                              \n                                                                              \n                                                                              \n                                                                              \n                                                                              \n                                                                              \n                                                                              \n                                                                              \n                                                                              \n                                                                              \n                                                                              \n                                                                              \n                                                                              \n                                                                              \n                                                                              \n                                                                              \n                                                                              \n                                                                              \n                                                                              \n                                                                              \n                                                                              \n                                                                              \n                                                                              \n                                                                              \n\n                             \u239e\n                             \u239f\n                             \u239f\n                             \u239f\n                             \u239f\n                             \u239f\n                             \u239f\n                             \u239f\n                             \u239f\n                             \u239f\n                             \u239f\n                             \u239f\n                             \u239f\n                             \u239f\n                             \u239f\n                             \u239f\n                             \u239f\n                             \u239f\n                             \u239f\n                             \u239f\n                             \u239f\n                             \u239f\n                             \u239f\n                             \u239f\n                             \u239f\n                             \u239f\n            2                \u239f\n  \u239e\u2502       p            n    \u239f\n \u221e\u23a0\u2502 &lt; \u03c0 \u2227 \u2500\u2500 \u2260 1 \u2227 0 &lt; \u2500 + 1\u239f\n            2           2    \u239f\n           a                 \u239f\n                             \u239f\n                             \u239f\n                             \u239f\n                             \u239f\n                             \u239f\n                             \u239f\n                             \u239f\n                             \u239f\n                             \u239f\n                             \u239f\n                             \u239f\n                             \u239f\n                             \u239f\n                             \u239f\n                             \u239f\n                             \u239f\n                             \u239f\n                             \u239f\n                             \u239f\n                             \u239f\n                             \u239f\n                             \u239f\n                             \u239f\n                             \u239f\n                             \u239f\n                             \u239f\n                             \u239f\n                             \u23a0"
      }
     ], 
     "prompt_number": 102
    }, 
    {
     "cell_type": "code", 
     "collapsed": false, 
     "input": "erf(a*t)", 
     "language": "python", 
     "outputs": [
      {
       "output_type": "pyout", 
       "png": "[encoded data removed]", 
       "prompt_number": 103, 
       "text": "erf(a\u22c5t)"
      }
     ], 
     "prompt_number": 103
    }, 
    {
     "cell_type": "code", 
     "collapsed": false, 
     "input": "laplace_transform(_, t, p)", 
     "language": "python", 
     "outputs": [
      {
       "output_type": "pyout", 
       "prompt_number": 104, 
       "text": "\n\u239b                    2                                                \u239e\n\u239c                   p                                                 \u239f\n\u239c                  \u2500\u2500\u2500\u2500                                               \u239f\n\u239c                     2                                               \u239f\n\u239c\u239b     \u239b p \u239e    \u239e  4\u22c5a                                                \u239f\n\u239c\u239c- erf\u239c\u2500\u2500\u2500\u239f + 1\u239f\u22c5\u212f                                                   \u239f\n\u239c\u239d     \u239d2\u22c5a\u23a0    \u23a0           \u2502                 \u239b          2      \u239e\u2502   \u03c0\u239f\n\u239c\u2500\u2500\u2500\u2500\u2500\u2500\u2500\u2500\u2500\u2500\u2500\u2500\u2500\u2500\u2500\u2500\u2500\u2500\u2500\u2500\u2500\u2500, 0, \u2502periodic_argument\u239dpolar_lift (a), \u221e\u23a0\u2502 &lt; \u2500\u239f\n\u239d          p                                                         2\u23a0"
      }
     ], 
     "prompt_number": 104
    }, 
    {
     "cell_type": "code", 
     "collapsed": false, 
     "input": "Chi(a*t)", 
     "language": "python", 
     "outputs": [
      {
       "output_type": "pyout", 
       "png": "[encoded data removed]", 
       "prompt_number": 105, 
       "text": "Chi(a\u22c5t)"
      }
     ], 
     "prompt_number": 105
    }, 
    {
     "cell_type": "code", 
     "collapsed": false, 
     "input": "laplace_transform(_, t, p)", 
     "language": "python", 
     "outputs": [
      {
       "output_type": "pyout", 
       "prompt_number": 106, 
       "text": "\n\u239b\u23a7                     \u239b 2    2\u239e                                              \n\u239c\u23aa                     \u239ca  - p \u239f  \u2148\u22c5\u03c0                                         \n\u239c\u23aa                  log\u239c\u2500\u2500\u2500\u2500\u2500\u2500\u2500\u239f\u22c5\u212f                                            \n\u239c\u23aa                     \u239c    2  \u239f                              \u2502 2\u2502            \n\u239c\u23aa                     \u239d   a   \u23a0                              \u2502p \u2502            \n\u239c\u23aa                  \u2500\u2500\u2500\u2500\u2500\u2500\u2500\u2500\u2500\u2500\u2500\u2500\u2500\u2500\u2500\u2500\u2500                     for \u2502\u2500\u2500\u2502 &lt; 1, Max(0,\n\u239c\u23aa                         2\u22c5p                                \u2502 2\u2502            \n\u239c\u23aa                                                            \u2502a \u2502            \n\u239c\u23aa                                                                            \n\u239c\u23aa          \u239b     \u239b 2\u239e      \u239b   2    2\u239e\u239e                                      \n\u239c\u23aa          \u239c     \u239ca \u239f      \u239c- a  + p \u239f\u239f  \u2148\u22c5\u03c0                                 \n\u239c\u23aa          \u239c- log\u239c\u2500\u2500\u239f + log\u239c\u2500\u2500\u2500\u2500\u2500\u2500\u2500\u2500\u2500\u239f\u239f\u22c5\u212f                                    \n\u239c\u23aa          \u239c     \u239c 2\u239f      \u239c     2   \u239f\u239f                      \u2502 2\u2502            \n\u239c\u23aa          \u239d     \u239dp \u23a0      \u239d    p    \u23a0\u23a0                      \u2502a \u2502            \n\u239c\u23aa          \u2500\u2500\u2500\u2500\u2500\u2500\u2500\u2500\u2500\u2500\u2500\u2500\u2500\u2500\u2500\u2500\u2500\u2500\u2500\u2500\u2500\u2500\u2500\u2500\u2500\u2500\u2500\u2500\u2500\u2500\u2500\u2500\u2500             for \u2502\u2500\u2500\u2502 &lt; 1        \n\u239c\u23aa                         2\u22c5p                                \u2502 2\u2502            \n\u239c\u23aa                                                            \u2502p \u2502            \n\u239c\u23aa                                                                            \n\u239c\u23aa  \u23a7              \u239b     2\u239e                                                   \n\u239c\u23aa  \u23aa              \u239c    p \u239f                                                   \n\u239c\u23aa  \u23aa         a\u22c5log\u239c1 - \u2500\u2500\u239f                                                   \n\u239c\u23a8  \u23aa              \u239c     2\u239f                \u2502 2\u2502                               \n\u239c\u23aa  \u23aa              \u239d    a \u23a0                \u2502p \u2502      \u2148\u22c5\u03c0                      \n\u239c\u23aa\u03c0\u22c5\u23aa         \u2500\u2500\u2500\u2500\u2500\u2500\u2500\u2500\u2500\u2500\u2500\u2500\u2500            for \u2502\u2500\u2500\u2502 &lt; 1\u22c5\u212f                         \n\u239c\u23aa  \u23aa              \u03c0\u22c5p                     \u2502 2\u2502                               \n\u239c\u23aa  \u23aa                                      \u2502a \u2502                               \n\u239c\u23aa  \u23aa                                                                         \n\u239c\u23aa  \u23aa        \u239b 2\u239e        \u239b   2    \u239e                                           \n\u239c\u23aa  \u23aa        \u239ca \u239f        \u239c  a     \u239f                                           \n\u239c\u23aa  \u23a8   a\u22c5log\u239c\u2500\u2500\u239f   a\u22c5log\u239c- \u2500\u2500 + 1\u239f                                           \n\u239c\u23aa  \u23aa        \u239c 2\u239f        \u239c   2    \u239f        \u2502 2\u2502                               \n\u239c\u23aa  \u23aa        \u239dp \u23a0        \u239d  p     \u23a0        \u2502a \u2502                               \n\u239c\u23aa  \u23aa - \u2500\u2500\u2500\u2500\u2500\u2500\u2500\u2500\u2500 + \u2500\u2500\u2500\u2500\u2500\u2500\u2500\u2500\u2500\u2500\u2500\u2500\u2500\u2500\u2500    for \u2502\u2500\u2500\u2502 &lt; 1                           \n\u239c\u23aa  \u23aa      \u03c0\u22c5p            \u03c0\u22c5p              \u2502 2\u2502                               \n\u239c\u23aa  \u23aa                                      \u2502p \u2502                               \n\u239c\u23aa  \u23aa                                                                         \n\u239c\u23aa  \u23aa        \u239b                  \u2502  2\u239e                                         \n\u239c\u23aa  \u23aa\u256d\u2500\u256e2, 2 \u239c1/2, 1/2   0, 0   \u2502 p \u239f                                         \n\u239c\u23aa  \u23aa\u2502\u2576\u2510     \u239c                  \u2502 \u2500\u2500\u239f   otherwise                             \n\u239c\u23aa  \u23aa\u2570\u2500\u256f4, 4 \u239c 0, 1/2   0, -1/2 \u2502  2\u239f                                         \n\u239c\u23aa  \u23a9        \u239d                  \u2502 a \u23a0                                         \n\u239c\u23aa\u2500\u2500\u2500\u2500\u2500\u2500\u2500\u2500\u2500\u2500\u2500\u2500\u2500\u2500\u2500\u2500\u2500\u2500\u2500\u2500\u2500\u2500\u2500\u2500\u2500\u2500\u2500\u2500\u2500\u2500\u2500\u2500\u2500\u2500\u2500\u2500\u2500\u2500\u2500\u2500\u2500\u2500\u2500\u2500\u2500\u2500\u2500\u2500\u2500\u2500\u2500\u2500\u2500\u2500   otherwise          \n\u239d\u23a9                         2\u22c5a                                                \n\n                                                                              \n                                                                              \n                                                                              \n                                                                              \n                                                                       \u2502      \n cos(Abs(periodic_argument(polar_lift(a)**2, oo))/2)*sqrt(Abs(a**2))), \u2502period\n                                                                              \n                                                                              \n                                                                              \n                                                                              \n                                                                              \n                                                                              \n                                                                              \n                                                                              \n                                                                              \n                                                                              \n                                                                              \n                                                                              \n                                                                              \n                                                                              \n                                                                              \n                                                                              \n                                                                              \n                                                                              \n                                                                              \n                                                                              \n                                                                              \n                                                                              \n                                                                              \n                                                                              \n                                                                              \n                                                                              \n                                                                              \n                                                                              \n                                                                              \n                                                                              \n                                                                              \n                                                                              \n                                                                              \n                                                                              \n                                                                              \n                                                                              \n                                                                              \n\n                                            \u239e\n                                            \u239f\n                                            \u239f\n                                       2    \u239f\n           \u239b          2      \u239e\u2502       p     \u239f\nic_argument\u239dpolar_lift (a), \u221e\u23a0\u2502 &lt; \u03c0 \u2227 \u2500\u2500 \u2260 1\u239f\n                                       2    \u239f\n                                      a     \u239f\n                                            \u239f\n                                            \u239f\n                                            \u239f\n                                            \u239f\n                                            \u239f\n                                            \u239f\n                                            \u239f\n                                            \u239f\n                                            \u239f\n                                            \u239f\n                                            \u239f\n                                            \u239f\n                                            \u239f\n                                            \u239f\n                                            \u239f\n                                            \u239f\n                                            \u239f\n                                            \u239f\n                                            \u239f\n                                            \u239f\n                                            \u239f\n                                            \u239f\n                                            \u239f\n                                            \u239f\n                                            \u239f\n                                            \u239f\n                                            \u239f\n                                            \u239f\n                                            \u239f\n                                            \u239f\n                                            \u239f\n                                            \u239f\n                                            \u239f\n                                            \u239f\n                                            \u23a0"
      }
     ], 
     "prompt_number": 106
    }, 
    {
     "cell_type": "code", 
     "collapsed": true, 
     "input": "", 
     "language": "python", 
     "outputs": [], 
     "prompt_number": "&nbsp;"
    }
   ]
  }
 ]
}